{
  "nbformat": 4,
  "nbformat_minor": 0,
  "metadata": {
    "colab": {
      "provenance": [],
      "toc_visible": true,
      "mount_file_id": "1D9YodlVcmFkeIBuh036zvKOLlvecP0l6",
      "authorship_tag": "ABX9TyPSxVNBXON6S4hApz4nHm9W",
      "include_colab_link": true
    },
    "kernelspec": {
      "name": "python3",
      "display_name": "Python 3"
    },
    "language_info": {
      "name": "python"
    }
  },
  "cells": [
    {
      "cell_type": "markdown",
      "metadata": {
        "id": "view-in-github",
        "colab_type": "text"
      },
      "source": [
        "<a href=\"https://colab.research.google.com/github/jakeliukayak/projecteuler/blob/main/solution.ipynb\" target=\"_parent\"><img src=\"https://colab.research.google.com/assets/colab-badge.svg\" alt=\"Open In Colab\"/></a>"
      ]
    },
    {
      "cell_type": "markdown",
      "source": [
        "# Problem 1: Multiples of 3 or 5"
      ],
      "metadata": {
        "id": "5EnUdvdjlOum"
      }
    },
    {
      "cell_type": "code",
      "source": [
        "'''\n",
        "\n",
        "Approach 1: Brute force\n",
        "\n",
        "'''\n",
        "\n",
        "total = 0\n",
        "\n",
        "for i in range(1000):\n",
        "  if i % 3 ==0 or i % 5 == 0:\n",
        "    total += i\n",
        "\n",
        "print(total)\n",
        "\n",
        "'''\n",
        "\n",
        "Approach 2: Inclusion-exclusion\n",
        "\n",
        "We know that sum of multiples of 3 = 3 + 6 + 9 + ... + 999 = 3 * (1 + 2 + 3 + ... + 333) = 3 * (334 * 333) / 2.\n",
        "Similarly, sum of multiple of 5 = 5 + 10 + 15 + ... + 995 =  5 * (1 + 2 + 3 + ... + 199) = 5 * (200 * 199) / 2, and\n",
        "sum of multiples of 15 = 15 * (1 + 2 + 3 + ... + 66) = 15 * (67 * 66) / 2.\n",
        "\n",
        "By inclusion-exclusion, we have the total as follows.\n",
        "\n",
        "'''\n",
        "\n",
        "total = 3 * (334 * 333) // 2 + 5 * (200 * 199) // 2 - 15 * (67 * 66) // 2\n",
        "\n",
        "\n",
        "print(total)"
      ],
      "metadata": {
        "colab": {
          "base_uri": "https://localhost:8080/"
        },
        "id": "wCBDxxvNlU-9",
        "outputId": "faffc317-d999-4467-c01c-de6400ddd2f3"
      },
      "execution_count": null,
      "outputs": [
        {
          "output_type": "stream",
          "name": "stdout",
          "text": [
            "233168\n",
            "233168\n"
          ]
        }
      ]
    },
    {
      "cell_type": "markdown",
      "source": [
        "# Problem 2: Even Fibonacci Numbers"
      ],
      "metadata": {
        "id": "ZB-MLC7ZoTHN"
      }
    },
    {
      "cell_type": "code",
      "source": [
        "'''\n",
        "\n",
        "Wasteful of space, see Problem 25 for a better implementation\n",
        "\n",
        "'''\n",
        "fiboList = [1, 2]\n",
        "total = 2\n",
        "\n",
        "while True:\n",
        "  new = fiboList[-2] + fiboList[-1]\n",
        "\n",
        "  if new > 4000000:\n",
        "    break\n",
        "\n",
        "  elif new % 2 == 0:\n",
        "    total += new\n",
        "\n",
        "  fiboList.append(new)\n",
        "\n",
        "print(total)\n"
      ],
      "metadata": {
        "colab": {
          "base_uri": "https://localhost:8080/"
        },
        "id": "gO0tI_JUoWhO",
        "outputId": "7bfd8c35-0758-4e89-aac9-328e1cb0c7bc"
      },
      "execution_count": 6,
      "outputs": [
        {
          "output_type": "stream",
          "name": "stdout",
          "text": [
            "4613732\n"
          ]
        }
      ]
    },
    {
      "cell_type": "code",
      "source": [
        "%%writefile p2.cpp\n",
        "#include<iostream>\n",
        "using namespace std;\n",
        "\n",
        "int main() {\n",
        "  int fibo1 = 1, fibo2 = 2, total = 0;\n",
        "\n",
        "  while (fibo2 < 4000000) {\n",
        "    if (fibo2 % 2 == 0) {\n",
        "      total += fibo2;\n",
        "    }\n",
        "    int fiboNext = fibo1 + fibo2;\n",
        "    fibo1 = fibo2;\n",
        "    fibo2 = fiboNext;\n",
        "  }\n",
        "  cout << total << endl;\n",
        "  return 0;\n",
        "}"
      ],
      "metadata": {
        "colab": {
          "base_uri": "https://localhost:8080/"
        },
        "id": "Fa6nSN9Op2rY",
        "outputId": "5d98f700-6cfe-41e3-9248-4e2fe5287530"
      },
      "execution_count": 7,
      "outputs": [
        {
          "output_type": "stream",
          "name": "stdout",
          "text": [
            "Overwriting p2.cpp\n"
          ]
        }
      ]
    },
    {
      "cell_type": "code",
      "source": [
        "!g++ p2.cpp -o p2\n",
        "!./p2"
      ],
      "metadata": {
        "colab": {
          "base_uri": "https://localhost:8080/"
        },
        "id": "sd_O5tu-qm8w",
        "outputId": "dad203d0-b6a5-4274-ea9e-0101b8b47a7c"
      },
      "execution_count": 8,
      "outputs": [
        {
          "output_type": "stream",
          "name": "stdout",
          "text": [
            "4613732\n"
          ]
        }
      ]
    },
    {
      "cell_type": "markdown",
      "source": [
        "# Problem 3: Largest Prime Factor"
      ],
      "metadata": {
        "id": "U5SBlP32qtzO"
      }
    },
    {
      "cell_type": "code",
      "source": [
        "def largestPrime(x):\n",
        "  original = x\n",
        "\n",
        "  for i in range(2, int(x ** 0.5) + 1):\n",
        "    while x % i == 0 and x // i != 1: # faster approach: check if x // i is prime\n",
        "      x //= i\n",
        "\n",
        "  if x == original:\n",
        "    return x\n",
        "\n",
        "  return largestPrime(x)\n",
        "\n",
        "print(largestPrime(600851475143))"
      ],
      "metadata": {
        "colab": {
          "base_uri": "https://localhost:8080/"
        },
        "id": "zqHvaqSyq4sl",
        "outputId": "b25f1885-ea8f-49a1-be43-526adf80031d"
      },
      "execution_count": null,
      "outputs": [
        {
          "output_type": "stream",
          "name": "stdout",
          "text": [
            "6857\n"
          ]
        }
      ]
    },
    {
      "cell_type": "markdown",
      "source": [
        "# Problem 4: Largest Palindrome Product"
      ],
      "metadata": {
        "id": "Iaq_6oyWvRvs"
      }
    },
    {
      "cell_type": "code",
      "source": [
        "largest = -9e9\n",
        "\n",
        "for i in range(100, 1000):\n",
        "  for j in range(100,1000):\n",
        "    prod = i * j\n",
        "\n",
        "    if prod > largest and str(prod) == str(prod)[::-1]:\n",
        "      largest = prod\n",
        "\n",
        "print(largest)"
      ],
      "metadata": {
        "colab": {
          "base_uri": "https://localhost:8080/"
        },
        "id": "3oFqdgGEvVE9",
        "outputId": "7fa1aec4-874e-476c-e5c3-80f428a20426"
      },
      "execution_count": null,
      "outputs": [
        {
          "output_type": "stream",
          "name": "stdout",
          "text": [
            "906609\n"
          ]
        }
      ]
    },
    {
      "cell_type": "markdown",
      "source": [
        "# Problem 5: Smallest Multiple"
      ],
      "metadata": {
        "id": "VVK4e63M1du_"
      }
    },
    {
      "cell_type": "code",
      "source": [
        "'''\n",
        "\n",
        "Iterative HCF is much better than recursive HCF.\n",
        "\n",
        "'''\n",
        "\n",
        "def HCF(x, y):\n",
        "  x, y = min(x, y), max(x, y)\n",
        "\n",
        "  if y % x == 0:\n",
        "    return x\n",
        "\n",
        "  while y % x != 0:\n",
        "    y = y % x\n",
        "    x, y = min(x, y), max(x, y)\n",
        "\n",
        "  return x\n",
        "\n",
        "'''\n",
        "\n",
        "A cleaner version of HCF\n",
        "\n",
        "def HCF(x, y):\n",
        "  assert x <= y\n",
        "\n",
        "  while x:\n",
        "    x, y = y % x, x\n",
        "\n",
        "  return y\n",
        "\n",
        "'''\n",
        "\n",
        "def LCM(x, y):\n",
        "  return x * y // HCF(x, y)\n",
        "\n",
        "def multipleLCM(numList, x=1):\n",
        "  if len(numList) == 1:\n",
        "    return LCM(numList[0], x)\n",
        "\n",
        "  else:\n",
        "    return multipleLCM(numList[1:], LCM(numList[0], x))\n",
        "\n",
        "multipleLCM(list(range(1, 21)))"
      ],
      "metadata": {
        "colab": {
          "base_uri": "https://localhost:8080/"
        },
        "id": "HY7duDFs1dgm",
        "outputId": "53e8c965-4618-48e2-9578-5ebdb832b14d"
      },
      "execution_count": null,
      "outputs": [
        {
          "output_type": "execute_result",
          "data": {
            "text/plain": [
              "232792560"
            ]
          },
          "metadata": {},
          "execution_count": 5
        }
      ]
    },
    {
      "cell_type": "markdown",
      "source": [
        "# Problem 6: Sum Square Difference"
      ],
      "metadata": {
        "id": "pktsXW5k5prO"
      }
    },
    {
      "cell_type": "code",
      "source": [
        "def sq(x):\n",
        "  return x ** 2\n",
        "\n",
        "print(sum(list(range(101))) ** 2 - sum(list(map(sq, range(101)))))"
      ],
      "metadata": {
        "colab": {
          "base_uri": "https://localhost:8080/"
        },
        "id": "0WUPCofc5u-Y",
        "outputId": "adf2b33f-2875-4afe-ed1b-9547d0b978f7"
      },
      "execution_count": null,
      "outputs": [
        {
          "output_type": "stream",
          "name": "stdout",
          "text": [
            "25164150\n"
          ]
        }
      ]
    },
    {
      "cell_type": "markdown",
      "source": [
        "# Problem 7: 10 001st Prime"
      ],
      "metadata": {
        "id": "6s3xvs-z6jNE"
      }
    },
    {
      "cell_type": "code",
      "source": [
        "'''\n",
        "\n",
        "In fact, no need primeList, or we can use primeList to achieve faster isPrime calculation.\n",
        "\n",
        "'''\n",
        "\n",
        "def isPrime(x):\n",
        "  for i in range(2, int(x ** 0.5) + 1):\n",
        "    if x % i == 0:\n",
        "      return False\n",
        "\n",
        "  else:\n",
        "    return True\n",
        "\n",
        "primeList = []\n",
        "\n",
        "i = 2\n",
        "\n",
        "while True:\n",
        "  if len(primeList) == 10001:\n",
        "    print(primeList[-1])\n",
        "    break\n",
        "\n",
        "  if isPrime(i):\n",
        "    primeList.append(i)\n",
        "\n",
        "  i += 1\n"
      ],
      "metadata": {
        "colab": {
          "base_uri": "https://localhost:8080/"
        },
        "id": "4u4UXp8_6jlg",
        "outputId": "cb938ee7-3a0b-435f-8144-5964dfe000e3"
      },
      "execution_count": null,
      "outputs": [
        {
          "output_type": "stream",
          "name": "stdout",
          "text": [
            "104743\n"
          ]
        }
      ]
    },
    {
      "cell_type": "markdown",
      "source": [
        "# Problem 8: Largest Product in a Series"
      ],
      "metadata": {
        "id": "qLI1XbnC8CcY"
      }
    },
    {
      "cell_type": "code",
      "source": [
        "import math\n",
        "\n",
        "prob = '''73167176531330624919225119674426574742355349194934\n",
        "96983520312774506326239578318016984801869478851843\n",
        "85861560789112949495459501737958331952853208805511\n",
        "12540698747158523863050715693290963295227443043557\n",
        "66896648950445244523161731856403098711121722383113\n",
        "62229893423380308135336276614282806444486645238749\n",
        "30358907296290491560440772390713810515859307960866\n",
        "70172427121883998797908792274921901699720888093776\n",
        "65727333001053367881220235421809751254540594752243\n",
        "52584907711670556013604839586446706324415722155397\n",
        "53697817977846174064955149290862569321978468622482\n",
        "83972241375657056057490261407972968652414535100474\n",
        "82166370484403199890008895243450658541227588666881\n",
        "16427171479924442928230863465674813919123162824586\n",
        "17866458359124566529476545682848912883142607690042\n",
        "24219022671055626321111109370544217506941658960408\n",
        "07198403850962455444362981230987879927244284909188\n",
        "84580156166097919133875499200524063689912560717606\n",
        "05886116467109405077541002256983155200055935729725\n",
        "71636269561882670428252483600823257530420752963450'''\n",
        "\n",
        "num = \"\".join(prob.split('\\n'))\n",
        "\n",
        "largest = -9e9\n",
        "\n",
        "for i in range(987): # num[i:i+13] does not produce index out of range error\n",
        "  prod = math.prod(list(map(int, num[i:i+13])))\n",
        "\n",
        "  if prod > largest:\n",
        "    largest = prod\n",
        "\n",
        "print(largest)"
      ],
      "metadata": {
        "colab": {
          "base_uri": "https://localhost:8080/"
        },
        "id": "JY15IBdm8C2_",
        "outputId": "e353c1eb-cef3-473a-bd4d-b4b095d22f2b"
      },
      "execution_count": null,
      "outputs": [
        {
          "output_type": "stream",
          "name": "stdout",
          "text": [
            "23514624000\n"
          ]
        }
      ]
    },
    {
      "cell_type": "markdown",
      "source": [
        "# Problem 9: Special Pythagorean Triplet"
      ],
      "metadata": {
        "id": "-HPgO5cOATCV"
      }
    },
    {
      "cell_type": "code",
      "source": [
        "loopBreaker = False\n",
        "\n",
        "for i in range(1000):\n",
        "  for j in range(i):\n",
        "    hyp = (i ** 2 + j ** 2) ** 0.5\n",
        "\n",
        "    if i + j + hyp == 1000:\n",
        "      loopBreaker = True\n",
        "      print(int(i * j * hyp))\n",
        "      break\n",
        "\n",
        "  if loopBreaker:\n",
        "    break"
      ],
      "metadata": {
        "colab": {
          "base_uri": "https://localhost:8080/"
        },
        "id": "prYsw8gKATgx",
        "outputId": "63d1ca30-7e7a-46f8-9639-b7fa349c57c0"
      },
      "execution_count": null,
      "outputs": [
        {
          "output_type": "stream",
          "name": "stdout",
          "text": [
            "31875000\n"
          ]
        }
      ]
    },
    {
      "cell_type": "markdown",
      "source": [
        "# Problem 10: Summation of Primes"
      ],
      "metadata": {
        "id": "1rJBKXlVB2mz"
      }
    },
    {
      "cell_type": "code",
      "source": [
        "def isPrime(x): # from Problem 7\n",
        "  for i in range(2, int(x ** 0.5) + 1):\n",
        "    if x % i == 0:\n",
        "      return False\n",
        "\n",
        "  else:\n",
        "    return True\n",
        "\n",
        "total = 0\n",
        "\n",
        "for i in range(2, 2000001):\n",
        "  if isPrime(i):\n",
        "    total += i\n",
        "\n",
        "print(total)"
      ],
      "metadata": {
        "colab": {
          "base_uri": "https://localhost:8080/"
        },
        "id": "kWHQhmd4B259",
        "outputId": "5b02495d-8974-449f-cbc1-59133890563e"
      },
      "execution_count": null,
      "outputs": [
        {
          "output_type": "stream",
          "name": "stdout",
          "text": [
            "142913828922\n"
          ]
        }
      ]
    },
    {
      "cell_type": "markdown",
      "source": [
        "# Problem 11: Largest Product in a Grid"
      ],
      "metadata": {
        "id": "gK0S5WkBaujy"
      }
    },
    {
      "cell_type": "code",
      "execution_count": null,
      "metadata": {
        "colab": {
          "base_uri": "https://localhost:8080/"
        },
        "id": "oGDqYk8AaoIx",
        "outputId": "b940f40b-0f72-4d86-e511-36c587f32bad"
      },
      "outputs": [
        {
          "output_type": "stream",
          "name": "stdout",
          "text": [
            "70600674\n"
          ]
        }
      ],
      "source": [
        "'''\n",
        "\n",
        "Each position has 8 directions to consider, denote as first, second, ..., eighth starting from the left\n",
        "\n",
        "'''\n",
        "\n",
        "prob = '''08 02 22 97 38 15 00 40 00 75 04 05 07 78 52 12 50 77 91 08\n",
        "49 49 99 40 17 81 18 57 60 87 17 40 98 43 69 48 04 56 62 00\n",
        "81 49 31 73 55 79 14 29 93 71 40 67 53 88 30 03 49 13 36 65\n",
        "52 70 95 23 04 60 11 42 69 24 68 56 01 32 56 71 37 02 36 91\n",
        "22 31 16 71 51 67 63 89 41 92 36 54 22 40 40 28 66 33 13 80\n",
        "24 47 32 60 99 03 45 02 44 75 33 53 78 36 84 20 35 17 12 50\n",
        "32 98 81 28 64 23 67 10 26 38 40 67 59 54 70 66 18 38 64 70\n",
        "67 26 20 68 02 62 12 20 95 63 94 39 63 08 40 91 66 49 94 21\n",
        "24 55 58 05 66 73 99 26 97 17 78 78 96 83 14 88 34 89 63 72\n",
        "21 36 23 09 75 00 76 44 20 45 35 14 00 61 33 97 34 31 33 95\n",
        "78 17 53 28 22 75 31 67 15 94 03 80 04 62 16 14 09 53 56 92\n",
        "16 39 05 42 96 35 31 47 55 58 88 24 00 17 54 24 36 29 85 57\n",
        "86 56 00 48 35 71 89 07 05 44 44 37 44 60 21 58 51 54 17 58\n",
        "19 80 81 68 05 94 47 69 28 73 92 13 86 52 17 77 04 89 55 40\n",
        "04 52 08 83 97 35 99 16 07 97 57 32 16 26 26 79 33 27 98 66\n",
        "88 36 68 87 57 62 20 72 03 46 33 67 46 55 12 32 63 93 53 69\n",
        "04 42 16 73 38 25 39 11 24 94 72 18 08 46 29 32 40 62 76 36\n",
        "20 69 36 41 72 30 23 88 34 62 99 69 82 67 59 85 74 04 36 16\n",
        "20 73 35 29 78 31 90 01 74 31 49 71 48 86 81 16 23 57 05 54\n",
        "01 70 54 71 83 51 54 69 16 92 33 48 61 43 52 01 89 19 67 48'''\n",
        "\n",
        "lines = prob.split('\\n')\n",
        "\n",
        "grid = [list(map(int, line.split())) for line in lines]\n",
        "\n",
        "def first(row, col):\n",
        "  if col-3 >= 0:\n",
        "    return grid[row][col] * grid[row][col-1] * grid[row][col-2] * grid[row][col-3]\n",
        "\n",
        "def second(row, col):\n",
        "  if row-3 >=0 and col-3 >= 0:\n",
        "    return grid[row][col] * grid[row-1][col-1] * grid[row-2][col-2] * grid[row-3][col-3]\n",
        "\n",
        "def third(row, col):\n",
        "  if row-3 >=0:\n",
        "    return grid[row][col] * grid[row-1][col] * grid[row-2][col] * grid[row-3][col]\n",
        "\n",
        "def forth(row, col):\n",
        "  if row-3 >= 0 and col+3 < 20:\n",
        "    return grid[row][col] * grid[row-1][col+1] * grid[row-2][col+2] * grid[row-3][col+3]\n",
        "\n",
        "def fifth(row, col):\n",
        "  if col+3 < 20:\n",
        "    return grid[row][col] * grid[row][col+1] * grid[row][col+2] * grid[row][col+3]\n",
        "\n",
        "def sixth(row, col):\n",
        "  if row + 3 < 20 and col+3 < 20:\n",
        "    return grid[row][col] * grid[row+1][col+1] * grid[row+2][col+2] * grid[row+3][col+3]\n",
        "\n",
        "def seventh(row, col):\n",
        "  if row + 3 < 20:\n",
        "    return grid[row][col] * grid[row+1][col] * grid[row+2][col] * grid[row+3][col]\n",
        "\n",
        "def eighth(row, col):\n",
        "  if row + 3 < 20 and col-3 >= 0:\n",
        "    return grid[row][col] * grid[row+1][col-1] * grid[row+2][col-2] * grid[row+3][col-3]\n",
        "\n",
        "greatest = -9e9\n",
        "\n",
        "for row in range(20):\n",
        "  for col in range(20):\n",
        "    directions = [first, second, third, forth, fifth, sixth, seventh, eighth]\n",
        "\n",
        "    for dir in directions:\n",
        "      value = dir(row, col)\n",
        "\n",
        "      if value != None and value > greatest:\n",
        "        greatest = value\n",
        "\n",
        "print(greatest)\n"
      ]
    },
    {
      "cell_type": "markdown",
      "source": [
        "# Problem 12: Highly Divisible Triangular Number"
      ],
      "metadata": {
        "id": "FBiArh-UGeDN"
      }
    },
    {
      "cell_type": "code",
      "source": [
        "num = 0\n",
        "idx = 1\n",
        "\n",
        "while True:\n",
        "  num += idx\n",
        "  count = 0\n",
        "\n",
        "  for i in range(1, int(num ** 0.5) + 1):\n",
        "    if num % i == 0:\n",
        "      count += 2\n",
        "\n",
        "  if count >= 500:\n",
        "    break\n",
        "\n",
        "  idx += 1\n",
        "\n",
        "print(num)"
      ],
      "metadata": {
        "id": "-GsEvUCMGgzd",
        "colab": {
          "base_uri": "https://localhost:8080/"
        },
        "outputId": "e9cf1111-484d-437f-b171-dff7f6063f54"
      },
      "execution_count": null,
      "outputs": [
        {
          "output_type": "stream",
          "name": "stdout",
          "text": [
            "76576500\n"
          ]
        }
      ]
    },
    {
      "cell_type": "markdown",
      "source": [
        "# Problem 13: Large Sum"
      ],
      "metadata": {
        "id": "o_R7Zyu_YKaQ"
      }
    },
    {
      "cell_type": "code",
      "source": [
        "prob = '''37107287533902102798797998220837590246510135740250\n",
        "46376937677490009712648124896970078050417018260538\n",
        "74324986199524741059474233309513058123726617309629\n",
        "91942213363574161572522430563301811072406154908250\n",
        "23067588207539346171171980310421047513778063246676\n",
        "89261670696623633820136378418383684178734361726757\n",
        "28112879812849979408065481931592621691275889832738\n",
        "44274228917432520321923589422876796487670272189318\n",
        "47451445736001306439091167216856844588711603153276\n",
        "70386486105843025439939619828917593665686757934951\n",
        "62176457141856560629502157223196586755079324193331\n",
        "64906352462741904929101432445813822663347944758178\n",
        "92575867718337217661963751590579239728245598838407\n",
        "58203565325359399008402633568948830189458628227828\n",
        "80181199384826282014278194139940567587151170094390\n",
        "35398664372827112653829987240784473053190104293586\n",
        "86515506006295864861532075273371959191420517255829\n",
        "71693888707715466499115593487603532921714970056938\n",
        "54370070576826684624621495650076471787294438377604\n",
        "53282654108756828443191190634694037855217779295145\n",
        "36123272525000296071075082563815656710885258350721\n",
        "45876576172410976447339110607218265236877223636045\n",
        "17423706905851860660448207621209813287860733969412\n",
        "81142660418086830619328460811191061556940512689692\n",
        "51934325451728388641918047049293215058642563049483\n",
        "62467221648435076201727918039944693004732956340691\n",
        "15732444386908125794514089057706229429197107928209\n",
        "55037687525678773091862540744969844508330393682126\n",
        "18336384825330154686196124348767681297534375946515\n",
        "80386287592878490201521685554828717201219257766954\n",
        "78182833757993103614740356856449095527097864797581\n",
        "16726320100436897842553539920931837441497806860984\n",
        "48403098129077791799088218795327364475675590848030\n",
        "87086987551392711854517078544161852424320693150332\n",
        "59959406895756536782107074926966537676326235447210\n",
        "69793950679652694742597709739166693763042633987085\n",
        "41052684708299085211399427365734116182760315001271\n",
        "65378607361501080857009149939512557028198746004375\n",
        "35829035317434717326932123578154982629742552737307\n",
        "94953759765105305946966067683156574377167401875275\n",
        "88902802571733229619176668713819931811048770190271\n",
        "25267680276078003013678680992525463401061632866526\n",
        "36270218540497705585629946580636237993140746255962\n",
        "24074486908231174977792365466257246923322810917141\n",
        "91430288197103288597806669760892938638285025333403\n",
        "34413065578016127815921815005561868836468420090470\n",
        "23053081172816430487623791969842487255036638784583\n",
        "11487696932154902810424020138335124462181441773470\n",
        "63783299490636259666498587618221225225512486764533\n",
        "67720186971698544312419572409913959008952310058822\n",
        "95548255300263520781532296796249481641953868218774\n",
        "76085327132285723110424803456124867697064507995236\n",
        "37774242535411291684276865538926205024910326572967\n",
        "23701913275725675285653248258265463092207058596522\n",
        "29798860272258331913126375147341994889534765745501\n",
        "18495701454879288984856827726077713721403798879715\n",
        "38298203783031473527721580348144513491373226651381\n",
        "34829543829199918180278916522431027392251122869539\n",
        "40957953066405232632538044100059654939159879593635\n",
        "29746152185502371307642255121183693803580388584903\n",
        "41698116222072977186158236678424689157993532961922\n",
        "62467957194401269043877107275048102390895523597457\n",
        "23189706772547915061505504953922979530901129967519\n",
        "86188088225875314529584099251203829009407770775672\n",
        "11306739708304724483816533873502340845647058077308\n",
        "82959174767140363198008187129011875491310547126581\n",
        "97623331044818386269515456334926366572897563400500\n",
        "42846280183517070527831839425882145521227251250327\n",
        "55121603546981200581762165212827652751691296897789\n",
        "32238195734329339946437501907836945765883352399886\n",
        "75506164965184775180738168837861091527357929701337\n",
        "62177842752192623401942399639168044983993173312731\n",
        "32924185707147349566916674687634660915035914677504\n",
        "99518671430235219628894890102423325116913619626622\n",
        "73267460800591547471830798392868535206946944540724\n",
        "76841822524674417161514036427982273348055556214818\n",
        "97142617910342598647204516893989422179826088076852\n",
        "87783646182799346313767754307809363333018982642090\n",
        "10848802521674670883215120185883543223812876952786\n",
        "71329612474782464538636993009049310363619763878039\n",
        "62184073572399794223406235393808339651327408011116\n",
        "66627891981488087797941876876144230030984490851411\n",
        "60661826293682836764744779239180335110989069790714\n",
        "85786944089552990653640447425576083659976645795096\n",
        "66024396409905389607120198219976047599490197230297\n",
        "64913982680032973156037120041377903785566085089252\n",
        "16730939319872750275468906903707539413042652315011\n",
        "94809377245048795150954100921645863754710598436791\n",
        "78639167021187492431995700641917969777599028300699\n",
        "15368713711936614952811305876380278410754449733078\n",
        "40789923115535562561142322423255033685442488917353\n",
        "44889911501440648020369068063960672322193204149535\n",
        "41503128880339536053299340368006977710650566631954\n",
        "81234880673210146739058568557934581403627822703280\n",
        "82616570773948327592232845941706525094512325230608\n",
        "22918802058777319719839450180888072429661980811197\n",
        "77158542502016545090413245809786882778948721859617\n",
        "72107838435069186155435662884062257473692284509516\n",
        "20849603980134001723930671666823555245252804609722\n",
        "53503534226472524250874054075591789781264330331690'''\n",
        "\n",
        "def truncate(num: str) -> str:\n",
        "  return num[0:13] # worst case we have 100 9s -> sum is 900, so taking 13 digits is safe. (3 digits more = 10^3 = 1000)\n",
        "\n",
        "print(int(str(sum(list(map(int, list(map(truncate, prob.split('\\n')))))))[0:10]))"
      ],
      "metadata": {
        "colab": {
          "base_uri": "https://localhost:8080/"
        },
        "id": "uikE7ujpYKIU",
        "outputId": "96cbbe07-fe29-41f0-d27e-9e8d00b0600b"
      },
      "execution_count": null,
      "outputs": [
        {
          "output_type": "stream",
          "name": "stdout",
          "text": [
            "5537376230\n"
          ]
        }
      ]
    },
    {
      "cell_type": "markdown",
      "source": [
        "# Problem 14: Longest Collatz Sequence"
      ],
      "metadata": {
        "id": "kKeApPegg9VA"
      }
    },
    {
      "cell_type": "code",
      "source": [
        "'''\n",
        "\n",
        "Should have included a list to store computed values and their counts to reduce time and space complexity.\n",
        "\n",
        "'''\n",
        "\n",
        "def threeNPlusOne(x, count):\n",
        "  if x == 1:\n",
        "    return count\n",
        "\n",
        "  elif x % 2 == 0:\n",
        "    while x % 2 == 0:\n",
        "      x  = x // 2\n",
        "      count += 1\n",
        "\n",
        "    return threeNPlusOne(x, count)\n",
        "\n",
        "  else:\n",
        "    while x % 2 != 0:\n",
        "      x = 3 * x + 1\n",
        "      count += 1\n",
        "\n",
        "    return threeNPlusOne(x, count)\n",
        "\n",
        "longest = -9e9\n",
        "\n",
        "for x in range(1, 1000001):\n",
        "  chain = threeNPlusOne(x, 1)\n",
        "\n",
        "  if chain > longest:\n",
        "    longest = chain\n",
        "    longest_x = x\n",
        "\n",
        "print(longest_x)\n"
      ],
      "metadata": {
        "colab": {
          "base_uri": "https://localhost:8080/"
        },
        "id": "c8IDxE0pg9G7",
        "outputId": "b411731d-9118-4f41-9fcf-803690e73472"
      },
      "execution_count": null,
      "outputs": [
        {
          "output_type": "stream",
          "name": "stdout",
          "text": [
            "837799\n"
          ]
        }
      ]
    },
    {
      "cell_type": "markdown",
      "source": [
        "# Problem 15: Lattice Paths"
      ],
      "metadata": {
        "id": "FwBvuQToaBLG"
      }
    },
    {
      "cell_type": "code",
      "source": [
        "'''\n",
        "\n",
        "A discrete mathematics approach\n",
        "\n",
        "'''\n",
        "\n",
        "def fac(x):\n",
        "  prod = 1\n",
        "\n",
        "  for i in range(2, x+1):\n",
        "    prod *= i\n",
        "\n",
        "  return prod\n",
        "\n",
        "print(fac(40) // fac(20) // fac(20))"
      ],
      "metadata": {
        "colab": {
          "base_uri": "https://localhost:8080/"
        },
        "id": "8q3hoXiuaBva",
        "outputId": "f33d4860-5e94-4134-c2ca-37b2aaec5db2"
      },
      "execution_count": null,
      "outputs": [
        {
          "output_type": "stream",
          "name": "stdout",
          "text": [
            "137846528820\n"
          ]
        }
      ]
    },
    {
      "cell_type": "markdown",
      "source": [
        "# Problem 16: Power Digit Sum"
      ],
      "metadata": {
        "id": "RdBY6AbobTQS"
      }
    },
    {
      "cell_type": "code",
      "source": [
        "print(sum(list(map(int, str(2 ** 1000)))))"
      ],
      "metadata": {
        "colab": {
          "base_uri": "https://localhost:8080/"
        },
        "id": "Laj1rz8ibTgm",
        "outputId": "799b230c-8768-4061-aabe-84ac95cbf4d4"
      },
      "execution_count": null,
      "outputs": [
        {
          "output_type": "stream",
          "name": "stdout",
          "text": [
            "1366\n"
          ]
        }
      ]
    },
    {
      "cell_type": "markdown",
      "source": [
        "# Problem 18: Maximum Path Sum I"
      ],
      "metadata": {
        "id": "RsRQktwRb4EI"
      }
    },
    {
      "cell_type": "code",
      "source": [
        "prob = '''75\n",
        "95 64\n",
        "17 47 82\n",
        "18 35 87 10\n",
        "20 04 82 47 65\n",
        "19 01 23 75 03 34\n",
        "88 02 77 73 07 63 67\n",
        "99 65 04 28 06 16 70 92\n",
        "41 41 26 56 83 40 80 70 33\n",
        "41 48 72 33 47 32 37 16 94 29\n",
        "53 71 44 65 25 43 91 52 97 51 14\n",
        "70 11 33 28 77 73 17 78 39 68 17 57\n",
        "91 71 52 38 17 14 91 43 58 50 27 29 48\n",
        "63 66 04 68 89 53 67 30 73 16 69 87 40 31\n",
        "04 62 98 27 23 09 70 98 73 93 38 53 60 04 23'''\n",
        "\n",
        "def split(s: str) -> list:\n",
        "  return list(map(int, s.split()))\n",
        "\n",
        "triangle = list(map(split, prob.split('\\n')))\n",
        "\n",
        "def maxPathSum(triangle):\n",
        "  loop = len(triangle) - 1\n",
        "\n",
        "  for row in range(loop, 0, -1):\n",
        "    for col in range(0, row):\n",
        "      triangle[row-1][col] += max(triangle[row][col], triangle[row][col+1])\n",
        "\n",
        "  return triangle[0][0]\n",
        "\n",
        "print(maxPathSum(triangle))\n"
      ],
      "metadata": {
        "colab": {
          "base_uri": "https://localhost:8080/"
        },
        "id": "lADSOl7sb4S8",
        "outputId": "7e9e7119-6f6b-4eca-b3b0-0fc4551237ce"
      },
      "execution_count": null,
      "outputs": [
        {
          "output_type": "stream",
          "name": "stdout",
          "text": [
            "1074\n"
          ]
        }
      ]
    },
    {
      "cell_type": "markdown",
      "source": [
        "# Problem 20: Factorial Digit Sum"
      ],
      "metadata": {
        "id": "zNFbyJ-ckV5y"
      }
    },
    {
      "cell_type": "code",
      "source": [
        "'''\n",
        "\n",
        "Brute force approach\n",
        "\n",
        "'''\n",
        "\n",
        "def fac(x): # from Problem 15\n",
        "  prod = 1\n",
        "\n",
        "  for i in range(2, x+1):\n",
        "    prod *= i\n",
        "\n",
        "  return prod\n",
        "\n",
        "print(sum(list(map(int, str(fac(100))))))"
      ],
      "metadata": {
        "colab": {
          "base_uri": "https://localhost:8080/"
        },
        "id": "gwJCAbiPkYvR",
        "outputId": "ec7a9b3d-6729-4ec4-e3c9-b809df885049"
      },
      "execution_count": null,
      "outputs": [
        {
          "output_type": "stream",
          "name": "stdout",
          "text": [
            "648\n"
          ]
        }
      ]
    },
    {
      "cell_type": "markdown",
      "source": [
        "# Problem 21: Amicable Numbers"
      ],
      "metadata": {
        "id": "dKxgHMQ9k3NV"
      }
    },
    {
      "cell_type": "code",
      "source": [
        "def sumOfFactors(x):\n",
        "  total = -x\n",
        "\n",
        "  for i in range(1, int(x ** 0.5) + 1):\n",
        "    if x % i == 0:\n",
        "      if i != x // i:\n",
        "        total += i + x // i\n",
        "\n",
        "      else:\n",
        "        total += i\n",
        "\n",
        "  return total\n",
        "\n",
        "output = 0\n",
        "\n",
        "for i in range(1, 10000):\n",
        "  potentialCandidate = sumOfFactors(i) # Loop only 1 time, 5000 times faster\n",
        "  # Knowledge: both numbers in these pairs won't exceed 10000\n",
        "\n",
        "  if potentialCandidate > i and sumOfFactors(potentialCandidate) == i:\n",
        "    output += i + potentialCandidate\n",
        "\n",
        "print(output)"
      ],
      "metadata": {
        "colab": {
          "base_uri": "https://localhost:8080/"
        },
        "id": "2R6Q8v3Sk3iU",
        "outputId": "c631b47d-0cb2-4831-ef29-a7103acfca4f"
      },
      "execution_count": null,
      "outputs": [
        {
          "output_type": "stream",
          "name": "stdout",
          "text": [
            "31626\n"
          ]
        }
      ]
    },
    {
      "cell_type": "markdown",
      "source": [
        "# Problem 22: Names Scores"
      ],
      "metadata": {
        "id": "oFZM_OoMq-Vk"
      }
    },
    {
      "cell_type": "code",
      "source": [
        "import requests\n",
        "\n",
        "url = \"https://projecteuler.net/resources/documents/0022_names.txt\"\n",
        "response = requests.get(url)\n",
        "\n",
        "if response.status_code == 200:\n",
        "    file_content = response.text\n",
        "\n",
        "else:\n",
        "    print(f\"Failed to retrieve file. Status code: {response.status_code}\")\n",
        "\n",
        "prob = file_content.split(',')\n",
        "\n",
        "def removeQuotation(name):\n",
        "  return name[1:-1]\n",
        "\n",
        "prob = list(map(removeQuotation, prob))\n",
        "prob.sort()\n",
        "\n",
        "def charValue(char):\n",
        "  return ord(char) - 64\n",
        "\n",
        "def nameValue(name: str):\n",
        "  return sum(list(map(charValue, name)))\n",
        "\n",
        "total = 0\n",
        "idx = 1\n",
        "\n",
        "for name in prob:\n",
        "  total += nameValue(name) * idx\n",
        "  idx += 1\n",
        "\n",
        "print(total)"
      ],
      "metadata": {
        "colab": {
          "base_uri": "https://localhost:8080/"
        },
        "id": "N1KOzQ65tpiS",
        "outputId": "98c265dc-1899-404f-a52a-61705ef6562a"
      },
      "execution_count": null,
      "outputs": [
        {
          "output_type": "stream",
          "name": "stdout",
          "text": [
            "871198282\n"
          ]
        }
      ]
    },
    {
      "cell_type": "markdown",
      "source": [
        "# Problem 23: Non-Abundant Sums (Pending Optimization)"
      ],
      "metadata": {
        "id": "rvAUO_zAR-op"
      }
    },
    {
      "cell_type": "code",
      "source": [
        "def sumOfFactors(x):\n",
        "  total = -x\n",
        "\n",
        "  for i in range(1, int(x ** 0.5) + 1):\n",
        "    if x % i == 0:\n",
        "      if i != x // i:\n",
        "        total += i + x // i\n",
        "\n",
        "      else:\n",
        "        total += i\n",
        "\n",
        "  return total\n",
        "\n",
        "abundantList = [i for i in range(1, 28124) if sumOfFactors(i) > i]\n",
        "\n",
        "total = 0\n",
        "\n",
        "temp = []\n",
        "\n",
        "for i in abundantList:\n",
        "  if 28124 - i in abundantList:\n",
        "    temp.append(i)\n",
        "\n",
        "print(len(temp) // 2)\n",
        "\n",
        "\n",
        "for i in range(1, 28124):\n",
        "  break\n",
        "  nothing = False\n",
        "\n",
        "  for abundant in abundantList:\n",
        "    if False:\n",
        "      nothing = True\n",
        "      break\n",
        "\n",
        "    elif i - abundant in abundantList:\n",
        "      break\n",
        "\n",
        "  if nothing:\n",
        "    total += i\n",
        "\n",
        "print(total)"
      ],
      "metadata": {
        "colab": {
          "base_uri": "https://localhost:8080/"
        },
        "id": "WqW0y38ZR-2Y",
        "outputId": "1c55c0de-42e5-4391-e768-d63a73b0135a"
      },
      "execution_count": null,
      "outputs": [
        {
          "output_type": "stream",
          "name": "stdout",
          "text": [
            "1278\n",
            "0\n"
          ]
        }
      ]
    },
    {
      "cell_type": "markdown",
      "source": [
        "# Problem 24: Lexicographic Permutations (Solved, Code TBD)"
      ],
      "metadata": {
        "id": "_LlrkrJexsQG"
      }
    },
    {
      "cell_type": "code",
      "source": [
        "'''\n",
        "\n",
        "There are 10! = 3628800 permutations in total. Hence we know that the millionth permutation starts from \"2\" (as 9! = 362880).\n",
        "\n",
        "'''\n",
        "\n",
        "numList = list(range(10))\n",
        "\n",
        "def fac(x): # from Problem 15\n",
        "  prod = 1\n",
        "\n",
        "  for i in range(2, x+1):\n",
        "    prod *= i\n",
        "\n",
        "  return prod\n",
        "\n",
        "goal = 1000000\n",
        "output = ''\n",
        "\n",
        "for i in range(9, 0, -1):\n",
        "  idx = goal // fac(i) # using // and % gives wrong result if remainder equals 0\n",
        "  goal %= fac(i)\n",
        "\n",
        "  if goal == 0:\n",
        "    print(idx)\n",
        "    break\n",
        "\n",
        "  char = numList[idx]\n",
        "  output += str(char)\n",
        "  numList.remove(char)\n",
        "\n",
        "2 * fac(9) + 7 * fac(8) + 8 * fac\n"
      ],
      "metadata": {
        "colab": {
          "base_uri": "https://localhost:8080/",
          "height": 193
        },
        "id": "ss2yVN4uxseE",
        "outputId": "5bc9e8e7-e108-4fa5-c92f-cd87339b3e9b"
      },
      "execution_count": null,
      "outputs": [
        {
          "output_type": "stream",
          "name": "stdout",
          "text": [
            "2\n"
          ]
        },
        {
          "output_type": "error",
          "ename": "TypeError",
          "evalue": "unsupported operand type(s) for *: 'int' and 'function'",
          "traceback": [
            "\u001b[0;31m---------------------------------------------------------------------------\u001b[0m",
            "\u001b[0;31mTypeError\u001b[0m                                 Traceback (most recent call last)",
            "\u001b[0;32m/tmp/ipython-input-3005988422.py\u001b[0m in \u001b[0;36m<cell line: 0>\u001b[0;34m()\u001b[0m\n\u001b[1;32m     30\u001b[0m   \u001b[0mnumList\u001b[0m\u001b[0;34m.\u001b[0m\u001b[0mremove\u001b[0m\u001b[0;34m(\u001b[0m\u001b[0mchar\u001b[0m\u001b[0;34m)\u001b[0m\u001b[0;34m\u001b[0m\u001b[0;34m\u001b[0m\u001b[0m\n\u001b[1;32m     31\u001b[0m \u001b[0;34m\u001b[0m\u001b[0m\n\u001b[0;32m---> 32\u001b[0;31m \u001b[0;36m2\u001b[0m \u001b[0;34m*\u001b[0m \u001b[0mfac\u001b[0m\u001b[0;34m(\u001b[0m\u001b[0;36m9\u001b[0m\u001b[0;34m)\u001b[0m \u001b[0;34m+\u001b[0m \u001b[0;36m7\u001b[0m \u001b[0;34m*\u001b[0m \u001b[0mfac\u001b[0m\u001b[0;34m(\u001b[0m\u001b[0;36m8\u001b[0m\u001b[0;34m)\u001b[0m \u001b[0;34m+\u001b[0m \u001b[0;36m8\u001b[0m \u001b[0;34m*\u001b[0m \u001b[0mfac\u001b[0m\u001b[0;34m\u001b[0m\u001b[0;34m\u001b[0m\u001b[0m\n\u001b[0m",
            "\u001b[0;31mTypeError\u001b[0m: unsupported operand type(s) for *: 'int' and 'function'"
          ]
        }
      ]
    },
    {
      "cell_type": "markdown",
      "source": [
        "# Problem 25: 1000-digit Fibonacci Number"
      ],
      "metadata": {
        "id": "iCmE02WI6x3W"
      }
    },
    {
      "cell_type": "code",
      "source": [
        "'''\n",
        "\n",
        "The method in Problem 2 is quite expensive in space complexity. We try to modify the code here.\n",
        "\n",
        "'''\n",
        "\n",
        "a = 1\n",
        "b = 1\n",
        "idx = 2\n",
        "\n",
        "while len(str(b)) < 1000:\n",
        "  a, b = b, a + b\n",
        "  idx += 1\n",
        "\n",
        "print(idx)"
      ],
      "metadata": {
        "colab": {
          "base_uri": "https://localhost:8080/"
        },
        "id": "arPZzojq3uLf",
        "outputId": "44b00453-7cc8-4d30-a856-1a8e40e4a58a"
      },
      "execution_count": null,
      "outputs": [
        {
          "output_type": "stream",
          "name": "stdout",
          "text": [
            "4782\n"
          ]
        }
      ]
    },
    {
      "cell_type": "markdown",
      "source": [
        "# Problem 27: Quadratic Primes"
      ],
      "metadata": {
        "id": "bcdjW94MWSTk"
      }
    },
    {
      "cell_type": "code",
      "source": [
        "def isPrime(x): # from Problem 7\n",
        "  for i in range(2, int(x ** 0.5) + 1):\n",
        "    if x % i == 0:\n",
        "      return False\n",
        "\n",
        "  else:\n",
        "    return True\n",
        "\n",
        "def formula(n, a, b):\n",
        "  return n ** 2 + a * n + b\n",
        "\n",
        "best_a = None\n",
        "best_b = None\n",
        "longest = -1e9\n",
        "\n",
        "for b in range(-1000, 1001):\n",
        "  if not isPrime(abs(b)): # limitation of isPrime: can only handle nonnegative values of x. Also, x = 0, 1 returns True\n",
        "    continue\n",
        "\n",
        "  for a in range(-999, 1000):\n",
        "    n = 1\n",
        "\n",
        "    while isPrime(abs(formula(n, a, b))):\n",
        "      n += 1\n",
        "\n",
        "    if n > longest:\n",
        "      longest = n\n",
        "      best_a = a\n",
        "      best_b = b\n",
        "\n",
        "print(best_a * best_b)\n"
      ],
      "metadata": {
        "colab": {
          "base_uri": "https://localhost:8080/"
        },
        "id": "V7injQGWWSpW",
        "outputId": "b33123a6-b3f4-4e90-a617-2d9586c81428"
      },
      "execution_count": null,
      "outputs": [
        {
          "output_type": "stream",
          "name": "stdout",
          "text": [
            "-59231\n"
          ]
        }
      ]
    },
    {
      "cell_type": "markdown",
      "source": [
        "# Problem 28: Number Spiral Diagonals"
      ],
      "metadata": {
        "id": "PEQNvb0i8Lzg"
      }
    },
    {
      "cell_type": "code",
      "source": [
        "dim = 1001\n",
        "trial = dim // 2\n",
        "total = 1\n",
        "num = 1\n",
        "\n",
        "for i in range(1, trial + 1):\n",
        "  for j in range(4):\n",
        "    num += 2 * i\n",
        "    total += num\n",
        "\n",
        "print(total)"
      ],
      "metadata": {
        "colab": {
          "base_uri": "https://localhost:8080/"
        },
        "id": "mX5qlCyY8MEm",
        "outputId": "3229bd8c-e885-416c-e03b-4653dfa48722"
      },
      "execution_count": null,
      "outputs": [
        {
          "output_type": "stream",
          "name": "stdout",
          "text": [
            "669171001\n"
          ]
        }
      ]
    },
    {
      "cell_type": "markdown",
      "source": [
        "# Problem 29: Distinct Powers"
      ],
      "metadata": {
        "id": "xb6V1xt69lNI"
      }
    },
    {
      "cell_type": "code",
      "source": [
        "sequence = set()\n",
        "\n",
        "for i in range(2, 101):\n",
        "  for j in range(2, 101):\n",
        "    sequence.add(i ** j)\n",
        "\n",
        "print(len(sequence))"
      ],
      "metadata": {
        "colab": {
          "base_uri": "https://localhost:8080/"
        },
        "id": "r7mn1x9u9lgf",
        "outputId": "3c5e8c5c-50d5-4ab4-ce4a-64a0492c2766"
      },
      "execution_count": null,
      "outputs": [
        {
          "output_type": "stream",
          "name": "stdout",
          "text": [
            "9183\n"
          ]
        }
      ]
    },
    {
      "cell_type": "markdown",
      "source": [
        "# Problem 33: Digit Cancelling Fractions"
      ],
      "metadata": {
        "id": "qCREvZ0uIrNv"
      }
    },
    {
      "cell_type": "code",
      "source": [
        "'''\n",
        "\n",
        "Write (ab) / (cd) (a, b, c, d: digits). There are 4 possible cases.\n",
        "\n",
        "I. a = c: We won't have (b) / (d) = (ac) / (bd) (obvious)\n",
        "\n",
        "II. b = d: We won't have (a) / (c) = (ac) / (bd) (obvious), unless b = d = 0, which, is excluded.\n",
        "\n",
        "Hence we only consider III. a = d and IV. b = c.\n",
        "\n",
        "'''\n",
        "\n",
        "def HCF(x, y): # from Problem 5\n",
        "  x, y = min(x, y), max(x, y)\n",
        "\n",
        "  while x:\n",
        "    x, y = y % x, x\n",
        "\n",
        "  return y\n",
        "\n",
        "outputNum = 1\n",
        "outputDenom = 1\n",
        "\n",
        "for denom in range(11, 99):\n",
        "  for num in range(10, denom):\n",
        "    tensNum = int(str(num)[0])\n",
        "    onesNum = int(str(num)[1])\n",
        "    tensDenom = int(str(denom)[0])\n",
        "    onesDenom = int(str(denom)[1])\n",
        "\n",
        "    if tensNum == onesDenom and onesNum / tensDenom == num / denom:\n",
        "      outputNum *= onesNum\n",
        "      outputDenom *= tensDenom\n",
        "\n",
        "    elif onesNum == tensDenom and onesDenom!= 0 and tensNum / onesDenom == num / denom:\n",
        "      outputNum *= tensNum\n",
        "      outputDenom *= onesDenom\n",
        "\n",
        "print(outputDenom // HCF(outputNum, outputDenom))"
      ],
      "metadata": {
        "colab": {
          "base_uri": "https://localhost:8080/"
        },
        "id": "CUeVrUW3Irga",
        "outputId": "0a3415bd-c521-4ab7-f587-f210dfd5937a"
      },
      "execution_count": null,
      "outputs": [
        {
          "output_type": "stream",
          "name": "stdout",
          "text": [
            "100\n"
          ]
        }
      ]
    },
    {
      "cell_type": "markdown",
      "source": [
        "# Problem 35: Circular Primes"
      ],
      "metadata": {
        "id": "Wz5F9PE8dL5-"
      }
    },
    {
      "cell_type": "code",
      "source": [
        "def isPrime(x): # from Problem 7\n",
        "  for i in range(2, int(x ** 0.5) + 1):\n",
        "    if x % i == 0:\n",
        "      return False\n",
        "\n",
        "  else:\n",
        "    return True\n",
        "\n",
        "count = 0\n",
        "\n",
        "for i in range(2, 1000000):\n",
        "  consider = str(i)\n",
        "\n",
        "  for j in range(len(str(i))):\n",
        "    consider = consider[1:] + consider[0]\n",
        "\n",
        "    if not isPrime(int(consider)):\n",
        "      break\n",
        "\n",
        "  else:\n",
        "    count += 1\n",
        "\n",
        "print(count)"
      ],
      "metadata": {
        "colab": {
          "base_uri": "https://localhost:8080/"
        },
        "id": "42yp3pCOdMKG",
        "outputId": "a6880b6e-3b30-4396-a807-b6084938b972"
      },
      "execution_count": null,
      "outputs": [
        {
          "output_type": "stream",
          "name": "stdout",
          "text": [
            "55\n"
          ]
        }
      ]
    },
    {
      "cell_type": "markdown",
      "source": [
        "# Problem 36: Double-base Palindromes"
      ],
      "metadata": {
        "id": "nVCKMMs2967_"
      }
    },
    {
      "cell_type": "code",
      "source": [
        "total = 0\n",
        "\n",
        "for num in range(1, 1000000):\n",
        "  if str(num) == str(num)[::-1] and bin(num)[2:] == bin(num)[2::][::-1]:\n",
        "    total += num\n",
        "\n",
        "print(total)"
      ],
      "metadata": {
        "colab": {
          "base_uri": "https://localhost:8080/"
        },
        "id": "Ke0ihbsi97Mu",
        "outputId": "4766e3b6-790a-419f-d5cf-b5d7032140a8"
      },
      "execution_count": null,
      "outputs": [
        {
          "output_type": "stream",
          "name": "stdout",
          "text": [
            "872187\n"
          ]
        }
      ]
    },
    {
      "cell_type": "markdown",
      "source": [
        "# Problem 39: Integer Right Triangles"
      ],
      "metadata": {
        "id": "Azv-bUutk0FR"
      }
    },
    {
      "cell_type": "code",
      "source": [
        "best_p = None\n",
        "best_solCount = -1e9\n",
        "\n",
        "for p in range(1, 1000):\n",
        "  solCount = 0\n",
        "\n",
        "  for i in range(1, p//2):\n",
        "    for j in range(1, i): # if i == j then the hypotenuse is not an int.\n",
        "      h = p - i - j\n",
        "\n",
        "      if i + j > h and i ** 2 + j ** 2 == h ** 2:\n",
        "        solCount += 1\n",
        "\n",
        "  if solCount > best_solCount:\n",
        "    best_solCount = solCount\n",
        "    best_p = p\n",
        "\n",
        "print(best_p)"
      ],
      "metadata": {
        "colab": {
          "base_uri": "https://localhost:8080/"
        },
        "id": "SmDpOkerk0Vj",
        "outputId": "570d2de4-54c2-47bc-bf4f-966149705be4"
      },
      "execution_count": null,
      "outputs": [
        {
          "output_type": "stream",
          "name": "stdout",
          "text": [
            "840\n"
          ]
        }
      ]
    },
    {
      "cell_type": "markdown",
      "source": [
        "# Problem 40: Champernowne's Constant (Solved, Code TBD)"
      ],
      "metadata": {
        "id": "U_f3268KQubN"
      }
    },
    {
      "cell_type": "code",
      "source": [],
      "metadata": {
        "id": "FIrGPBIRQyee"
      },
      "execution_count": null,
      "outputs": []
    },
    {
      "cell_type": "markdown",
      "source": [
        "# Problem 41: Pandigital Prime"
      ],
      "metadata": {
        "id": "uLtebZFEQJ1-"
      }
    },
    {
      "cell_type": "code",
      "source": [
        "def isPrime(x): # from Problem 7\n",
        "  for i in range(2, int(x ** 0.5) + 1):\n",
        "    if x % i == 0:\n",
        "      return False\n",
        "\n",
        "  else:\n",
        "    return True\n",
        "\n",
        "def isPandigital(x):\n",
        "  return len(str(x)) == len(set(str(x))) and len(str(x)) == max(list(map(int, str(x)))) and min(list(map(int, str(x)))) == 1\n",
        "\n",
        "for i in range(7654321, 0, -1): # eliminate perm([1, 2, 3, 4, 5, 6, 7, 8, 9]) and perm([1, 2, 3, 4, 5, 6, 7, 8]) as they are clearly divisible by 3 (and 9).\n",
        "  if isPrime(i) and isPandigital(i):\n",
        "    break\n",
        "\n",
        "print(i)\n",
        "\n"
      ],
      "metadata": {
        "id": "VRNw9MXjQKQy",
        "colab": {
          "base_uri": "https://localhost:8080/"
        },
        "outputId": "05abd035-2c64-4064-d068-94ebf79d8a6b"
      },
      "execution_count": null,
      "outputs": [
        {
          "output_type": "stream",
          "name": "stdout",
          "text": [
            "7652413\n"
          ]
        }
      ]
    },
    {
      "cell_type": "markdown",
      "source": [
        "# Problem 42: Coded Triangle Numbers"
      ],
      "metadata": {
        "id": "hJsJGQ9xTT-A"
      }
    },
    {
      "cell_type": "code",
      "source": [
        "'''\n",
        "\n",
        "Solving the eqn 1/2 * n * (n+1) - sum(char) = 0. Note that there is always one positive and one negative root. We want the positive root.\n",
        "\n",
        "'''\n",
        "\n",
        "# (file handling inspired) from Problem 22\n",
        "\n",
        "import requests\n",
        "\n",
        "url = \"https://projecteuler.net/resources/documents/0042_words.txt\"\n",
        "response = requests.get(url)\n",
        "\n",
        "if response.status_code == 200:\n",
        "    file_content = response.text\n",
        "\n",
        "else:\n",
        "    print(f\"Failed to retrieve file. Status code: {response.status_code}\")\n",
        "\n",
        "prob = file_content.split(',')\n",
        "\n",
        "def removeQuotation(name):\n",
        "  return name[1:-1]\n",
        "\n",
        "prob = list(map(removeQuotation, prob))\n",
        "prob.sort()\n",
        "\n",
        "def charValue(char): # from Problem 22\n",
        "  return ord(char) - 64\n",
        "\n",
        "def nameValue(name: str): # from Problem 22\n",
        "  return sum(list(map(charValue, name)))\n",
        "\n",
        "count = 0\n",
        "\n",
        "for name in prob:\n",
        "  n = (-1 + (1 + 8 * nameValue(name)) ** 0.5) / 2\n",
        "\n",
        "  if n % 1 == 0:\n",
        "    count += 1\n",
        "\n",
        "print(count)\n"
      ],
      "metadata": {
        "colab": {
          "base_uri": "https://localhost:8080/"
        },
        "id": "5TA25RNVTUQB",
        "outputId": "64eeec73-df43-40a0-9ddc-eec0e81b312a"
      },
      "execution_count": null,
      "outputs": [
        {
          "output_type": "stream",
          "name": "stdout",
          "text": [
            "162\n"
          ]
        }
      ]
    },
    {
      "cell_type": "markdown",
      "source": [
        "# Problem 43: Sub-string Divisibility"
      ],
      "metadata": {
        "id": "ItPfmUTSj-oF"
      }
    },
    {
      "cell_type": "code",
      "source": [
        "'''\n",
        "\n",
        "There are 9 * 9! permutations to check. Therefore we can't proceed with brute force.\n",
        "\n",
        "Hint1: d4d5d6 is divisible by 5 -> I. d6 = 0 or II. d6 = 5\n",
        "\n",
        "Hint2: d6d7d8 is divisible by 11 -> I. doesn't make sense! Hence we confirm d6 = 5.\n",
        "\n",
        "First thing first, why don't we proceed with searching for d7 and d8 based on Hint2?\n",
        "\n",
        "(Of course, this code can be refactored to a better version.)\n",
        "\n",
        "'''\n",
        "\n",
        "divisibleBy5And11 = []\n",
        "\n",
        "for d7 in range(0, 10):\n",
        "  for d8 in range(0, 10):\n",
        "    if d7 == 5 or d8 == 5 or d7 == d8:\n",
        "      continue\n",
        "\n",
        "    else:\n",
        "      if (500 + d7 * 10 + d8) % 11 == 0:\n",
        "        divisibleBy5And11.append((d7, d8))\n",
        "\n",
        "'''\n",
        "\n",
        "There are 8 pairs of (d7, d8) satisfying Hint2: (0, 6), (1, 7), (2, 8), (3, 9), (6, 1), (7, 2), (8, 3), (9, 4).\n",
        "\n",
        "'''\n",
        "\n",
        "divisibleBy5And11And13 = []\n",
        "\n",
        "for (d7, d8) in divisibleBy5And11:\n",
        "  for d9 in range(10):\n",
        "    if d9 != 5 and len(set([d7, d8, d9])) == 3 and (d7 * 100 + d8 * 10 + d9) % 13 == 0:\n",
        "      divisibleBy5And11And13.append((d7, d8, d9))\n",
        "\n",
        "'''\n",
        "\n",
        "The solution is then reduced to 4 choices: (2, 8, 6), (3, 9, 0), (7, 2, 8), (8, 3, 2).\n",
        "\n",
        "'''\n",
        "\n",
        "divisibleBy5And11And13And17 = []\n",
        "\n",
        "for (d7, d8, d9) in divisibleBy5And11And13:\n",
        "  for d10 in range(10):\n",
        "    if d10 != 5 and len(set([d7, d8, d9, d10])) == 4 and (d8 * 100 + d9 * 10 + d10) % 17 == 0:\n",
        "      divisibleBy5And11And13And17.append((d7, d8, d9, d10))\n",
        "\n",
        "divisibleBy5And7And11And13And17 = []\n",
        "\n",
        "for (d7, d8, d9, d10) in divisibleBy5And11And13And17:\n",
        "  for d5 in range(0, 10):\n",
        "    if d5 != 5 and len(set([d5, d7, d8, d9, d10])) == 5 and (d5 * 100 + 50 + d7) % 7 == 0:\n",
        "      divisibleBy5And7And11And13And17.append((d5, d7, d8, d9, d10))\n",
        "\n",
        "'''\n",
        "\n",
        "Now d5 - d10 are determined. To find suitable d4, we use the divisibility of 2 to see d4 = {2, 4, 6, 8, 0}. Also, note that d3 + d4 + d5 is divisible by 3.\n",
        "\n",
        "'''\n",
        "\n",
        "final = []\n",
        "\n",
        "for d4 in {2, 4, 6, 8, 0}:\n",
        "  for (d5, d7, d8, d9, d10) in divisibleBy5And7And11And13And17:\n",
        "    for d3 in range(10):\n",
        "      if (d3 + d4 + d5) % 3 == 0 and d3 != 5 and len(set([d3, d4, d5, d7, d8, d9, d10])) == 7:\n",
        "        final.append((d3, d4, d5, 5, d7, d8, d9, d10))\n",
        "\n",
        "total = 0\n",
        "\n",
        "for d1 in range(10):\n",
        "  for d2 in range(10):\n",
        "    for (d3, d4, d5, d6, d7, d8, d9, d10) in final:\n",
        "      if len(set([d1, d2, d3, d4, d5, d6, d7, d8, d9, d10])) == 10:\n",
        "        total += int(\"\".join(list(map(str, [d1, d2, d3, d4, d5, d6, d7, d8, d9, d10]))))\n",
        "\n",
        "print(total)"
      ],
      "metadata": {
        "colab": {
          "base_uri": "https://localhost:8080/"
        },
        "id": "TIa-cKGYj-1m",
        "outputId": "bf0f57ff-a574-4053-c596-944c68d02f94"
      },
      "execution_count": null,
      "outputs": [
        {
          "output_type": "stream",
          "name": "stdout",
          "text": [
            "16695334890\n"
          ]
        }
      ]
    },
    {
      "cell_type": "markdown",
      "source": [
        "# Problem 44: Pentagon Numbers (TBD)"
      ],
      "metadata": {
        "id": "9t5lnOXYOM9n"
      }
    },
    {
      "cell_type": "code",
      "source": [
        "def pentagonal(x):\n",
        "  '''\n",
        "\n",
        "  Return the x-th pentagonal number\n",
        "\n",
        "  '''\n",
        "\n",
        "  return x * (3 * x - 1) // 2\n",
        "\n",
        "a = list(map(pentagonal, range(1, 5000)))\n",
        "\n",
        "smallest = 1e9\n",
        "that1 = None\n",
        "that2 = None\n",
        "\n",
        "for penta1 in a:\n",
        "  for penta2 in a:\n",
        "    if (penta1 != penta2) and (penta2 - penta1 in a) and (penta2 + penta1 in a) and (abs(penta1 - penta2) < smallest):\n",
        "      smallest = abs(penta1 - penta2)\n",
        "      that1 = penta1\n",
        "      that2 = penta2\n",
        "\n",
        "print(smallest, that1, that2)\n"
      ],
      "metadata": {
        "colab": {
          "base_uri": "https://localhost:8080/",
          "height": 233
        },
        "id": "E7ZOJthDONXg",
        "outputId": "1aa8bedf-2c3b-4729-b890-76c10b118555"
      },
      "execution_count": null,
      "outputs": [
        {
          "output_type": "error",
          "ename": "KeyboardInterrupt",
          "evalue": "",
          "traceback": [
            "\u001b[0;31m---------------------------------------------------------------------------\u001b[0m",
            "\u001b[0;31mKeyboardInterrupt\u001b[0m                         Traceback (most recent call last)",
            "\u001b[0;32m/tmp/ipython-input-2904842189.py\u001b[0m in \u001b[0;36m<cell line: 0>\u001b[0;34m()\u001b[0m\n\u001b[1;32m     16\u001b[0m \u001b[0;32mfor\u001b[0m \u001b[0mpenta1\u001b[0m \u001b[0;32min\u001b[0m \u001b[0ma\u001b[0m\u001b[0;34m:\u001b[0m\u001b[0;34m\u001b[0m\u001b[0;34m\u001b[0m\u001b[0m\n\u001b[1;32m     17\u001b[0m   \u001b[0;32mfor\u001b[0m \u001b[0mpenta2\u001b[0m \u001b[0;32min\u001b[0m \u001b[0ma\u001b[0m\u001b[0;34m:\u001b[0m\u001b[0;34m\u001b[0m\u001b[0;34m\u001b[0m\u001b[0m\n\u001b[0;32m---> 18\u001b[0;31m     \u001b[0;32mif\u001b[0m \u001b[0;34m(\u001b[0m\u001b[0mpenta1\u001b[0m \u001b[0;34m!=\u001b[0m \u001b[0mpenta2\u001b[0m\u001b[0;34m)\u001b[0m \u001b[0;32mand\u001b[0m \u001b[0;34m(\u001b[0m\u001b[0mpenta2\u001b[0m \u001b[0;34m-\u001b[0m \u001b[0mpenta1\u001b[0m \u001b[0;32min\u001b[0m \u001b[0ma\u001b[0m\u001b[0;34m)\u001b[0m \u001b[0;32mand\u001b[0m \u001b[0;34m(\u001b[0m\u001b[0mpenta2\u001b[0m \u001b[0;34m+\u001b[0m \u001b[0mpenta1\u001b[0m \u001b[0;32min\u001b[0m \u001b[0ma\u001b[0m\u001b[0;34m)\u001b[0m \u001b[0;32mand\u001b[0m \u001b[0;34m(\u001b[0m\u001b[0mabs\u001b[0m\u001b[0;34m(\u001b[0m\u001b[0mpenta1\u001b[0m \u001b[0;34m-\u001b[0m \u001b[0mpenta2\u001b[0m\u001b[0;34m)\u001b[0m \u001b[0;34m<\u001b[0m \u001b[0msmallest\u001b[0m\u001b[0;34m)\u001b[0m\u001b[0;34m:\u001b[0m\u001b[0;34m\u001b[0m\u001b[0;34m\u001b[0m\u001b[0m\n\u001b[0m\u001b[1;32m     19\u001b[0m       \u001b[0msmallest\u001b[0m \u001b[0;34m=\u001b[0m \u001b[0mabs\u001b[0m\u001b[0;34m(\u001b[0m\u001b[0mpenta1\u001b[0m \u001b[0;34m-\u001b[0m \u001b[0mpenta2\u001b[0m\u001b[0;34m)\u001b[0m\u001b[0;34m\u001b[0m\u001b[0;34m\u001b[0m\u001b[0m\n\u001b[1;32m     20\u001b[0m       \u001b[0mthat1\u001b[0m \u001b[0;34m=\u001b[0m \u001b[0mpenta1\u001b[0m\u001b[0;34m\u001b[0m\u001b[0;34m\u001b[0m\u001b[0m\n",
            "\u001b[0;31mKeyboardInterrupt\u001b[0m: "
          ]
        }
      ]
    },
    {
      "cell_type": "markdown",
      "source": [
        "# Problem 45: Triangular, Pentagonal, and Hexagonal"
      ],
      "metadata": {
        "id": "kt4YF1_xtLbQ"
      }
    },
    {
      "cell_type": "code",
      "source": [
        "'''\n",
        "\n",
        "By observation, only consider the positive root.\n",
        "\n",
        "'''\n",
        "\n",
        "def triangle(x):\n",
        "  return x * (x + 1) // 2\n",
        "\n",
        "def isPentagonal(x):\n",
        "  return True if (1 + (1 + 24 * x) ** 0.5) / 6 % 1 == 0 else False\n",
        "\n",
        "def isHexagonal(x):\n",
        "  return True if (1 + (1 + 8 * x) ** 0.5) / 4 % 1 == 0 else False\n",
        "\n",
        "n = 286\n",
        "\n",
        "while not (isPentagonal(triangle(n)) and isHexagonal(triangle(n))):\n",
        "  n += 1\n",
        "\n",
        "print(triangle(n))"
      ],
      "metadata": {
        "colab": {
          "base_uri": "https://localhost:8080/"
        },
        "id": "pXjEMjPWtLt8",
        "outputId": "75e146ff-2ddb-400c-c0d7-d5f2d39583bd"
      },
      "execution_count": null,
      "outputs": [
        {
          "output_type": "stream",
          "name": "stdout",
          "text": [
            "1533776805\n"
          ]
        }
      ]
    },
    {
      "cell_type": "markdown",
      "source": [
        "# Problem 46: Goldbach's Other Conjecture\n",
        "\n"
      ],
      "metadata": {
        "id": "6bI8NVu0Y2Sg"
      }
    },
    {
      "cell_type": "code",
      "source": [
        "def isPrime(x): # from Problem 7\n",
        "  for i in range(2, int(x ** 0.5) + 1):\n",
        "    if x % i == 0:\n",
        "      return False\n",
        "\n",
        "  else:\n",
        "    return True\n",
        "\n",
        "primeList = [2]\n",
        "squareList = [1]\n",
        "\n",
        "def canBeWrittenAsSum(x):\n",
        "  for i in squareList:\n",
        "    if x - 2 * i in primeList:\n",
        "      return True\n",
        "\n",
        "  return False\n",
        "\n",
        "num = 3\n",
        "\n",
        "while True:\n",
        "  if primeList[-1] < num:\n",
        "    for i in range(primeList[-1], num + 1):\n",
        "      if isPrime(i):\n",
        "        primeList.append(i)\n",
        "\n",
        "  if squareList[-1] < num:\n",
        "    squareList.append(int((squareList[-1] ** 0.5 + 1) ** 2))\n",
        "\n",
        "  if not isPrime(num) and not canBeWrittenAsSum(num):\n",
        "    print(num)\n",
        "    break\n",
        "\n",
        "  num += 2"
      ],
      "metadata": {
        "colab": {
          "base_uri": "https://localhost:8080/"
        },
        "id": "cBk9QqW_Y2lv",
        "outputId": "d6e71b87-b79d-4023-c426-66202eabbfc5"
      },
      "execution_count": null,
      "outputs": [
        {
          "output_type": "stream",
          "name": "stdout",
          "text": [
            "5777\n"
          ]
        }
      ]
    },
    {
      "cell_type": "markdown",
      "source": [
        "# Problem 47: Distinct Primes Factors (TBD)"
      ],
      "metadata": {
        "id": "8m0qpcH3i2Qd"
      }
    },
    {
      "cell_type": "code",
      "source": [
        "def isPrime(x): # from Problem 7\n",
        "  for i in range(2, int(x ** 0.5) + 1):\n",
        "    if x % i == 0:\n",
        "      return False\n",
        "\n",
        "  else:\n",
        "    return True\n",
        "\n",
        "def primeFactors(x):\n",
        "  primeFactorsSet = set()\n",
        "\n",
        "  while not isPrime(x):\n",
        "    loopBreaker = False\n",
        "\n",
        "    for i in range(2, int(x ** 0.5) + 1):\n",
        "      while x % i == 0:\n",
        "        x = x // i\n",
        "        loopBreaker = True\n",
        "\n",
        "        primeFactors.add(x)\n",
        "\n",
        "        if isPrime(x // i):\n",
        "          primeFactors.add(x // i)\n",
        "\n",
        "  return primeFactors\n",
        "\n",
        "num = 644\n",
        "\n",
        "len(primeFactors(134044))\n",
        "\n",
        "#while [len(primeFactorization(num)), len(primeFactorization(num + 1)), len(primeFactorization(num + 2)), len(primeFactorization(num + 3))] != [4] * 4:\n",
        "  #num += 1\n",
        "  #print(num)\n",
        "\n",
        "#print(num)"
      ],
      "metadata": {
        "colab": {
          "base_uri": "https://localhost:8080/",
          "height": 358
        },
        "id": "tmI8JSFHi2gj",
        "outputId": "5fcbb6c4-596e-44be-b719-08c2bac3c11f"
      },
      "execution_count": null,
      "outputs": [
        {
          "output_type": "error",
          "ename": "AttributeError",
          "evalue": "'function' object has no attribute 'add'",
          "traceback": [
            "\u001b[0;31m---------------------------------------------------------------------------\u001b[0m",
            "\u001b[0;31mAttributeError\u001b[0m                            Traceback (most recent call last)",
            "\u001b[0;32m/tmp/ipython-input-3794358881.py\u001b[0m in \u001b[0;36m<cell line: 0>\u001b[0;34m()\u001b[0m\n\u001b[1;32m     27\u001b[0m \u001b[0mnum\u001b[0m \u001b[0;34m=\u001b[0m \u001b[0;36m644\u001b[0m\u001b[0;34m\u001b[0m\u001b[0;34m\u001b[0m\u001b[0m\n\u001b[1;32m     28\u001b[0m \u001b[0;34m\u001b[0m\u001b[0m\n\u001b[0;32m---> 29\u001b[0;31m \u001b[0mlen\u001b[0m\u001b[0;34m(\u001b[0m\u001b[0mprimeFactors\u001b[0m\u001b[0;34m(\u001b[0m\u001b[0;36m134044\u001b[0m\u001b[0;34m)\u001b[0m\u001b[0;34m)\u001b[0m\u001b[0;34m\u001b[0m\u001b[0;34m\u001b[0m\u001b[0m\n\u001b[0m\u001b[1;32m     30\u001b[0m \u001b[0;34m\u001b[0m\u001b[0m\n\u001b[1;32m     31\u001b[0m \u001b[0;31m#while [len(primeFactorization(num)), len(primeFactorization(num + 1)), len(primeFactorization(num + 2)), len(primeFactorization(num + 3))] != [4] * 4:\u001b[0m\u001b[0;34m\u001b[0m\u001b[0;34m\u001b[0m\u001b[0m\n",
            "\u001b[0;32m/tmp/ipython-input-3794358881.py\u001b[0m in \u001b[0;36mprimeFactors\u001b[0;34m(x)\u001b[0m\n\u001b[1;32m     18\u001b[0m         \u001b[0mloopBreaker\u001b[0m \u001b[0;34m=\u001b[0m \u001b[0;32mTrue\u001b[0m\u001b[0;34m\u001b[0m\u001b[0;34m\u001b[0m\u001b[0m\n\u001b[1;32m     19\u001b[0m \u001b[0;34m\u001b[0m\u001b[0m\n\u001b[0;32m---> 20\u001b[0;31m         \u001b[0mprimeFactors\u001b[0m\u001b[0;34m.\u001b[0m\u001b[0madd\u001b[0m\u001b[0;34m(\u001b[0m\u001b[0mx\u001b[0m\u001b[0;34m)\u001b[0m\u001b[0;34m\u001b[0m\u001b[0;34m\u001b[0m\u001b[0m\n\u001b[0m\u001b[1;32m     21\u001b[0m \u001b[0;34m\u001b[0m\u001b[0m\n\u001b[1;32m     22\u001b[0m         \u001b[0;32mif\u001b[0m \u001b[0misPrime\u001b[0m\u001b[0;34m(\u001b[0m\u001b[0mx\u001b[0m \u001b[0;34m//\u001b[0m \u001b[0mi\u001b[0m\u001b[0;34m)\u001b[0m\u001b[0;34m:\u001b[0m\u001b[0;34m\u001b[0m\u001b[0;34m\u001b[0m\u001b[0m\n",
            "\u001b[0;31mAttributeError\u001b[0m: 'function' object has no attribute 'add'"
          ]
        }
      ]
    },
    {
      "cell_type": "markdown",
      "source": [
        "# Problem 48: Self Powers"
      ],
      "metadata": {
        "id": "X1c5zEMhOYDc"
      }
    },
    {
      "cell_type": "code",
      "source": [
        "def lastTenDigitsOfSelfPower(x):\n",
        "  return x ** x % 10 ** 10\n",
        "\n",
        "total = 0\n",
        "\n",
        "for i in range(1, 1001):\n",
        "  total += lastTenDigitsOfSelfPower(i)\n",
        "  total %= 10 ** 10\n",
        "\n",
        "print(total)"
      ],
      "metadata": {
        "colab": {
          "base_uri": "https://localhost:8080/"
        },
        "id": "VzUsiZOPOYxc",
        "outputId": "7d0085c7-9e75-48e0-af91-b9b17bbd9f6a"
      },
      "execution_count": null,
      "outputs": [
        {
          "output_type": "stream",
          "name": "stdout",
          "text": [
            "9110846700\n"
          ]
        }
      ]
    },
    {
      "cell_type": "markdown",
      "source": [
        "# Problem 49: Prime Permutations"
      ],
      "metadata": {
        "id": "y6oCJ1woWkjS"
      }
    },
    {
      "cell_type": "code",
      "source": [
        "def isPrime(x): # from Problem 7\n",
        "  for i in range(2, int(x ** 0.5) + 1):\n",
        "    if x % i == 0:\n",
        "      return False\n",
        "\n",
        "  else:\n",
        "    return True\n",
        "\n",
        "def digitOfMultiple(num, multiple=1): # I solved Problem 52 first, this is why I have such name of this function.\n",
        "  digitDict = dict()\n",
        "\n",
        "  for char in str(num * multiple):\n",
        "    digitDict[char] = digitDict.get(char, 0) + 1\n",
        "\n",
        "  return digitDict\n",
        "\n",
        "primeList = []\n",
        "\n",
        "for i in range(1000, 10000):\n",
        "  if isPrime(i):\n",
        "    primeList.append(i)\n",
        "\n",
        "loopBreaker = False\n",
        "\n",
        "for i in range(len(primeList)):\n",
        "  if loopBreaker:\n",
        "    break\n",
        "\n",
        "  for j in range(i + 1, len(primeList)):\n",
        "    if primeList[i] != 1487 and primeList[j] * 2 - primeList[i] in primeList and [digitOfMultiple(primeList[i]), digitOfMultiple(primeList[j]), digitOfMultiple(primeList[j] * 2 - primeList[i])] == [digitOfMultiple(primeList[i])] * 3:\n",
        "      print(\"\".join(list(map(str, [primeList[i], primeList[j], primeList[j] * 2 - primeList[i]]))))\n",
        "      loopBreaker = True\n",
        "      break"
      ],
      "metadata": {
        "colab": {
          "base_uri": "https://localhost:8080/"
        },
        "id": "dpuxTIoZWk2w",
        "outputId": "c2d5e689-4304-4512-9aa8-be9fb178c363"
      },
      "execution_count": null,
      "outputs": [
        {
          "output_type": "stream",
          "name": "stdout",
          "text": [
            "296962999629\n"
          ]
        }
      ]
    },
    {
      "cell_type": "markdown",
      "source": [
        "# Problem 52: Permuted Multiples"
      ],
      "metadata": {
        "id": "syvAmMZZMeID"
      }
    },
    {
      "cell_type": "code",
      "source": [
        "num = 1\n",
        "\n",
        "def digitOfMultiple(num, multiple=1): # from Problem 51\n",
        "  digitDict = dict()\n",
        "\n",
        "  for char in str(num * multiple):\n",
        "    digitDict[char] = digitDict.get(char, 0) + 1\n",
        "\n",
        "  return digitDict\n",
        "\n",
        "while True:\n",
        "  if [digitOfMultiple(num, i) for i in range(2, 7)] == [digitOfMultiple(num, 1)] * 5:\n",
        "    break\n",
        "\n",
        "  num += 1\n",
        "\n",
        "print(num)"
      ],
      "metadata": {
        "colab": {
          "base_uri": "https://localhost:8080/"
        },
        "id": "SHeEX4dmMegH",
        "outputId": "dfc739fe-3570-4bed-d188-5c0a44a7592e"
      },
      "execution_count": null,
      "outputs": [
        {
          "output_type": "stream",
          "name": "stdout",
          "text": [
            "142857\n"
          ]
        }
      ]
    },
    {
      "cell_type": "markdown",
      "source": [
        "# Problem 53: Combinatoric Selections"
      ],
      "metadata": {
        "id": "DB8PBx65LNrd"
      }
    },
    {
      "cell_type": "code",
      "source": [
        "def fac(x): # from Problem 15\n",
        "  prod = 1\n",
        "\n",
        "  for i in range(2, x+1):\n",
        "    prod *= i\n",
        "\n",
        "  return prod\n",
        "\n",
        "def nCr(n, r):\n",
        "  return fac(n) // fac(r) // fac(n-r)\n",
        "\n",
        "count = 0\n",
        "\n",
        "for i in range(1, 101):\n",
        "  for j in range(i):\n",
        "    if nCr(i, j) > 1000000:\n",
        "      count += 1\n",
        "\n",
        "print(count)"
      ],
      "metadata": {
        "colab": {
          "base_uri": "https://localhost:8080/"
        },
        "id": "4PupoRhqLQUI",
        "outputId": "cd2c0a91-a32c-4bf5-f300-71be76e268ed"
      },
      "execution_count": null,
      "outputs": [
        {
          "output_type": "stream",
          "name": "stdout",
          "text": [
            "4075\n"
          ]
        }
      ]
    },
    {
      "cell_type": "markdown",
      "source": [
        "# Problem 55: Lychrel Numbers"
      ],
      "metadata": {
        "id": "MpfrxjLObdKW"
      }
    },
    {
      "cell_type": "code",
      "source": [
        "count = 0\n",
        "\n",
        "for num in range(1, 10000):\n",
        "  idx = 0\n",
        "\n",
        "  while idx < 50:\n",
        "    if idx > 0 and str(num) == str(num)[::-1]:\n",
        "      break\n",
        "\n",
        "    num += int(str(num)[::-1])\n",
        "    idx += 1\n",
        "\n",
        "  else:\n",
        "    count += 1\n",
        "\n",
        "print(count)"
      ],
      "metadata": {
        "colab": {
          "base_uri": "https://localhost:8080/"
        },
        "id": "1Dqr3MP-bdfj",
        "outputId": "ec17acb6-193b-446f-8928-395014924971"
      },
      "execution_count": null,
      "outputs": [
        {
          "output_type": "stream",
          "name": "stdout",
          "text": [
            "249\n"
          ]
        }
      ]
    },
    {
      "cell_type": "markdown",
      "source": [
        "# Problem 56: Powerful Digit Sum"
      ],
      "metadata": {
        "id": "kPI1L3FLKjHc"
      }
    },
    {
      "cell_type": "code",
      "source": [
        "greatestSum = -9e9\n",
        "\n",
        "for i in range(1, 100):\n",
        "  for j in range(1, 100):\n",
        "    new = sum(list(map(int, str(i ** j))))\n",
        "\n",
        "    if new > greatestSum:\n",
        "      greatestSum = new\n",
        "\n",
        "print(greatestSum)"
      ],
      "metadata": {
        "colab": {
          "base_uri": "https://localhost:8080/"
        },
        "id": "D3aTAz0eKjhn",
        "outputId": "882129e0-d14a-44f3-be41-2cdaee9f4cc5"
      },
      "execution_count": null,
      "outputs": [
        {
          "output_type": "stream",
          "name": "stdout",
          "text": [
            "972\n"
          ]
        }
      ]
    },
    {
      "cell_type": "markdown",
      "source": [
        "# Problem 57: Square Root Convergents"
      ],
      "metadata": {
        "id": "7kFpPd3pkZ1u"
      }
    },
    {
      "cell_type": "code",
      "source": [
        "'''\n",
        "\n",
        "Simple sequence problem\n",
        "\n",
        "'''\n",
        "\n",
        "prev2Num = 1\n",
        "prev2Denom = 0\n",
        "prevNum = 1\n",
        "prevDenom = 1\n",
        "iter = 1000\n",
        "count = 0\n",
        "\n",
        "for _ in range(iter):\n",
        "  num = prevNum * 2 + prev2Num\n",
        "  denom = prevDenom * 2 + prev2Denom\n",
        "\n",
        "  if len(str(num)) > len(str(denom)):\n",
        "    count += 1\n",
        "\n",
        "  prev2Num, prev2Denom, prevNum, prevDenom = prevNum, prevDenom, num, denom\n",
        "\n",
        "print(count)\n"
      ],
      "metadata": {
        "colab": {
          "base_uri": "https://localhost:8080/"
        },
        "id": "HhKvXavwkaEV",
        "outputId": "076ce4b8-a56c-410d-9e10-ac974e1d16b9"
      },
      "execution_count": null,
      "outputs": [
        {
          "output_type": "stream",
          "name": "stdout",
          "text": [
            "153\n"
          ]
        }
      ]
    },
    {
      "cell_type": "markdown",
      "source": [
        "# Problem 58: Spiral Primes\n"
      ],
      "metadata": {
        "id": "DKASmlOPObE1"
      }
    },
    {
      "cell_type": "code",
      "source": [
        "def isPrime(x): # from Problem 7\n",
        "  for i in range(2, int(x ** 0.5) + 1):\n",
        "    if x % i == 0:\n",
        "      return False\n",
        "\n",
        "  else:\n",
        "    return True\n",
        "\n",
        "# (inspired) from Problem 28\n",
        "\n",
        "primeRate = 1\n",
        "primeCount = 0\n",
        "count = 1\n",
        "dim = 1\n",
        "num = 1\n",
        "\n",
        "while primeRate >= 0.1:\n",
        "  dim += 2\n",
        "  trial = dim // 2\n",
        "\n",
        "  for i in range(4):\n",
        "    num += 2 * trial\n",
        "    count += 1\n",
        "\n",
        "    if isPrime(num):\n",
        "      primeCount += 1\n",
        "\n",
        "  primeRate = primeCount / count\n",
        "\n",
        "print(dim)"
      ],
      "metadata": {
        "colab": {
          "base_uri": "https://localhost:8080/"
        },
        "id": "9vjz9MCoObUJ",
        "outputId": "f8a781ed-4433-4fcf-cf1a-14542a491f51"
      },
      "execution_count": null,
      "outputs": [
        {
          "output_type": "stream",
          "name": "stdout",
          "text": [
            "26241\n"
          ]
        }
      ]
    },
    {
      "cell_type": "markdown",
      "source": [
        "# Problem 62: Cubic Permutations (Solved, Code TBD)"
      ],
      "metadata": {
        "id": "oceO-uY9g-F7"
      }
    },
    {
      "cell_type": "code",
      "source": [
        "def digitOfMultiple(num, multiple=1): # from Problem 52\n",
        "  digitDict = dict()\n",
        "\n",
        "  for char in str(num * multiple):\n",
        "    digitDict[char] = digitDict.get(char, 0) + 1\n",
        "\n",
        "  return digitDict\n",
        "\n",
        "num = 1\n",
        "numDigitDict = dict()\n",
        "\n",
        "while True:\n",
        "  numDigitHashed = hash(digitOfMultiple(num ** 3))\n",
        "  prev = numDigitDict.get(numDigit), [])\n",
        "\n",
        "  if len(prev) == 3:\n",
        "    print(prev[0])\n",
        "    break\n",
        "\n",
        "  numDigitDict[digitOfMultiple(num ** 3)] = numDigitDict.get(digitOfMultiple(num ** 3), []).append(num)\n",
        "\n",
        "  num += 1\n"
      ],
      "metadata": {
        "colab": {
          "base_uri": "https://localhost:8080/",
          "height": 106
        },
        "id": "0trf_UvYg-an",
        "outputId": "220f1626-b5f0-44fc-f4b9-ad8ae9a7269b"
      },
      "execution_count": null,
      "outputs": [
        {
          "output_type": "error",
          "ename": "SyntaxError",
          "evalue": "unmatched ')' (ipython-input-1273289025.py, line 14)",
          "traceback": [
            "\u001b[0;36m  File \u001b[0;32m\"/tmp/ipython-input-1273289025.py\"\u001b[0;36m, line \u001b[0;32m14\u001b[0m\n\u001b[0;31m    prev = numDigitDict.get(numDigit), [])\u001b[0m\n\u001b[0m                                         ^\u001b[0m\n\u001b[0;31mSyntaxError\u001b[0m\u001b[0;31m:\u001b[0m unmatched ')'\n"
          ]
        }
      ]
    },
    {
      "cell_type": "markdown",
      "source": [
        "# Problem 66: Diophantine Equation"
      ],
      "metadata": {
        "id": "EdkTuNaWSxPA"
      }
    },
    {
      "cell_type": "code",
      "source": [
        "def diophantineSolver(D):\n",
        "  '''\n",
        "\n",
        "  Returns the minimal solution (w.r.t. x) to the quadratic Diophatine equation x ** 2 - D * y ** 2 = 1, where x, y are natural numbers.\n",
        "\n",
        "  '''\n",
        "\n",
        "  x = 2\n",
        "\n",
        "  while ((x ** 2 - 1) / D) ** 0.5 % 1 != 0:\n",
        "    x += 1\n",
        "\n",
        "  return x, int(((x ** 2 - 1) / D) ** 0.5)\n",
        "\n",
        "bestD = None\n",
        "maxX = -1e9\n",
        "\n",
        "for i in range(100, 1001):\n",
        "  print(i)\n",
        "  if i ** 0.5 % 1 == 0:\n",
        "    continue\n",
        "\n",
        "  else:\n",
        "    x = diophantineSolver(i)[0]\n",
        "\n",
        "    if x > maxX:\n",
        "      maxX = x\n",
        "      bestD = i\n",
        "\n",
        "print(bestD)"
      ],
      "metadata": {
        "colab": {
          "base_uri": "https://localhost:8080/",
          "height": 454
        },
        "id": "oHLGkwfuSxh6",
        "outputId": "9ae0cee8-3306-4a7d-9b08-2cafe63c2fe3"
      },
      "execution_count": null,
      "outputs": [
        {
          "output_type": "stream",
          "name": "stdout",
          "text": [
            "100\n",
            "101\n",
            "102\n",
            "103\n",
            "104\n",
            "105\n",
            "106\n"
          ]
        },
        {
          "output_type": "error",
          "ename": "KeyboardInterrupt",
          "evalue": "",
          "traceback": [
            "\u001b[0;31m---------------------------------------------------------------------------\u001b[0m",
            "\u001b[0;31mKeyboardInterrupt\u001b[0m                         Traceback (most recent call last)",
            "\u001b[0;32m/tmp/ipython-input-2955403201.py\u001b[0m in \u001b[0;36m<cell line: 0>\u001b[0;34m()\u001b[0m\n\u001b[1;32m     22\u001b[0m \u001b[0;34m\u001b[0m\u001b[0m\n\u001b[1;32m     23\u001b[0m   \u001b[0;32melse\u001b[0m\u001b[0;34m:\u001b[0m\u001b[0;34m\u001b[0m\u001b[0;34m\u001b[0m\u001b[0m\n\u001b[0;32m---> 24\u001b[0;31m     \u001b[0mx\u001b[0m \u001b[0;34m=\u001b[0m \u001b[0mdiophantineSolver\u001b[0m\u001b[0;34m(\u001b[0m\u001b[0mi\u001b[0m\u001b[0;34m)\u001b[0m\u001b[0;34m[\u001b[0m\u001b[0;36m0\u001b[0m\u001b[0;34m]\u001b[0m\u001b[0;34m\u001b[0m\u001b[0;34m\u001b[0m\u001b[0m\n\u001b[0m\u001b[1;32m     25\u001b[0m \u001b[0;34m\u001b[0m\u001b[0m\n\u001b[1;32m     26\u001b[0m     \u001b[0;32mif\u001b[0m \u001b[0mx\u001b[0m \u001b[0;34m>\u001b[0m \u001b[0mmaxX\u001b[0m\u001b[0;34m:\u001b[0m\u001b[0;34m\u001b[0m\u001b[0;34m\u001b[0m\u001b[0m\n",
            "\u001b[0;32m/tmp/ipython-input-2955403201.py\u001b[0m in \u001b[0;36mdiophantineSolver\u001b[0;34m(D)\u001b[0m\n\u001b[1;32m      8\u001b[0m   \u001b[0mx\u001b[0m \u001b[0;34m=\u001b[0m \u001b[0;36m2\u001b[0m\u001b[0;34m\u001b[0m\u001b[0;34m\u001b[0m\u001b[0m\n\u001b[1;32m      9\u001b[0m \u001b[0;34m\u001b[0m\u001b[0m\n\u001b[0;32m---> 10\u001b[0;31m   \u001b[0;32mwhile\u001b[0m \u001b[0;34m(\u001b[0m\u001b[0;34m(\u001b[0m\u001b[0mx\u001b[0m \u001b[0;34m**\u001b[0m \u001b[0;36m2\u001b[0m \u001b[0;34m-\u001b[0m \u001b[0;36m1\u001b[0m\u001b[0;34m)\u001b[0m \u001b[0;34m/\u001b[0m \u001b[0mD\u001b[0m\u001b[0;34m)\u001b[0m \u001b[0;34m**\u001b[0m \u001b[0;36m0.5\u001b[0m \u001b[0;34m%\u001b[0m \u001b[0;36m1\u001b[0m \u001b[0;34m!=\u001b[0m \u001b[0;36m0\u001b[0m\u001b[0;34m:\u001b[0m\u001b[0;34m\u001b[0m\u001b[0;34m\u001b[0m\u001b[0m\n\u001b[0m\u001b[1;32m     11\u001b[0m     \u001b[0mx\u001b[0m \u001b[0;34m+=\u001b[0m \u001b[0;36m1\u001b[0m\u001b[0;34m\u001b[0m\u001b[0;34m\u001b[0m\u001b[0m\n\u001b[1;32m     12\u001b[0m \u001b[0;34m\u001b[0m\u001b[0m\n",
            "\u001b[0;31mKeyboardInterrupt\u001b[0m: "
          ]
        }
      ]
    },
    {
      "cell_type": "markdown",
      "source": [
        "# Problem 67: Maximum Path Sum II"
      ],
      "metadata": {
        "id": "16kwwJFEBbAI"
      }
    },
    {
      "cell_type": "code",
      "source": [
        "'''\n",
        "\n",
        "Same approach as Problem 18\n",
        "\n",
        "'''\n",
        "\n",
        "# (file handling inspired) from Problem 22\n",
        "\n",
        "import requests\n",
        "\n",
        "url = \"https://projecteuler.net/resources/documents/0067_triangle.txt\"\n",
        "response = requests.get(url)\n",
        "\n",
        "if response.status_code == 200:\n",
        "    file_content = response.text\n",
        "\n",
        "else:\n",
        "    print(f\"Failed to retrieve file. Status code: {response.status_code}\")\n",
        "\n",
        "prob = file_content.strip()\n",
        "\n",
        "def split(s: str) -> list: # from Problem 18\n",
        "  return list(map(int, s.split()))\n",
        "\n",
        "triangle = list(map(split, prob.split('\\n')))\n",
        "\n",
        "def maxPathSum(triangle):\n",
        "  loop = len(triangle) - 1\n",
        "\n",
        "  for row in range(loop, 0, -1):\n",
        "    for col in range(0, row):\n",
        "      triangle[row-1][col] += max(triangle[row][col], triangle[row][col+1])\n",
        "\n",
        "  return triangle[0][0]\n",
        "\n",
        "print(maxPathSum(triangle))\n"
      ],
      "metadata": {
        "colab": {
          "base_uri": "https://localhost:8080/"
        },
        "id": "aN2mh4D4BbRv",
        "outputId": "a795ba1f-e63b-49b1-e1c8-42087bc69a6c"
      },
      "execution_count": null,
      "outputs": [
        {
          "output_type": "stream",
          "name": "stdout",
          "text": [
            "7273\n"
          ]
        }
      ]
    },
    {
      "cell_type": "markdown",
      "source": [
        "# Problem 71: Ordered Fractions"
      ],
      "metadata": {
        "id": "UpUYusCve9qh"
      }
    },
    {
      "cell_type": "code",
      "source": [
        "def HCF(x, y): # from Problem 5\n",
        "  x, y = min(x, y), max(x, y)\n",
        "\n",
        "  while x:\n",
        "    x, y = y % x, x\n",
        "\n",
        "  return y\n",
        "\n",
        "target = 3 / 7\n",
        "nearest = 1e9\n",
        "nearestNum = None\n",
        "\n",
        "for denom in range(1, 1000001):\n",
        "  num = denom * 3 // 7\n",
        "\n",
        "  if num == 3 and denom == 7:\n",
        "    continue\n",
        "\n",
        "  if HCF(num, denom) == 1:\n",
        "    diff = target - num / denom\n",
        "\n",
        "    if diff < nearest:\n",
        "      nearest = diff\n",
        "      nearestNum = num\n",
        "\n",
        "print(nearestNum)"
      ],
      "metadata": {
        "colab": {
          "base_uri": "https://localhost:8080/"
        },
        "id": "RAtX8QuNe95_",
        "outputId": "7ae9c609-ae28-4ba4-ad94-d41c90f0f082"
      },
      "execution_count": null,
      "outputs": [
        {
          "output_type": "stream",
          "name": "stdout",
          "text": [
            "428570\n"
          ]
        }
      ]
    },
    {
      "cell_type": "markdown",
      "source": [
        "# Problem 73: Counting Fractions in a Range"
      ],
      "metadata": {
        "id": "GXgtTKB2quKv"
      }
    },
    {
      "cell_type": "code",
      "source": [
        "count = 0\n",
        "\n",
        "def HCF(x, y): # from Problem 5\n",
        "  x, y = min(x, y), max(x, y)\n",
        "\n",
        "  if y % x == 0:\n",
        "    return x\n",
        "\n",
        "  while y % x != 0:\n",
        "    y = y % x\n",
        "    x, y = min(x, y), max(x, y)\n",
        "\n",
        "  return x\n",
        "\n",
        "for denom in range(2, 12001):\n",
        "  for num in range(denom // 3, denom // 2 + 2): # need num / denom > 1 / 3 -> num > 1 / 3 * denom, similarly num / denom < 1 / 2 -> num < 1 / 2 * denom\n",
        "    if num / denom <= 1 / 3:\n",
        "      continue\n",
        "\n",
        "    if num / denom >= 1 / 2:\n",
        "      break\n",
        "\n",
        "    if HCF(num, denom) == 1:\n",
        "      count += 1\n",
        "\n",
        "print(count)"
      ],
      "metadata": {
        "colab": {
          "base_uri": "https://localhost:8080/"
        },
        "id": "YBqhk6gUquYP",
        "outputId": "a042a3ff-7ea2-4a71-b80f-f5bfd8b50a09"
      },
      "execution_count": null,
      "outputs": [
        {
          "output_type": "stream",
          "name": "stdout",
          "text": [
            "7295372\n"
          ]
        }
      ]
    },
    {
      "cell_type": "markdown",
      "source": [
        "# Problem 74: Digit Factorial Chains"
      ],
      "metadata": {
        "id": "HZ-rnHqm3KPX"
      }
    },
    {
      "cell_type": "code",
      "source": [
        "'''\n",
        "\n",
        "32s in Apple MacBook Pro (2021, M1 Pro), 50s on Google Colab (free tier)\n",
        "\n",
        "'''\n",
        "\n",
        "def fac(x): # from Problem 15\n",
        "  prod = 1\n",
        "\n",
        "  for i in range(2, x+1):\n",
        "    prod *= i\n",
        "\n",
        "  return prod\n",
        "\n",
        "def digitFacSum(x):\n",
        "  return sum(list(map(fac, list(map(int, str(x))))))\n",
        "\n",
        "def chainLength(x):\n",
        "  seen = set()\n",
        "\n",
        "  while x not in seen:\n",
        "    seen.add(x)\n",
        "    x = digitFacSum(x)\n",
        "\n",
        "  return len(seen)\n",
        "\n",
        "count = 0\n",
        "\n",
        "for i in range(1, 1000000):\n",
        "  if chainLength(i) == 60:\n",
        "    count += 1\n",
        "\n",
        "print(count)"
      ],
      "metadata": {
        "colab": {
          "base_uri": "https://localhost:8080/"
        },
        "id": "5essjLSr3KjO",
        "outputId": "aaae9587-2f83-4fcb-fb62-667d9e7f5ed8"
      },
      "execution_count": null,
      "outputs": [
        {
          "output_type": "stream",
          "name": "stdout",
          "text": [
            "402\n"
          ]
        }
      ]
    },
    {
      "cell_type": "markdown",
      "source": [
        "# Problem 75: Singular Integer Right Triangles (TBD)"
      ],
      "metadata": {
        "id": "JJW_AZceopm1"
      }
    },
    {
      "cell_type": "code",
      "source": [
        "def checkPeriSoln(p):\n",
        "  soln = 0\n",
        "\n",
        "  for i in range(1, p//2 + 1):\n",
        "    for j in range(1, i):\n",
        "      h = p - i - j\n",
        "\n",
        "      if h == (i ** 2 + j ** 2) ** 0.5 and i + j  > p:\n",
        "        soln += 1\n",
        "\n",
        "  return soln\n",
        "\n",
        "count = 0\n",
        "\n",
        "for p in range(1, 1500001):\n",
        "  print(p)\n",
        "  if checkPeriSoln(p) == 1:\n",
        "    count += 1\n",
        "\n",
        "print(count)\n"
      ],
      "metadata": {
        "id": "Uap8jYV_op8G"
      },
      "execution_count": null,
      "outputs": []
    },
    {
      "cell_type": "markdown",
      "source": [
        "# Problem 80: Square Root Digital Expansion (TBD)"
      ],
      "metadata": {
        "id": "Ad8bNAvjq8RF"
      }
    },
    {
      "cell_type": "code",
      "source": [
        "def sq(x): # from Problem 6\n",
        "  return x ** 2\n",
        "\n",
        "for i in range(100):\n",
        "  if i not in list(map(sq, list(range(11)))):\n",
        "    print(round(i ** 0.5 % 1, 100))"
      ],
      "metadata": {
        "colab": {
          "base_uri": "https://localhost:8080/"
        },
        "id": "zu7x2qH0q8he",
        "outputId": "b6d62672-1d3b-4a85-dc8d-7705aeebed60"
      },
      "execution_count": null,
      "outputs": [
        {
          "output_type": "stream",
          "name": "stdout",
          "text": [
            "0.41421356237309515\n",
            "0.7320508075688772\n",
            "0.2360679774997898\n",
            "0.4494897427831779\n",
            "0.6457513110645907\n",
            "0.8284271247461903\n",
            "0.16227766016837952\n",
            "0.3166247903553998\n",
            "0.4641016151377544\n",
            "0.6055512754639891\n",
            "0.7416573867739413\n",
            "0.872983346207417\n",
            "0.12310562561766059\n",
            "0.24264068711928477\n",
            "0.358898943540674\n",
            "0.4721359549995796\n",
            "0.5825756949558398\n",
            "0.6904157598234297\n",
            "0.7958315233127191\n",
            "0.8989794855663558\n",
            "0.09901951359278449\n",
            "0.19615242270663202\n",
            "0.29150262212918143\n",
            "0.38516480713450374\n",
            "0.4772255750516612\n",
            "0.5677643628300215\n",
            "0.6568542494923806\n",
            "0.7445626465380286\n",
            "0.8309518948453007\n",
            "0.9160797830996161\n",
            "0.08276253029821934\n",
            "0.16441400296897601\n",
            "0.2449979983983983\n",
            "0.32455532033675905\n",
            "0.40312423743284853\n",
            "0.4807406984078604\n",
            "0.5574385243020004\n",
            "0.6332495807107996\n",
            "0.7082039324993694\n",
            "0.7823299831252681\n",
            "0.8556546004010439\n",
            "0.9282032302755088\n",
            "0.0710678118654755\n",
            "0.14142842854285043\n",
            "0.21110255092797825\n",
            "0.28010988928051805\n",
            "0.34846922834953453\n",
            "0.416198487095663\n",
            "0.48331477354788266\n",
            "0.5498344352707498\n",
            "0.6157731058639087\n",
            "0.6811457478686078\n",
            "0.745966692414834\n",
            "0.810249675906654\n",
            "0.8740078740118111\n",
            "0.9372539331937721\n",
            "0.06225774829854913\n",
            "0.12403840463596083\n",
            "0.18535277187245036\n",
            "0.24621125123532117\n",
            "0.30662386291807486\n",
            "0.3666002653407556\n",
            "0.42614977317635905\n",
            "0.48528137423856954\n",
            "0.5440037453175304\n",
            "0.6023252670426267\n",
            "0.6602540378443873\n",
            "0.717797887081348\n",
            "0.7749643873921226\n",
            "0.8317608663278477\n",
            "0.8881944173155887\n",
            "0.9442719099991592\n",
            "0.0553851381374173\n",
            "0.11043357914429919\n",
            "0.16515138991167966\n",
            "0.21954445729288707\n",
            "0.27361849549570394\n",
            "0.32737905308881565\n",
            "0.38083151964685946\n",
            "0.43398113205660316\n",
            "0.4868329805051381\n",
            "0.5393920141694561\n",
            "0.5916630466254382\n",
            "0.6436507609929549\n",
            "0.6953597148326587\n",
            "0.7467943448089631\n",
            "0.7979589711327115\n",
            "0.8488578017961039\n",
            "0.8994949366116654\n",
            "0.9498743710661994\n"
          ]
        }
      ]
    },
    {
      "cell_type": "markdown",
      "source": [
        "# Problem 81: Path Sum: Two Ways"
      ],
      "metadata": {
        "id": "LfMRjPPW2Q5R"
      }
    },
    {
      "cell_type": "code",
      "source": [
        "# (file handling inspired) from Problem 22\n",
        "\n",
        "import requests\n",
        "\n",
        "url = \"https://projecteuler.net/resources/documents/0081_matrix.txt\"\n",
        "response = requests.get(url)\n",
        "\n",
        "if response.status_code == 200:\n",
        "    file_content = response.text\n",
        "\n",
        "else:\n",
        "    print(f\"Failed to retrieve file. Status code: {response.status_code}\")\n",
        "\n",
        "prob = file_content.strip()\n",
        "\n",
        "def split(s: str) -> list: # from Problem 18\n",
        "  return list(map(int, s.split(',')))\n",
        "\n",
        "grid = list(map(split, prob.split('\\n')))\n",
        "\n",
        "for i in range(len(grid) - 2, -1, -1):\n",
        "  for j in range(len(grid) - 1, i - 1, -1):\n",
        "      if j == len(grid) - 1:\n",
        "        grid[j][i] += grid[j][i + 1]\n",
        "\n",
        "        if i != j:\n",
        "          grid[i][j] += grid[i + 1][j]\n",
        "\n",
        "      else:\n",
        "        grid[j][i] += min(grid[j + 1][i], grid[j][i + 1])\n",
        "\n",
        "        if i != j:\n",
        "          grid[i][j] += min(grid[i + 1][j], grid[i][j + 1])\n",
        "\n",
        "print(grid[0][0])"
      ],
      "metadata": {
        "colab": {
          "base_uri": "https://localhost:8080/"
        },
        "id": "P7VGCDXs2RMv",
        "outputId": "49100c16-53a2-4a29-e809-0bb29a5ab9ea"
      },
      "execution_count": null,
      "outputs": [
        {
          "output_type": "stream",
          "name": "stdout",
          "text": [
            "427337\n"
          ]
        }
      ]
    },
    {
      "cell_type": "markdown",
      "source": [
        "# Problem 85: Counting Rectangles"
      ],
      "metadata": {
        "id": "c1Wk-df3F0qw"
      }
    },
    {
      "cell_type": "code",
      "source": [
        "'''\n",
        "\n",
        "Brute force with faster termination, ensures convergence in seconds.\n",
        "\n",
        "'''\n",
        "\n",
        "def fac(x): # from Problem 15\n",
        "  prod = 1\n",
        "\n",
        "  for i in range(2, x+1):\n",
        "    prod *= i\n",
        "\n",
        "  return prod\n",
        "\n",
        "def nCr(n, r): # from Problem 53\n",
        "  return fac(n) // fac(r) // fac(n-r)\n",
        "\n",
        "closest = 9e9\n",
        "closestArea = None\n",
        "\n",
        "for i in range(2, 1000):\n",
        "  loopBreaker = False\n",
        "\n",
        "  for j in range(2, i + i):\n",
        "    if loopBreaker:\n",
        "      break\n",
        "\n",
        "    new = nCr(i + 1, 2) * nCr(j + 1, 2)\n",
        "    newClose = abs(new - 2000000)\n",
        "\n",
        "    if new > 2000000:\n",
        "      loopBreaker = True\n",
        "\n",
        "    if newClose < closest:\n",
        "      closest = newClose\n",
        "      closestArea = i * j\n",
        "\n",
        "print(closestArea)"
      ],
      "metadata": {
        "colab": {
          "base_uri": "https://localhost:8080/"
        },
        "id": "UayEWG1FF4p0",
        "outputId": "2a45365c-11be-4bce-c715-0866ef839b86"
      },
      "execution_count": null,
      "outputs": [
        {
          "output_type": "stream",
          "name": "stdout",
          "text": [
            "2772\n"
          ]
        }
      ]
    },
    {
      "cell_type": "markdown",
      "source": [
        "# Problem 92: Square Digit Chains"
      ],
      "metadata": {
        "id": "RFhh0k-cRxdW"
      }
    },
    {
      "cell_type": "code",
      "source": [
        "'''\n",
        "\n",
        "Used while loop instead of recursion to save space; added numArrival dioctionary to reduce computation time.\n",
        "\n",
        "9.0s on Apple MacBook Pro (2021) M1 Pro with Python 3.13.7 on VS Code, 28s on Google Colab (free tier).\n",
        "\n",
        "'''\n",
        "\n",
        "def sqDigit(char: str) -> int:\n",
        "  return int(char) ** 2\n",
        "\n",
        "def sqSum(x):\n",
        "  return sum(list(map(sqDigit, str(x))))\n",
        "\n",
        "count = 0\n",
        "numArrival = dict()\n",
        "\n",
        "for i in range(1, 10000000):\n",
        "  num = i\n",
        "\n",
        "  while not num in [1, 89]:\n",
        "    num = sqSum(num)\n",
        "\n",
        "    if num in numArrival:\n",
        "      num = numArrival[num]\n",
        "\n",
        "  if num == 89:\n",
        "    count += 1\n",
        "\n",
        "  numArrival[i] = num\n",
        "\n",
        "print(count)"
      ],
      "metadata": {
        "colab": {
          "base_uri": "https://localhost:8080/"
        },
        "id": "aAx6z9hUR2XS",
        "outputId": "cdbce939-81ad-407e-9dcc-75c4462aba28"
      },
      "execution_count": null,
      "outputs": [
        {
          "output_type": "stream",
          "name": "stdout",
          "text": [
            "8581146\n"
          ]
        }
      ]
    },
    {
      "cell_type": "markdown",
      "source": [
        "# Problem 93: Arithmetic Expressions (TBD)"
      ],
      "metadata": {
        "id": "vzOC0fv5RKTG"
      }
    },
    {
      "cell_type": "code",
      "source": [],
      "metadata": {
        "id": "Rhj9LsIMRKuE"
      },
      "execution_count": null,
      "outputs": []
    },
    {
      "cell_type": "markdown",
      "source": [
        "# Problem 94: Almost Equilateral Triangles (TBD)"
      ],
      "metadata": {
        "id": "NnUzFAGGKdED"
      }
    },
    {
      "cell_type": "code",
      "source": [
        "upper = 1000000000 // 3 + 1\n",
        "\n",
        "def area(x, b):\n",
        "  '''\n",
        "\n",
        "  Returns the area of an isoceles triangle with isoceles side x and base b.\n",
        "\n",
        "  '''\n",
        "\n",
        "  h = (x ** 2 - (b / 2) ** 2) ** 0.5\n",
        "  return b * h / 2\n",
        "\n",
        "total = 0\n",
        "\n",
        "for i in range(2, upper):\n",
        "  check = {area(i, i - 1) : i - 1, area(i, i + 1) : i + 1}\n",
        "\n",
        "  for triangleArea in check:\n",
        "    if triangleArea % 1 == 0:\n",
        "      total += i * 2 + check[triangleArea]\n",
        "\n",
        "print(total)\n"
      ],
      "metadata": {
        "id": "oFYwUiL6KdT4",
        "colab": {
          "base_uri": "https://localhost:8080/",
          "height": 332
        },
        "outputId": "0ec44bb9-df11-49b4-b74f-dba24b99da88"
      },
      "execution_count": null,
      "outputs": [
        {
          "output_type": "error",
          "ename": "KeyboardInterrupt",
          "evalue": "",
          "traceback": [
            "\u001b[0;31m---------------------------------------------------------------------------\u001b[0m",
            "\u001b[0;31mKeyboardInterrupt\u001b[0m                         Traceback (most recent call last)",
            "\u001b[0;32m/tmp/ipython-input-3012472319.py\u001b[0m in \u001b[0;36m<cell line: 0>\u001b[0;34m()\u001b[0m\n\u001b[1;32m     14\u001b[0m \u001b[0;34m\u001b[0m\u001b[0m\n\u001b[1;32m     15\u001b[0m \u001b[0;32mfor\u001b[0m \u001b[0mi\u001b[0m \u001b[0;32min\u001b[0m \u001b[0mrange\u001b[0m\u001b[0;34m(\u001b[0m\u001b[0;36m2\u001b[0m\u001b[0;34m,\u001b[0m \u001b[0mupper\u001b[0m\u001b[0;34m)\u001b[0m\u001b[0;34m:\u001b[0m\u001b[0;34m\u001b[0m\u001b[0;34m\u001b[0m\u001b[0m\n\u001b[0;32m---> 16\u001b[0;31m   \u001b[0mcheck\u001b[0m \u001b[0;34m=\u001b[0m \u001b[0;34m{\u001b[0m\u001b[0marea\u001b[0m\u001b[0;34m(\u001b[0m\u001b[0mi\u001b[0m\u001b[0;34m,\u001b[0m \u001b[0mi\u001b[0m \u001b[0;34m-\u001b[0m \u001b[0;36m1\u001b[0m\u001b[0;34m)\u001b[0m \u001b[0;34m:\u001b[0m \u001b[0mi\u001b[0m \u001b[0;34m-\u001b[0m \u001b[0;36m1\u001b[0m\u001b[0;34m,\u001b[0m \u001b[0marea\u001b[0m\u001b[0;34m(\u001b[0m\u001b[0mi\u001b[0m\u001b[0;34m,\u001b[0m \u001b[0mi\u001b[0m \u001b[0;34m+\u001b[0m \u001b[0;36m1\u001b[0m\u001b[0;34m)\u001b[0m \u001b[0;34m:\u001b[0m \u001b[0mi\u001b[0m \u001b[0;34m+\u001b[0m \u001b[0;36m1\u001b[0m\u001b[0;34m}\u001b[0m\u001b[0;34m\u001b[0m\u001b[0;34m\u001b[0m\u001b[0m\n\u001b[0m\u001b[1;32m     17\u001b[0m \u001b[0;34m\u001b[0m\u001b[0m\n\u001b[1;32m     18\u001b[0m   \u001b[0;32mfor\u001b[0m \u001b[0mtriangleArea\u001b[0m \u001b[0;32min\u001b[0m \u001b[0mcheck\u001b[0m\u001b[0;34m:\u001b[0m\u001b[0;34m\u001b[0m\u001b[0;34m\u001b[0m\u001b[0m\n",
            "\u001b[0;32m/tmp/ipython-input-3012472319.py\u001b[0m in \u001b[0;36marea\u001b[0;34m(x, b)\u001b[0m\n\u001b[1;32m      1\u001b[0m \u001b[0mupper\u001b[0m \u001b[0;34m=\u001b[0m \u001b[0;36m1000000000\u001b[0m \u001b[0;34m//\u001b[0m \u001b[0;36m3\u001b[0m \u001b[0;34m+\u001b[0m \u001b[0;36m1\u001b[0m\u001b[0;34m\u001b[0m\u001b[0;34m\u001b[0m\u001b[0m\n\u001b[1;32m      2\u001b[0m \u001b[0;34m\u001b[0m\u001b[0m\n\u001b[0;32m----> 3\u001b[0;31m \u001b[0;32mdef\u001b[0m \u001b[0marea\u001b[0m\u001b[0;34m(\u001b[0m\u001b[0mx\u001b[0m\u001b[0;34m,\u001b[0m \u001b[0mb\u001b[0m\u001b[0;34m)\u001b[0m\u001b[0;34m:\u001b[0m\u001b[0;34m\u001b[0m\u001b[0;34m\u001b[0m\u001b[0m\n\u001b[0m\u001b[1;32m      4\u001b[0m   '''\n\u001b[1;32m      5\u001b[0m \u001b[0;34m\u001b[0m\u001b[0m\n",
            "\u001b[0;31mKeyboardInterrupt\u001b[0m: "
          ]
        }
      ]
    },
    {
      "cell_type": "markdown",
      "source": [
        "# Problem 96: Su Doku"
      ],
      "metadata": {
        "id": "OcEDxn4lAbyL"
      }
    },
    {
      "cell_type": "code",
      "source": [
        "import math\n",
        "\n",
        "# (file handling inspired) from Problem 22\n",
        "\n",
        "import requests\n",
        "\n",
        "url = \"https://projecteuler.net/resources/documents/0096_sudoku.txt\"\n",
        "response = requests.get(url)\n",
        "\n",
        "if response.status_code == 200:\n",
        "    file_content = response.text\n",
        "\n",
        "else:\n",
        "    print(f\"Failed to retrieve file. Status code: {response.status_code}\")\n",
        "\n",
        "lines = file_content.split('\\n')\n",
        "probs = []\n",
        "\n",
        "for line in lines:\n",
        "  if line[0] == 'G':\n",
        "    if line[-2:] != \"01\":\n",
        "      probs.append(newProb)\n",
        "\n",
        "    newProb = []\n",
        "\n",
        "\n",
        "  else:\n",
        "    newProb.append(list(map(int, line)))\n",
        "\n",
        "probs.append(newProb)\n",
        "\n",
        "class Sudoku:\n",
        "  def __init__(self, prob):\n",
        "    self.prob = prob\n",
        "\n",
        "  def getEmpty(self):\n",
        "    for row in range(len(self.prob)):\n",
        "      for col in range(len(prob[row])):\n",
        "        if prob[row][col] == 0:\n",
        "          return (row, col)\n",
        "\n",
        "  def isValid(self, ele, pos):\n",
        "    for col in range(len(self.prob[pos[0]])):\n",
        "      if col != pos[1] and self.prob[pos[0]][col] == ele:\n",
        "        return False\n",
        "\n",
        "    for row in range(len(self.prob)):\n",
        "      if row != pos[0] and self.prob[row][pos[1]] == ele:\n",
        "        return False\n",
        "\n",
        "    for row in range(pos[0] // 3 * 3, pos[0] // 3 * 3 + 3):\n",
        "      for col in range(pos[1] // 3 * 3, pos[1] // 3 * 3 + 3):\n",
        "        if (row, col) != pos and self.prob[row][col] == ele:\n",
        "          return False\n",
        "\n",
        "    return True\n",
        "\n",
        "  def isSolved(self):\n",
        "    consider = self.getEmpty()\n",
        "\n",
        "    if not consider:\n",
        "      return True\n",
        "\n",
        "    row, col = consider\n",
        "\n",
        "    for potential in range(1, len(prob) + 1):\n",
        "      if self.isValid(potential, (row, col)):\n",
        "        self.prob[row][col] = potential\n",
        "\n",
        "        if self.isSolved():\n",
        "          return True\n",
        "\n",
        "        self.prob[row][col] = 0\n",
        "\n",
        "    return False\n",
        "\n",
        "total = 0\n",
        "\n",
        "for prob in probs:\n",
        "  sudoku = Sudoku(prob)\n",
        "  sudoku.isSolved()\n",
        "  total += sudoku.prob[0][0] * (10 ** 2) + sudoku.prob[0][1] * 10 + sudoku.prob[0][2]\n",
        "\n",
        "print(total)\n"
      ],
      "metadata": {
        "colab": {
          "base_uri": "https://localhost:8080/"
        },
        "id": "O3eZ0LvdAcAW",
        "outputId": "0f938b83-3105-4913-b4d7-aae6930d6d20"
      },
      "execution_count": 37,
      "outputs": [
        {
          "output_type": "stream",
          "name": "stdout",
          "text": [
            "24702\n"
          ]
        }
      ]
    },
    {
      "cell_type": "markdown",
      "source": [
        "# Problem 97: Large Non-Mersenne Prime"
      ],
      "metadata": {
        "id": "7hwkYMdjEnoZ"
      }
    },
    {
      "cell_type": "code",
      "source": [
        "print(28433 * 2 ** 7830457 % 10 ** 10 + 1)"
      ],
      "metadata": {
        "colab": {
          "base_uri": "https://localhost:8080/"
        },
        "id": "Kyoq_d-YEoU-",
        "outputId": "79cae169-7cee-4137-84aa-bb5b14587960"
      },
      "execution_count": null,
      "outputs": [
        {
          "output_type": "stream",
          "name": "stdout",
          "text": [
            "8739992577\n"
          ]
        }
      ]
    },
    {
      "cell_type": "markdown",
      "source": [
        "# Problem 99: Largest Exponential"
      ],
      "metadata": {
        "id": "Ikknrqb3CCZu"
      }
    },
    {
      "cell_type": "code",
      "source": [
        "import math\n",
        "\n",
        "# (file handling inspired) from Problem 22\n",
        "\n",
        "import requests\n",
        "\n",
        "url = \"https://projecteuler.net/resources/documents/0099_base_exp.txt\"\n",
        "response = requests.get(url)\n",
        "\n",
        "if response.status_code == 200:\n",
        "    file_content = response.text\n",
        "\n",
        "else:\n",
        "    print(f\"Failed to retrieve file. Status code: {response.status_code}\")\n",
        "\n",
        "prob = file_content\n",
        "\n",
        "def split(s: str) -> list: # from Problem 18\n",
        "  return list(map(int, s.split(',')))\n",
        "\n",
        "numPairList = list(map(split, prob.split('\\n')))\n",
        "\n",
        "largest = -9e9\n",
        "largest_idx = None\n",
        "idx = 1\n",
        "\n",
        "for num, power in numPairList:\n",
        "  new = power * math.log(num)\n",
        "\n",
        "  if new > largest:\n",
        "    largest = new\n",
        "    largest_idx = idx\n",
        "\n",
        "  idx += 1\n",
        "\n",
        "print(largest_idx)"
      ],
      "metadata": {
        "colab": {
          "base_uri": "https://localhost:8080/"
        },
        "id": "LiAcDy_NCEoL",
        "outputId": "14862f44-478d-44e4-c2a7-7cc91a8f85be"
      },
      "execution_count": null,
      "outputs": [
        {
          "output_type": "stream",
          "name": "stdout",
          "text": [
            "709\n"
          ]
        }
      ]
    },
    {
      "cell_type": "markdown",
      "source": [
        "# Problem 100: Arranged Probability (TBD)"
      ],
      "metadata": {
        "id": "ikC870gLIglk"
      }
    },
    {
      "cell_type": "code",
      "source": [
        "'''\n",
        "\n",
        "noOfBlues * (noOfBlues - 1) / (total * (total - 1)) = 1 / 2\n",
        "\n",
        "'''\n",
        "\n",
        "def noOfBlues(total):\n",
        "  return (1 + (1 + 2 * (total * (total - 1))) ** 0.5) / 2\n",
        "\n",
        "idx = 1e12\n",
        "\n",
        "while noOfBlues(idx) % 1 != 0:\n",
        "  print(idx)\n",
        "  idx += 1\n",
        "\n",
        "print(noOfBlues(idx))"
      ],
      "metadata": {
        "colab": {
          "base_uri": "https://localhost:8080/"
        },
        "id": "fbjsDtswIgyT",
        "outputId": "a7b131cc-05a0-4021-f21d-b21804087f93"
      },
      "execution_count": null,
      "outputs": [
        {
          "output_type": "stream",
          "name": "stdout",
          "text": [
            "1000000000000.0\n",
            "1000000000001.0\n",
            "1000000000002.0\n",
            "1000000000003.0\n",
            "1000000000004.0\n",
            "1000000000005.0\n",
            "1000000000006.0\n",
            "1000000000007.0\n",
            "1000000000008.0\n",
            "1000000000009.0\n",
            "1000000000010.0\n",
            "1000000000011.0\n",
            "1000000000012.0\n",
            "1000000000013.0\n",
            "1000000000014.0\n",
            "1000000000015.0\n",
            "1000000000016.0\n",
            "1000000000017.0\n",
            "1000000000018.0\n",
            "1000000000019.0\n",
            "1000000000020.0\n",
            "1000000000021.0\n",
            "1000000000022.0\n",
            "1000000000023.0\n",
            "1000000000024.0\n",
            "1000000000025.0\n",
            "1000000000026.0\n",
            "1000000000027.0\n",
            "1000000000028.0\n",
            "1000000000029.0\n",
            "1000000000030.0\n",
            "1000000000031.0\n",
            "1000000000032.0\n",
            "1000000000033.0\n",
            "1000000000034.0\n",
            "1000000000035.0\n",
            "1000000000036.0\n",
            "1000000000037.0\n",
            "1000000000038.0\n",
            "1000000000039.0\n",
            "1000000000040.0\n",
            "1000000000041.0\n",
            "1000000000042.0\n",
            "1000000000043.0\n",
            "1000000000044.0\n",
            "1000000000045.0\n",
            "1000000000046.0\n",
            "1000000000047.0\n",
            "1000000000048.0\n",
            "1000000000049.0\n",
            "1000000000050.0\n",
            "1000000000051.0\n",
            "1000000000052.0\n",
            "1000000000053.0\n",
            "1000000000054.0\n",
            "1000000000055.0\n",
            "1000000000056.0\n",
            "1000000000057.0\n",
            "1000000000058.0\n",
            "1000000000059.0\n",
            "1000000000060.0\n",
            "1000000000061.0\n",
            "1000000000062.0\n",
            "1000000000063.0\n",
            "1000000000064.0\n",
            "1000000000065.0\n",
            "1000000000066.0\n",
            "1000000000067.0\n",
            "1000000000068.0\n",
            "1000000000069.0\n",
            "1000000000070.0\n",
            "1000000000071.0\n",
            "1000000000072.0\n",
            "1000000000073.0\n",
            "1000000000074.0\n",
            "1000000000075.0\n",
            "1000000000076.0\n",
            "1000000000077.0\n",
            "1000000000078.0\n",
            "1000000000079.0\n",
            "1000000000080.0\n",
            "1000000000081.0\n",
            "1000000000082.0\n",
            "1000000000083.0\n",
            "1000000000084.0\n",
            "1000000000085.0\n",
            "1000000000086.0\n",
            "1000000000087.0\n",
            "1000000000088.0\n",
            "1000000000089.0\n",
            "1000000000090.0\n",
            "1000000000091.0\n",
            "1000000000092.0\n",
            "1000000000093.0\n",
            "1000000000094.0\n",
            "1000000000095.0\n",
            "1000000000096.0\n",
            "1000000000097.0\n",
            "1000000000098.0\n",
            "1000000000099.0\n",
            "1000000000100.0\n",
            "1000000000101.0\n",
            "1000000000102.0\n",
            "1000000000103.0\n",
            "1000000000104.0\n",
            "1000000000105.0\n",
            "1000000000106.0\n",
            "1000000000107.0\n",
            "1000000000108.0\n",
            "1000000000109.0\n",
            "1000000000110.0\n",
            "1000000000111.0\n",
            "1000000000112.0\n",
            "1000000000113.0\n",
            "1000000000114.0\n",
            "1000000000115.0\n",
            "1000000000116.0\n",
            "1000000000117.0\n",
            "1000000000118.0\n",
            "1000000000119.0\n",
            "1000000000120.0\n",
            "1000000000121.0\n",
            "1000000000122.0\n",
            "1000000000123.0\n",
            "1000000000124.0\n",
            "1000000000125.0\n",
            "1000000000126.0\n",
            "1000000000127.0\n",
            "1000000000128.0\n",
            "1000000000129.0\n",
            "1000000000130.0\n",
            "1000000000131.0\n",
            "1000000000132.0\n",
            "1000000000133.0\n",
            "1000000000134.0\n",
            "1000000000135.0\n",
            "1000000000136.0\n",
            "1000000000137.0\n",
            "1000000000138.0\n",
            "1000000000139.0\n",
            "1000000000140.0\n",
            "1000000000141.0\n",
            "1000000000142.0\n",
            "1000000000143.0\n",
            "1000000000144.0\n",
            "1000000000145.0\n",
            "1000000000146.0\n",
            "1000000000147.0\n",
            "1000000000148.0\n",
            "1000000000149.0\n",
            "1000000000150.0\n",
            "1000000000151.0\n",
            "1000000000152.0\n",
            "1000000000153.0\n",
            "1000000000154.0\n",
            "1000000000155.0\n",
            "1000000000156.0\n",
            "1000000000157.0\n",
            "1000000000158.0\n",
            "1000000000159.0\n",
            "1000000000160.0\n",
            "1000000000161.0\n",
            "1000000000162.0\n",
            "1000000000163.0\n",
            "1000000000164.0\n",
            "1000000000165.0\n",
            "1000000000166.0\n",
            "1000000000167.0\n",
            "1000000000168.0\n",
            "1000000000169.0\n",
            "1000000000170.0\n",
            "1000000000171.0\n",
            "1000000000172.0\n",
            "1000000000173.0\n",
            "1000000000174.0\n",
            "1000000000175.0\n",
            "1000000000176.0\n",
            "1000000000177.0\n",
            "1000000000178.0\n",
            "1000000000179.0\n",
            "1000000000180.0\n",
            "1000000000181.0\n",
            "1000000000182.0\n",
            "1000000000183.0\n",
            "1000000000184.0\n",
            "1000000000185.0\n",
            "1000000000186.0\n",
            "1000000000187.0\n",
            "1000000000188.0\n",
            "1000000000189.0\n",
            "1000000000190.0\n",
            "1000000000191.0\n",
            "1000000000192.0\n",
            "1000000000193.0\n",
            "1000000000194.0\n",
            "1000000000195.0\n",
            "1000000000196.0\n",
            "1000000000197.0\n",
            "1000000000198.0\n",
            "1000000000199.0\n",
            "1000000000200.0\n",
            "1000000000201.0\n",
            "1000000000202.0\n",
            "1000000000203.0\n",
            "1000000000204.0\n",
            "1000000000205.0\n",
            "1000000000206.0\n",
            "1000000000207.0\n",
            "1000000000208.0\n",
            "1000000000209.0\n",
            "1000000000210.0\n",
            "1000000000211.0\n",
            "1000000000212.0\n",
            "1000000000213.0\n",
            "1000000000214.0\n",
            "1000000000215.0\n",
            "1000000000216.0\n",
            "1000000000217.0\n",
            "1000000000218.0\n",
            "1000000000219.0\n",
            "1000000000220.0\n",
            "1000000000221.0\n",
            "1000000000222.0\n",
            "1000000000223.0\n",
            "1000000000224.0\n",
            "1000000000225.0\n",
            "1000000000226.0\n",
            "1000000000227.0\n",
            "1000000000228.0\n",
            "1000000000229.0\n",
            "1000000000230.0\n",
            "1000000000231.0\n",
            "1000000000232.0\n",
            "1000000000233.0\n",
            "1000000000234.0\n",
            "1000000000235.0\n",
            "1000000000236.0\n",
            "1000000000237.0\n",
            "1000000000238.0\n",
            "1000000000239.0\n",
            "1000000000240.0\n",
            "1000000000241.0\n",
            "1000000000242.0\n",
            "1000000000243.0\n",
            "1000000000244.0\n",
            "1000000000245.0\n",
            "1000000000246.0\n",
            "1000000000247.0\n",
            "1000000000248.0\n",
            "1000000000249.0\n",
            "1000000000250.0\n",
            "1000000000251.0\n",
            "1000000000252.0\n",
            "1000000000253.0\n",
            "1000000000254.0\n",
            "1000000000255.0\n",
            "1000000000256.0\n",
            "1000000000257.0\n",
            "1000000000258.0\n",
            "1000000000259.0\n",
            "1000000000260.0\n",
            "1000000000261.0\n",
            "1000000000262.0\n",
            "1000000000263.0\n",
            "1000000000264.0\n",
            "1000000000265.0\n",
            "1000000000266.0\n",
            "1000000000267.0\n",
            "1000000000268.0\n",
            "1000000000269.0\n",
            "1000000000270.0\n",
            "1000000000271.0\n",
            "1000000000272.0\n",
            "1000000000273.0\n",
            "1000000000274.0\n",
            "1000000000275.0\n",
            "1000000000276.0\n",
            "1000000000277.0\n",
            "1000000000278.0\n",
            "1000000000279.0\n",
            "1000000000280.0\n",
            "1000000000281.0\n",
            "1000000000282.0\n",
            "1000000000283.0\n",
            "1000000000284.0\n",
            "1000000000285.0\n",
            "1000000000286.0\n",
            "1000000000287.0\n",
            "1000000000288.0\n",
            "1000000000289.0\n",
            "1000000000290.0\n",
            "1000000000291.0\n",
            "1000000000292.0\n",
            "1000000000293.0\n",
            "1000000000294.0\n",
            "1000000000295.0\n",
            "1000000000296.0\n",
            "1000000000297.0\n",
            "1000000000298.0\n",
            "1000000000299.0\n",
            "1000000000300.0\n",
            "1000000000301.0\n",
            "1000000000302.0\n",
            "1000000000303.0\n",
            "1000000000304.0\n",
            "1000000000305.0\n",
            "1000000000306.0\n",
            "1000000000307.0\n",
            "1000000000308.0\n",
            "1000000000309.0\n",
            "1000000000310.0\n",
            "1000000000311.0\n",
            "1000000000312.0\n",
            "1000000000313.0\n",
            "1000000000314.0\n",
            "1000000000315.0\n",
            "1000000000316.0\n",
            "1000000000317.0\n",
            "1000000000318.0\n",
            "1000000000319.0\n",
            "1000000000320.0\n",
            "1000000000321.0\n",
            "1000000000322.0\n",
            "1000000000323.0\n",
            "1000000000324.0\n",
            "1000000000325.0\n",
            "1000000000326.0\n",
            "1000000000327.0\n",
            "1000000000328.0\n",
            "1000000000329.0\n",
            "1000000000330.0\n",
            "1000000000331.0\n",
            "1000000000332.0\n",
            "1000000000333.0\n",
            "1000000000334.0\n",
            "1000000000335.0\n",
            "1000000000336.0\n",
            "1000000000337.0\n",
            "1000000000338.0\n",
            "1000000000339.0\n",
            "1000000000340.0\n",
            "1000000000341.0\n",
            "1000000000342.0\n",
            "1000000000343.0\n",
            "1000000000344.0\n",
            "1000000000345.0\n",
            "1000000000346.0\n",
            "1000000000347.0\n",
            "1000000000348.0\n",
            "1000000000349.0\n",
            "1000000000350.0\n",
            "1000000000351.0\n",
            "1000000000352.0\n",
            "1000000000353.0\n",
            "1000000000354.0\n",
            "1000000000355.0\n",
            "1000000000356.0\n",
            "1000000000357.0\n",
            "1000000000358.0\n",
            "1000000000359.0\n",
            "1000000000360.0\n",
            "1000000000361.0\n",
            "1000000000362.0\n",
            "1000000000363.0\n",
            "1000000000364.0\n",
            "1000000000365.0\n",
            "1000000000366.0\n",
            "1000000000367.0\n",
            "1000000000368.0\n",
            "1000000000369.0\n",
            "1000000000370.0\n",
            "1000000000371.0\n",
            "1000000000372.0\n",
            "1000000000373.0\n",
            "1000000000374.0\n",
            "1000000000375.0\n",
            "1000000000376.0\n",
            "1000000000377.0\n",
            "1000000000378.0\n",
            "1000000000379.0\n",
            "1000000000380.0\n",
            "1000000000381.0\n",
            "1000000000382.0\n",
            "1000000000383.0\n",
            "1000000000384.0\n",
            "1000000000385.0\n",
            "1000000000386.0\n",
            "1000000000387.0\n",
            "1000000000388.0\n",
            "1000000000389.0\n",
            "1000000000390.0\n",
            "1000000000391.0\n",
            "1000000000392.0\n",
            "1000000000393.0\n",
            "1000000000394.0\n",
            "1000000000395.0\n",
            "1000000000396.0\n",
            "1000000000397.0\n",
            "1000000000398.0\n",
            "1000000000399.0\n",
            "1000000000400.0\n",
            "1000000000401.0\n",
            "1000000000402.0\n",
            "1000000000403.0\n",
            "1000000000404.0\n",
            "1000000000405.0\n",
            "1000000000406.0\n",
            "1000000000407.0\n",
            "1000000000408.0\n",
            "1000000000409.0\n",
            "1000000000410.0\n",
            "1000000000411.0\n",
            "1000000000412.0\n",
            "1000000000413.0\n",
            "1000000000414.0\n",
            "1000000000415.0\n",
            "1000000000416.0\n",
            "1000000000417.0\n",
            "1000000000418.0\n",
            "1000000000419.0\n",
            "1000000000420.0\n",
            "1000000000421.0\n",
            "1000000000422.0\n",
            "1000000000423.0\n",
            "1000000000424.0\n",
            "1000000000425.0\n",
            "1000000000426.0\n",
            "1000000000427.0\n",
            "1000000000428.0\n",
            "1000000000429.0\n",
            "1000000000430.0\n",
            "1000000000431.0\n",
            "1000000000432.0\n",
            "1000000000433.0\n",
            "1000000000434.0\n",
            "1000000000435.0\n",
            "1000000000436.0\n",
            "1000000000437.0\n",
            "1000000000438.0\n",
            "1000000000439.0\n",
            "1000000000440.0\n",
            "1000000000441.0\n",
            "1000000000442.0\n",
            "1000000000443.0\n",
            "1000000000444.0\n",
            "1000000000445.0\n",
            "1000000000446.0\n",
            "1000000000447.0\n",
            "1000000000448.0\n",
            "1000000000449.0\n",
            "1000000000450.0\n",
            "1000000000451.0\n",
            "1000000000452.0\n",
            "1000000000453.0\n",
            "1000000000454.0\n",
            "1000000000455.0\n",
            "1000000000456.0\n",
            "1000000000457.0\n",
            "1000000000458.0\n",
            "1000000000459.0\n",
            "1000000000460.0\n",
            "1000000000461.0\n",
            "1000000000462.0\n",
            "1000000000463.0\n",
            "1000000000464.0\n",
            "1000000000465.0\n",
            "1000000000466.0\n",
            "1000000000467.0\n",
            "1000000000468.0\n",
            "1000000000469.0\n",
            "1000000000470.0\n",
            "1000000000471.0\n",
            "1000000000472.0\n",
            "1000000000473.0\n",
            "1000000000474.0\n",
            "1000000000475.0\n",
            "1000000000476.0\n",
            "1000000000477.0\n",
            "1000000000478.0\n",
            "1000000000479.0\n",
            "1000000000480.0\n",
            "1000000000481.0\n",
            "1000000000482.0\n",
            "1000000000483.0\n",
            "1000000000484.0\n",
            "1000000000485.0\n",
            "1000000000486.0\n",
            "1000000000487.0\n",
            "1000000000488.0\n",
            "1000000000489.0\n",
            "1000000000490.0\n",
            "1000000000491.0\n",
            "1000000000492.0\n",
            "1000000000493.0\n",
            "1000000000494.0\n",
            "1000000000495.0\n",
            "1000000000496.0\n",
            "1000000000497.0\n",
            "1000000000498.0\n",
            "1000000000499.0\n",
            "1000000000500.0\n",
            "1000000000501.0\n",
            "1000000000502.0\n",
            "1000000000503.0\n",
            "1000000000504.0\n",
            "1000000000505.0\n",
            "1000000000506.0\n",
            "1000000000507.0\n",
            "1000000000508.0\n",
            "1000000000509.0\n",
            "1000000000510.0\n",
            "1000000000511.0\n",
            "1000000000512.0\n",
            "1000000000513.0\n",
            "1000000000514.0\n",
            "1000000000515.0\n",
            "1000000000516.0\n",
            "1000000000517.0\n",
            "1000000000518.0\n",
            "1000000000519.0\n",
            "1000000000520.0\n",
            "1000000000521.0\n",
            "1000000000522.0\n",
            "1000000000523.0\n",
            "1000000000524.0\n",
            "1000000000525.0\n",
            "1000000000526.0\n",
            "1000000000527.0\n",
            "1000000000528.0\n",
            "1000000000529.0\n",
            "1000000000530.0\n",
            "1000000000531.0\n",
            "1000000000532.0\n",
            "1000000000533.0\n",
            "1000000000534.0\n",
            "1000000000535.0\n",
            "1000000000536.0\n",
            "1000000000537.0\n",
            "1000000000538.0\n",
            "1000000000539.0\n",
            "1000000000540.0\n",
            "1000000000541.0\n",
            "1000000000542.0\n",
            "1000000000543.0\n",
            "1000000000544.0\n",
            "1000000000545.0\n",
            "1000000000546.0\n",
            "1000000000547.0\n",
            "1000000000548.0\n",
            "1000000000549.0\n",
            "1000000000550.0\n",
            "1000000000551.0\n",
            "1000000000552.0\n",
            "1000000000553.0\n",
            "1000000000554.0\n",
            "1000000000555.0\n",
            "1000000000556.0\n",
            "1000000000557.0\n",
            "1000000000558.0\n",
            "1000000000559.0\n",
            "1000000000560.0\n",
            "1000000000561.0\n",
            "1000000000562.0\n",
            "1000000000563.0\n",
            "1000000000564.0\n",
            "1000000000565.0\n",
            "1000000000566.0\n",
            "1000000000567.0\n",
            "1000000000568.0\n",
            "1000000000569.0\n",
            "1000000000570.0\n",
            "1000000000571.0\n",
            "1000000000572.0\n",
            "1000000000573.0\n",
            "1000000000574.0\n",
            "1000000000575.0\n",
            "1000000000576.0\n",
            "1000000000577.0\n",
            "1000000000578.0\n",
            "1000000000579.0\n",
            "1000000000580.0\n",
            "1000000000581.0\n",
            "1000000000582.0\n",
            "1000000000583.0\n",
            "1000000000584.0\n",
            "1000000000585.0\n",
            "1000000000586.0\n",
            "1000000000587.0\n",
            "1000000000588.0\n",
            "1000000000589.0\n",
            "1000000000590.0\n",
            "1000000000591.0\n",
            "1000000000592.0\n",
            "1000000000593.0\n",
            "1000000000594.0\n",
            "1000000000595.0\n",
            "1000000000596.0\n",
            "1000000000597.0\n",
            "1000000000598.0\n",
            "1000000000599.0\n",
            "1000000000600.0\n",
            "1000000000601.0\n",
            "1000000000602.0\n",
            "1000000000603.0\n",
            "1000000000604.0\n",
            "1000000000605.0\n",
            "1000000000606.0\n",
            "1000000000607.0\n",
            "1000000000608.0\n",
            "1000000000609.0\n",
            "1000000000610.0\n",
            "1000000000611.0\n",
            "1000000000612.0\n",
            "1000000000613.0\n",
            "1000000000614.0\n",
            "1000000000615.0\n",
            "1000000000616.0\n",
            "1000000000617.0\n",
            "1000000000618.0\n",
            "1000000000619.0\n",
            "1000000000620.0\n",
            "1000000000621.0\n",
            "1000000000622.0\n",
            "1000000000623.0\n",
            "1000000000624.0\n",
            "1000000000625.0\n",
            "1000000000626.0\n",
            "1000000000627.0\n",
            "1000000000628.0\n",
            "1000000000629.0\n",
            "1000000000630.0\n",
            "1000000000631.0\n",
            "1000000000632.0\n",
            "1000000000633.0\n",
            "1000000000634.0\n",
            "1000000000635.0\n",
            "1000000000636.0\n",
            "1000000000637.0\n",
            "1000000000638.0\n",
            "1000000000639.0\n",
            "1000000000640.0\n",
            "1000000000641.0\n",
            "1000000000642.0\n",
            "1000000000643.0\n",
            "1000000000644.0\n",
            "1000000000645.0\n",
            "1000000000646.0\n",
            "1000000000647.0\n",
            "1000000000648.0\n",
            "1000000000649.0\n",
            "1000000000650.0\n",
            "1000000000651.0\n",
            "1000000000652.0\n",
            "1000000000653.0\n",
            "1000000000654.0\n",
            "1000000000655.0\n",
            "1000000000656.0\n",
            "1000000000657.0\n",
            "1000000000658.0\n",
            "1000000000659.0\n",
            "1000000000660.0\n",
            "1000000000661.0\n",
            "1000000000662.0\n",
            "1000000000663.0\n",
            "1000000000664.0\n",
            "1000000000665.0\n",
            "1000000000666.0\n",
            "1000000000667.0\n",
            "1000000000668.0\n",
            "1000000000669.0\n",
            "1000000000670.0\n",
            "1000000000671.0\n",
            "1000000000672.0\n",
            "1000000000673.0\n",
            "1000000000674.0\n",
            "1000000000675.0\n",
            "1000000000676.0\n",
            "1000000000677.0\n",
            "1000000000678.0\n",
            "1000000000679.0\n",
            "1000000000680.0\n",
            "1000000000681.0\n",
            "1000000000682.0\n",
            "1000000000683.0\n",
            "1000000000684.0\n",
            "1000000000685.0\n",
            "1000000000686.0\n",
            "1000000000687.0\n",
            "1000000000688.0\n",
            "1000000000689.0\n",
            "1000000000690.0\n",
            "1000000000691.0\n",
            "1000000000692.0\n",
            "1000000000693.0\n",
            "1000000000694.0\n",
            "1000000000695.0\n",
            "1000000000696.0\n",
            "1000000000697.0\n",
            "1000000000698.0\n",
            "1000000000699.0\n",
            "1000000000700.0\n",
            "1000000000701.0\n",
            "1000000000702.0\n",
            "1000000000703.0\n",
            "1000000000704.0\n",
            "1000000000705.0\n",
            "1000000000706.0\n",
            "1000000000707.0\n",
            "1000000000708.0\n",
            "1000000000709.0\n",
            "1000000000710.0\n",
            "1000000000711.0\n",
            "1000000000712.0\n",
            "1000000000713.0\n",
            "1000000000714.0\n",
            "1000000000715.0\n",
            "1000000000716.0\n",
            "1000000000717.0\n",
            "1000000000718.0\n",
            "1000000000719.0\n",
            "1000000000720.0\n",
            "1000000000721.0\n",
            "1000000000722.0\n",
            "1000000000723.0\n",
            "1000000000724.0\n",
            "1000000000725.0\n",
            "1000000000726.0\n",
            "1000000000727.0\n",
            "1000000000728.0\n",
            "1000000000729.0\n",
            "1000000000730.0\n",
            "1000000000731.0\n",
            "1000000000732.0\n",
            "1000000000733.0\n",
            "1000000000734.0\n",
            "1000000000735.0\n",
            "1000000000736.0\n",
            "1000000000737.0\n",
            "1000000000738.0\n",
            "1000000000739.0\n",
            "1000000000740.0\n",
            "1000000000741.0\n",
            "1000000000742.0\n",
            "1000000000743.0\n",
            "1000000000744.0\n",
            "1000000000745.0\n",
            "1000000000746.0\n",
            "1000000000747.0\n",
            "1000000000748.0\n",
            "1000000000749.0\n",
            "1000000000750.0\n",
            "1000000000751.0\n",
            "1000000000752.0\n",
            "1000000000753.0\n",
            "1000000000754.0\n",
            "1000000000755.0\n",
            "1000000000756.0\n",
            "1000000000757.0\n",
            "1000000000758.0\n",
            "1000000000759.0\n",
            "1000000000760.0\n",
            "1000000000761.0\n",
            "1000000000762.0\n",
            "1000000000763.0\n",
            "1000000000764.0\n",
            "1000000000765.0\n",
            "1000000000766.0\n",
            "1000000000767.0\n",
            "1000000000768.0\n",
            "1000000000769.0\n",
            "1000000000770.0\n",
            "1000000000771.0\n",
            "1000000000772.0\n",
            "1000000000773.0\n",
            "1000000000774.0\n",
            "1000000000775.0\n",
            "1000000000776.0\n",
            "1000000000777.0\n",
            "1000000000778.0\n",
            "1000000000779.0\n",
            "1000000000780.0\n",
            "1000000000781.0\n",
            "1000000000782.0\n",
            "1000000000783.0\n",
            "1000000000784.0\n",
            "1000000000785.0\n",
            "1000000000786.0\n",
            "1000000000787.0\n",
            "1000000000788.0\n",
            "1000000000789.0\n",
            "1000000000790.0\n",
            "1000000000791.0\n",
            "1000000000792.0\n",
            "1000000000793.0\n",
            "1000000000794.0\n",
            "1000000000795.0\n",
            "1000000000796.0\n",
            "1000000000797.0\n",
            "1000000000798.0\n",
            "1000000000799.0\n",
            "1000000000800.0\n",
            "1000000000801.0\n",
            "1000000000802.0\n",
            "1000000000803.0\n",
            "1000000000804.0\n",
            "1000000000805.0\n",
            "1000000000806.0\n",
            "1000000000807.0\n",
            "1000000000808.0\n",
            "1000000000809.0\n",
            "1000000000810.0\n",
            "1000000000811.0\n",
            "1000000000812.0\n",
            "1000000000813.0\n",
            "1000000000814.0\n",
            "1000000000815.0\n",
            "1000000000816.0\n",
            "1000000000817.0\n",
            "1000000000818.0\n",
            "1000000000819.0\n",
            "1000000000820.0\n",
            "1000000000821.0\n",
            "1000000000822.0\n",
            "1000000000823.0\n",
            "1000000000824.0\n",
            "1000000000825.0\n",
            "1000000000826.0\n",
            "1000000000827.0\n",
            "1000000000828.0\n",
            "1000000000829.0\n",
            "1000000000830.0\n",
            "1000000000831.0\n",
            "1000000000832.0\n",
            "1000000000833.0\n",
            "1000000000834.0\n",
            "1000000000835.0\n",
            "1000000000836.0\n",
            "1000000000837.0\n",
            "1000000000838.0\n",
            "1000000000839.0\n",
            "1000000000840.0\n",
            "1000000000841.0\n",
            "1000000000842.0\n",
            "1000000000843.0\n",
            "1000000000844.0\n",
            "1000000000845.0\n",
            "1000000000846.0\n",
            "1000000000847.0\n",
            "1000000000848.0\n",
            "1000000000849.0\n",
            "1000000000850.0\n",
            "1000000000851.0\n",
            "1000000000852.0\n",
            "1000000000853.0\n",
            "1000000000854.0\n",
            "1000000000855.0\n",
            "1000000000856.0\n",
            "1000000000857.0\n",
            "1000000000858.0\n",
            "1000000000859.0\n",
            "1000000000860.0\n",
            "1000000000861.0\n",
            "1000000000862.0\n",
            "1000000000863.0\n",
            "1000000000864.0\n",
            "1000000000865.0\n",
            "1000000000866.0\n",
            "1000000000867.0\n",
            "1000000000868.0\n",
            "1000000000869.0\n",
            "1000000000870.0\n",
            "1000000000871.0\n",
            "1000000000872.0\n",
            "1000000000873.0\n",
            "1000000000874.0\n",
            "1000000000875.0\n",
            "1000000000876.0\n",
            "1000000000877.0\n",
            "1000000000878.0\n",
            "1000000000879.0\n",
            "1000000000880.0\n",
            "1000000000881.0\n",
            "1000000000882.0\n",
            "1000000000883.0\n",
            "1000000000884.0\n",
            "1000000000885.0\n",
            "1000000000886.0\n",
            "1000000000887.0\n",
            "1000000000888.0\n",
            "1000000000889.0\n",
            "1000000000890.0\n",
            "1000000000891.0\n",
            "1000000000892.0\n",
            "1000000000893.0\n",
            "1000000000894.0\n",
            "1000000000895.0\n",
            "1000000000896.0\n",
            "1000000000897.0\n",
            "1000000000898.0\n",
            "1000000000899.0\n",
            "1000000000900.0\n",
            "1000000000901.0\n",
            "1000000000902.0\n",
            "1000000000903.0\n",
            "1000000000904.0\n",
            "1000000000905.0\n",
            "1000000000906.0\n",
            "1000000000907.0\n",
            "1000000000908.0\n",
            "1000000000909.0\n",
            "1000000000910.0\n",
            "1000000000911.0\n",
            "1000000000912.0\n",
            "1000000000913.0\n",
            "1000000000914.0\n",
            "1000000000915.0\n",
            "1000000000916.0\n",
            "1000000000917.0\n",
            "1000000000918.0\n",
            "1000000000919.0\n",
            "1000000000920.0\n",
            "1000000000921.0\n",
            "1000000000922.0\n",
            "1000000000923.0\n",
            "1000000000924.0\n",
            "1000000000925.0\n",
            "1000000000926.0\n",
            "1000000000927.0\n",
            "1000000000928.0\n",
            "1000000000929.0\n",
            "1000000000930.0\n",
            "1000000000931.0\n",
            "1000000000932.0\n",
            "1000000000933.0\n",
            "1000000000934.0\n",
            "1000000000935.0\n",
            "1000000000936.0\n",
            "1000000000937.0\n",
            "1000000000938.0\n",
            "1000000000939.0\n",
            "1000000000940.0\n",
            "1000000000941.0\n",
            "1000000000942.0\n",
            "1000000000943.0\n",
            "1000000000944.0\n",
            "1000000000945.0\n",
            "1000000000946.0\n",
            "1000000000947.0\n",
            "1000000000948.0\n",
            "1000000000949.0\n",
            "1000000000950.0\n",
            "1000000000951.0\n",
            "1000000000952.0\n",
            "1000000000953.0\n",
            "1000000000954.0\n",
            "1000000000955.0\n",
            "1000000000956.0\n",
            "1000000000957.0\n",
            "1000000000958.0\n",
            "1000000000959.0\n",
            "1000000000960.0\n",
            "1000000000961.0\n",
            "1000000000962.0\n",
            "1000000000963.0\n",
            "1000000000964.0\n",
            "1000000000965.0\n",
            "1000000000966.0\n",
            "1000000000967.0\n",
            "1000000000968.0\n",
            "1000000000969.0\n",
            "1000000000970.0\n",
            "1000000000971.0\n",
            "1000000000972.0\n",
            "1000000000973.0\n",
            "1000000000974.0\n",
            "1000000000975.0\n",
            "1000000000976.0\n",
            "1000000000977.0\n",
            "1000000000978.0\n",
            "1000000000979.0\n",
            "1000000000980.0\n",
            "1000000000981.0\n",
            "1000000000982.0\n",
            "1000000000983.0\n",
            "1000000000984.0\n",
            "1000000000985.0\n",
            "1000000000986.0\n",
            "1000000000987.0\n",
            "1000000000988.0\n",
            "1000000000989.0\n",
            "1000000000990.0\n",
            "1000000000991.0\n",
            "1000000000992.0\n",
            "1000000000993.0\n",
            "1000000000994.0\n",
            "1000000000995.0\n",
            "1000000000996.0\n",
            "1000000000997.0\n",
            "1000000000998.0\n",
            "1000000000999.0\n",
            "1000000001000.0\n",
            "1000000001001.0\n",
            "1000000001002.0\n",
            "1000000001003.0\n",
            "1000000001004.0\n",
            "1000000001005.0\n",
            "1000000001006.0\n",
            "1000000001007.0\n",
            "1000000001008.0\n",
            "1000000001009.0\n",
            "1000000001010.0\n",
            "1000000001011.0\n",
            "1000000001012.0\n",
            "1000000001013.0\n",
            "1000000001014.0\n",
            "1000000001015.0\n",
            "1000000001016.0\n",
            "1000000001017.0\n",
            "1000000001018.0\n",
            "1000000001019.0\n",
            "1000000001020.0\n",
            "1000000001021.0\n",
            "1000000001022.0\n",
            "1000000001023.0\n",
            "1000000001024.0\n",
            "1000000001025.0\n",
            "1000000001026.0\n",
            "1000000001027.0\n",
            "1000000001028.0\n",
            "1000000001029.0\n",
            "1000000001030.0\n",
            "1000000001031.0\n",
            "1000000001032.0\n",
            "1000000001033.0\n",
            "1000000001034.0\n",
            "1000000001035.0\n",
            "1000000001036.0\n",
            "1000000001037.0\n",
            "1000000001038.0\n",
            "1000000001039.0\n",
            "1000000001040.0\n",
            "1000000001041.0\n",
            "1000000001042.0\n",
            "1000000001043.0\n",
            "1000000001044.0\n",
            "1000000001045.0\n",
            "1000000001046.0\n",
            "1000000001047.0\n",
            "1000000001048.0\n",
            "1000000001049.0\n",
            "1000000001050.0\n",
            "1000000001051.0\n",
            "1000000001052.0\n",
            "1000000001053.0\n",
            "1000000001054.0\n",
            "1000000001055.0\n",
            "1000000001056.0\n",
            "1000000001057.0\n",
            "1000000001058.0\n",
            "1000000001059.0\n",
            "1000000001060.0\n",
            "1000000001061.0\n",
            "1000000001062.0\n",
            "1000000001063.0\n",
            "1000000001064.0\n",
            "1000000001065.0\n",
            "1000000001066.0\n",
            "1000000001067.0\n",
            "1000000001068.0\n",
            "1000000001069.0\n",
            "1000000001070.0\n",
            "1000000001071.0\n",
            "1000000001072.0\n",
            "1000000001073.0\n",
            "1000000001074.0\n",
            "1000000001075.0\n",
            "1000000001076.0\n",
            "1000000001077.0\n",
            "1000000001078.0\n",
            "1000000001079.0\n",
            "1000000001080.0\n",
            "1000000001081.0\n",
            "1000000001082.0\n",
            "1000000001083.0\n",
            "1000000001084.0\n",
            "1000000001085.0\n",
            "1000000001086.0\n",
            "1000000001087.0\n",
            "1000000001088.0\n",
            "1000000001089.0\n",
            "1000000001090.0\n",
            "1000000001091.0\n",
            "1000000001092.0\n",
            "1000000001093.0\n",
            "1000000001094.0\n",
            "1000000001095.0\n",
            "1000000001096.0\n",
            "1000000001097.0\n",
            "1000000001098.0\n",
            "1000000001099.0\n",
            "1000000001100.0\n",
            "1000000001101.0\n",
            "1000000001102.0\n",
            "1000000001103.0\n",
            "1000000001104.0\n",
            "1000000001105.0\n",
            "1000000001106.0\n",
            "1000000001107.0\n",
            "1000000001108.0\n",
            "1000000001109.0\n",
            "1000000001110.0\n",
            "1000000001111.0\n",
            "1000000001112.0\n",
            "1000000001113.0\n",
            "1000000001114.0\n",
            "1000000001115.0\n",
            "1000000001116.0\n",
            "1000000001117.0\n",
            "1000000001118.0\n",
            "1000000001119.0\n",
            "1000000001120.0\n",
            "1000000001121.0\n",
            "1000000001122.0\n",
            "1000000001123.0\n",
            "1000000001124.0\n",
            "1000000001125.0\n",
            "1000000001126.0\n",
            "1000000001127.0\n",
            "1000000001128.0\n",
            "1000000001129.0\n",
            "1000000001130.0\n",
            "1000000001131.0\n",
            "1000000001132.0\n",
            "1000000001133.0\n",
            "1000000001134.0\n",
            "1000000001135.0\n",
            "1000000001136.0\n",
            "1000000001137.0\n",
            "1000000001138.0\n",
            "1000000001139.0\n",
            "1000000001140.0\n",
            "1000000001141.0\n",
            "1000000001142.0\n",
            "1000000001143.0\n",
            "1000000001144.0\n",
            "1000000001145.0\n",
            "1000000001146.0\n",
            "1000000001147.0\n",
            "1000000001148.0\n",
            "1000000001149.0\n",
            "1000000001150.0\n",
            "1000000001151.0\n",
            "1000000001152.0\n",
            "1000000001153.0\n",
            "1000000001154.0\n",
            "1000000001155.0\n",
            "1000000001156.0\n",
            "1000000001157.0\n",
            "1000000001158.0\n",
            "1000000001159.0\n",
            "1000000001160.0\n",
            "1000000001161.0\n",
            "1000000001162.0\n",
            "1000000001163.0\n",
            "1000000001164.0\n",
            "1000000001165.0\n",
            "1000000001166.0\n",
            "1000000001167.0\n",
            "1000000001168.0\n",
            "1000000001169.0\n",
            "1000000001170.0\n",
            "1000000001171.0\n",
            "1000000001172.0\n",
            "1000000001173.0\n",
            "1000000001174.0\n",
            "1000000001175.0\n",
            "1000000001176.0\n",
            "1000000001177.0\n",
            "1000000001178.0\n",
            "1000000001179.0\n",
            "1000000001180.0\n",
            "1000000001181.0\n",
            "1000000001182.0\n",
            "1000000001183.0\n",
            "1000000001184.0\n",
            "1000000001185.0\n",
            "1000000001186.0\n",
            "1000000001187.0\n",
            "1000000001188.0\n",
            "1000000001189.0\n",
            "1000000001190.0\n",
            "1000000001191.0\n",
            "1000000001192.0\n",
            "1000000001193.0\n",
            "1000000001194.0\n",
            "1000000001195.0\n",
            "1000000001196.0\n",
            "1000000001197.0\n",
            "1000000001198.0\n",
            "1000000001199.0\n",
            "1000000001200.0\n",
            "1000000001201.0\n",
            "1000000001202.0\n",
            "1000000001203.0\n",
            "1000000001204.0\n",
            "1000000001205.0\n",
            "1000000001206.0\n",
            "1000000001207.0\n",
            "1000000001208.0\n",
            "1000000001209.0\n",
            "1000000001210.0\n",
            "1000000001211.0\n",
            "1000000001212.0\n",
            "1000000001213.0\n",
            "1000000001214.0\n",
            "1000000001215.0\n",
            "1000000001216.0\n",
            "1000000001217.0\n",
            "1000000001218.0\n",
            "1000000001219.0\n",
            "1000000001220.0\n",
            "1000000001221.0\n",
            "1000000001222.0\n",
            "1000000001223.0\n",
            "1000000001224.0\n",
            "1000000001225.0\n",
            "1000000001226.0\n",
            "1000000001227.0\n",
            "1000000001228.0\n",
            "1000000001229.0\n",
            "1000000001230.0\n",
            "1000000001231.0\n",
            "1000000001232.0\n",
            "1000000001233.0\n",
            "1000000001234.0\n",
            "1000000001235.0\n",
            "1000000001236.0\n",
            "1000000001237.0\n",
            "1000000001238.0\n",
            "1000000001239.0\n",
            "1000000001240.0\n",
            "1000000001241.0\n",
            "1000000001242.0\n",
            "1000000001243.0\n",
            "1000000001244.0\n",
            "1000000001245.0\n",
            "1000000001246.0\n",
            "1000000001247.0\n",
            "1000000001248.0\n",
            "1000000001249.0\n",
            "1000000001250.0\n",
            "1000000001251.0\n",
            "1000000001252.0\n",
            "1000000001253.0\n",
            "1000000001254.0\n",
            "1000000001255.0\n",
            "1000000001256.0\n",
            "1000000001257.0\n",
            "1000000001258.0\n",
            "1000000001259.0\n",
            "1000000001260.0\n",
            "1000000001261.0\n",
            "1000000001262.0\n",
            "1000000001263.0\n",
            "1000000001264.0\n",
            "1000000001265.0\n",
            "1000000001266.0\n",
            "1000000001267.0\n",
            "1000000001268.0\n",
            "1000000001269.0\n",
            "1000000001270.0\n",
            "1000000001271.0\n",
            "1000000001272.0\n",
            "1000000001273.0\n",
            "1000000001274.0\n",
            "1000000001275.0\n",
            "1000000001276.0\n",
            "1000000001277.0\n",
            "1000000001278.0\n",
            "1000000001279.0\n",
            "1000000001280.0\n",
            "1000000001281.0\n",
            "1000000001282.0\n",
            "1000000001283.0\n",
            "1000000001284.0\n",
            "1000000001285.0\n",
            "1000000001286.0\n",
            "1000000001287.0\n",
            "1000000001288.0\n",
            "1000000001289.0\n",
            "1000000001290.0\n",
            "1000000001291.0\n",
            "1000000001292.0\n",
            "1000000001293.0\n",
            "1000000001294.0\n",
            "1000000001295.0\n",
            "1000000001296.0\n",
            "1000000001297.0\n",
            "1000000001298.0\n",
            "1000000001299.0\n",
            "1000000001300.0\n",
            "1000000001301.0\n",
            "1000000001302.0\n",
            "1000000001303.0\n",
            "1000000001304.0\n",
            "1000000001305.0\n",
            "1000000001306.0\n",
            "1000000001307.0\n",
            "1000000001308.0\n",
            "1000000001309.0\n",
            "1000000001310.0\n",
            "1000000001311.0\n",
            "1000000001312.0\n",
            "1000000001313.0\n",
            "1000000001314.0\n",
            "1000000001315.0\n",
            "1000000001316.0\n",
            "1000000001317.0\n",
            "1000000001318.0\n",
            "1000000001319.0\n",
            "1000000001320.0\n",
            "1000000001321.0\n",
            "1000000001322.0\n",
            "1000000001323.0\n",
            "1000000001324.0\n",
            "1000000001325.0\n",
            "1000000001326.0\n",
            "1000000001327.0\n",
            "1000000001328.0\n",
            "1000000001329.0\n",
            "1000000001330.0\n",
            "1000000001331.0\n",
            "1000000001332.0\n",
            "1000000001333.0\n",
            "1000000001334.0\n",
            "1000000001335.0\n",
            "1000000001336.0\n",
            "1000000001337.0\n",
            "1000000001338.0\n",
            "1000000001339.0\n",
            "1000000001340.0\n",
            "1000000001341.0\n",
            "1000000001342.0\n",
            "1000000001343.0\n",
            "1000000001344.0\n",
            "1000000001345.0\n",
            "1000000001346.0\n",
            "1000000001347.0\n",
            "1000000001348.0\n",
            "1000000001349.0\n",
            "1000000001350.0\n",
            "1000000001351.0\n",
            "1000000001352.0\n",
            "1000000001353.0\n",
            "1000000001354.0\n",
            "1000000001355.0\n",
            "1000000001356.0\n",
            "1000000001357.0\n",
            "1000000001358.0\n",
            "1000000001359.0\n",
            "1000000001360.0\n",
            "1000000001361.0\n",
            "1000000001362.0\n",
            "1000000001363.0\n",
            "1000000001364.0\n",
            "1000000001365.0\n",
            "1000000001366.0\n",
            "1000000001367.0\n",
            "1000000001368.0\n",
            "1000000001369.0\n",
            "1000000001370.0\n",
            "1000000001371.0\n",
            "1000000001372.0\n",
            "1000000001373.0\n",
            "1000000001374.0\n",
            "1000000001375.0\n",
            "1000000001376.0\n",
            "1000000001377.0\n",
            "1000000001378.0\n",
            "1000000001379.0\n",
            "1000000001380.0\n",
            "1000000001381.0\n",
            "1000000001382.0\n",
            "1000000001383.0\n",
            "1000000001384.0\n",
            "1000000001385.0\n",
            "1000000001386.0\n",
            "1000000001387.0\n",
            "1000000001388.0\n",
            "1000000001389.0\n",
            "1000000001390.0\n",
            "1000000001391.0\n",
            "1000000001392.0\n",
            "1000000001393.0\n",
            "1000000001394.0\n",
            "1000000001395.0\n",
            "1000000001396.0\n",
            "1000000001397.0\n",
            "1000000001398.0\n",
            "1000000001399.0\n",
            "1000000001400.0\n",
            "1000000001401.0\n",
            "1000000001402.0\n",
            "1000000001403.0\n",
            "1000000001404.0\n",
            "1000000001405.0\n",
            "1000000001406.0\n",
            "1000000001407.0\n",
            "1000000001408.0\n",
            "1000000001409.0\n",
            "1000000001410.0\n",
            "1000000001411.0\n",
            "1000000001412.0\n",
            "1000000001413.0\n",
            "1000000001414.0\n",
            "1000000001415.0\n",
            "1000000001416.0\n",
            "1000000001417.0\n",
            "1000000001418.0\n",
            "1000000001419.0\n",
            "1000000001420.0\n",
            "1000000001421.0\n",
            "1000000001422.0\n",
            "1000000001423.0\n",
            "1000000001424.0\n",
            "1000000001425.0\n",
            "1000000001426.0\n",
            "1000000001427.0\n",
            "1000000001428.0\n",
            "1000000001429.0\n",
            "1000000001430.0\n",
            "1000000001431.0\n",
            "1000000001432.0\n",
            "1000000001433.0\n",
            "1000000001434.0\n",
            "1000000001435.0\n",
            "1000000001436.0\n",
            "1000000001437.0\n",
            "1000000001438.0\n",
            "1000000001439.0\n",
            "1000000001440.0\n",
            "1000000001441.0\n",
            "1000000001442.0\n",
            "1000000001443.0\n",
            "1000000001444.0\n",
            "1000000001445.0\n",
            "1000000001446.0\n",
            "1000000001447.0\n",
            "1000000001448.0\n",
            "1000000001449.0\n",
            "1000000001450.0\n",
            "1000000001451.0\n",
            "1000000001452.0\n",
            "1000000001453.0\n",
            "1000000001454.0\n",
            "1000000001455.0\n",
            "1000000001456.0\n",
            "1000000001457.0\n",
            "1000000001458.0\n",
            "1000000001459.0\n",
            "1000000001460.0\n",
            "1000000001461.0\n",
            "1000000001462.0\n",
            "1000000001463.0\n",
            "1000000001464.0\n",
            "1000000001465.0\n",
            "1000000001466.0\n",
            "1000000001467.0\n",
            "1000000001468.0\n",
            "1000000001469.0\n",
            "1000000001470.0\n",
            "1000000001471.0\n",
            "1000000001472.0\n",
            "1000000001473.0\n",
            "1000000001474.0\n",
            "1000000001475.0\n",
            "1000000001476.0\n",
            "1000000001477.0\n",
            "1000000001478.0\n",
            "1000000001479.0\n",
            "1000000001480.0\n",
            "1000000001481.0\n",
            "1000000001482.0\n",
            "1000000001483.0\n",
            "1000000001484.0\n",
            "1000000001485.0\n",
            "1000000001486.0\n",
            "1000000001487.0\n",
            "1000000001488.0\n",
            "1000000001489.0\n",
            "1000000001490.0\n",
            "1000000001491.0\n",
            "1000000001492.0\n",
            "1000000001493.0\n",
            "1000000001494.0\n",
            "1000000001495.0\n",
            "1000000001496.0\n",
            "1000000001497.0\n",
            "1000000001498.0\n",
            "1000000001499.0\n",
            "1000000001500.0\n",
            "1000000001501.0\n",
            "1000000001502.0\n",
            "1000000001503.0\n",
            "1000000001504.0\n",
            "1000000001505.0\n",
            "1000000001506.0\n",
            "1000000001507.0\n",
            "1000000001508.0\n",
            "1000000001509.0\n",
            "1000000001510.0\n",
            "1000000001511.0\n",
            "1000000001512.0\n",
            "1000000001513.0\n",
            "1000000001514.0\n",
            "1000000001515.0\n",
            "1000000001516.0\n",
            "1000000001517.0\n",
            "1000000001518.0\n",
            "1000000001519.0\n",
            "1000000001520.0\n",
            "1000000001521.0\n",
            "1000000001522.0\n",
            "1000000001523.0\n",
            "1000000001524.0\n",
            "1000000001525.0\n",
            "1000000001526.0\n",
            "1000000001527.0\n",
            "1000000001528.0\n",
            "1000000001529.0\n",
            "1000000001530.0\n",
            "1000000001531.0\n",
            "1000000001532.0\n",
            "1000000001533.0\n",
            "1000000001534.0\n",
            "1000000001535.0\n",
            "1000000001536.0\n",
            "1000000001537.0\n",
            "1000000001538.0\n",
            "1000000001539.0\n",
            "1000000001540.0\n",
            "1000000001541.0\n",
            "1000000001542.0\n",
            "1000000001543.0\n",
            "1000000001544.0\n",
            "1000000001545.0\n",
            "1000000001546.0\n",
            "1000000001547.0\n",
            "1000000001548.0\n",
            "1000000001549.0\n",
            "1000000001550.0\n",
            "1000000001551.0\n",
            "1000000001552.0\n",
            "1000000001553.0\n",
            "1000000001554.0\n",
            "1000000001555.0\n",
            "1000000001556.0\n",
            "1000000001557.0\n",
            "1000000001558.0\n",
            "1000000001559.0\n",
            "1000000001560.0\n",
            "1000000001561.0\n",
            "1000000001562.0\n",
            "1000000001563.0\n",
            "1000000001564.0\n",
            "1000000001565.0\n",
            "1000000001566.0\n",
            "1000000001567.0\n",
            "1000000001568.0\n",
            "1000000001569.0\n",
            "1000000001570.0\n",
            "1000000001571.0\n",
            "1000000001572.0\n",
            "1000000001573.0\n",
            "1000000001574.0\n",
            "1000000001575.0\n",
            "1000000001576.0\n",
            "1000000001577.0\n",
            "1000000001578.0\n",
            "1000000001579.0\n",
            "1000000001580.0\n",
            "1000000001581.0\n",
            "1000000001582.0\n",
            "1000000001583.0\n",
            "1000000001584.0\n",
            "1000000001585.0\n",
            "1000000001586.0\n",
            "1000000001587.0\n",
            "1000000001588.0\n",
            "1000000001589.0\n",
            "1000000001590.0\n",
            "1000000001591.0\n",
            "1000000001592.0\n",
            "1000000001593.0\n",
            "1000000001594.0\n",
            "1000000001595.0\n",
            "1000000001596.0\n",
            "1000000001597.0\n",
            "1000000001598.0\n",
            "1000000001599.0\n",
            "1000000001600.0\n",
            "1000000001601.0\n",
            "1000000001602.0\n",
            "1000000001603.0\n",
            "1000000001604.0\n",
            "1000000001605.0\n",
            "1000000001606.0\n",
            "1000000001607.0\n",
            "1000000001608.0\n",
            "1000000001609.0\n",
            "1000000001610.0\n",
            "1000000001611.0\n",
            "1000000001612.0\n",
            "1000000001613.0\n",
            "1000000001614.0\n",
            "1000000001615.0\n",
            "1000000001616.0\n",
            "1000000001617.0\n",
            "1000000001618.0\n",
            "1000000001619.0\n",
            "1000000001620.0\n",
            "1000000001621.0\n",
            "1000000001622.0\n",
            "1000000001623.0\n",
            "1000000001624.0\n",
            "1000000001625.0\n",
            "1000000001626.0\n",
            "1000000001627.0\n",
            "1000000001628.0\n",
            "1000000001629.0\n",
            "1000000001630.0\n",
            "1000000001631.0\n",
            "1000000001632.0\n",
            "1000000001633.0\n",
            "1000000001634.0\n",
            "1000000001635.0\n",
            "1000000001636.0\n",
            "1000000001637.0\n",
            "1000000001638.0\n",
            "1000000001639.0\n",
            "1000000001640.0\n",
            "1000000001641.0\n",
            "1000000001642.0\n",
            "1000000001643.0\n",
            "1000000001644.0\n",
            "1000000001645.0\n",
            "1000000001646.0\n",
            "1000000001647.0\n",
            "1000000001648.0\n",
            "1000000001649.0\n",
            "1000000001650.0\n",
            "1000000001651.0\n",
            "1000000001652.0\n",
            "1000000001653.0\n",
            "1000000001654.0\n",
            "1000000001655.0\n",
            "1000000001656.0\n",
            "1000000001657.0\n",
            "1000000001658.0\n",
            "1000000001659.0\n",
            "1000000001660.0\n",
            "1000000001661.0\n",
            "1000000001662.0\n",
            "1000000001663.0\n",
            "1000000001664.0\n",
            "1000000001665.0\n",
            "1000000001666.0\n",
            "1000000001667.0\n",
            "1000000001668.0\n",
            "1000000001669.0\n",
            "1000000001670.0\n",
            "1000000001671.0\n",
            "1000000001672.0\n",
            "1000000001673.0\n",
            "1000000001674.0\n",
            "1000000001675.0\n",
            "1000000001676.0\n",
            "1000000001677.0\n",
            "1000000001678.0\n",
            "1000000001679.0\n",
            "1000000001680.0\n",
            "1000000001681.0\n",
            "1000000001682.0\n",
            "1000000001683.0\n",
            "1000000001684.0\n",
            "1000000001685.0\n",
            "1000000001686.0\n",
            "1000000001687.0\n",
            "1000000001688.0\n",
            "1000000001689.0\n",
            "1000000001690.0\n",
            "1000000001691.0\n",
            "1000000001692.0\n",
            "1000000001693.0\n",
            "1000000001694.0\n",
            "1000000001695.0\n",
            "1000000001696.0\n",
            "1000000001697.0\n",
            "1000000001698.0\n",
            "1000000001699.0\n",
            "1000000001700.0\n",
            "1000000001701.0\n",
            "1000000001702.0\n",
            "1000000001703.0\n",
            "1000000001704.0\n",
            "1000000001705.0\n",
            "1000000001706.0\n",
            "1000000001707.0\n",
            "1000000001708.0\n",
            "1000000001709.0\n",
            "1000000001710.0\n",
            "1000000001711.0\n",
            "1000000001712.0\n",
            "1000000001713.0\n",
            "1000000001714.0\n",
            "1000000001715.0\n",
            "1000000001716.0\n",
            "1000000001717.0\n",
            "1000000001718.0\n",
            "1000000001719.0\n",
            "1000000001720.0\n",
            "1000000001721.0\n",
            "1000000001722.0\n",
            "1000000001723.0\n",
            "1000000001724.0\n",
            "1000000001725.0\n",
            "1000000001726.0\n",
            "1000000001727.0\n",
            "1000000001728.0\n",
            "1000000001729.0\n",
            "1000000001730.0\n",
            "1000000001731.0\n",
            "1000000001732.0\n",
            "1000000001733.0\n",
            "1000000001734.0\n",
            "1000000001735.0\n",
            "1000000001736.0\n",
            "1000000001737.0\n",
            "1000000001738.0\n",
            "1000000001739.0\n",
            "1000000001740.0\n",
            "1000000001741.0\n",
            "1000000001742.0\n",
            "1000000001743.0\n",
            "1000000001744.0\n",
            "1000000001745.0\n",
            "1000000001746.0\n",
            "1000000001747.0\n",
            "1000000001748.0\n",
            "1000000001749.0\n",
            "1000000001750.0\n",
            "1000000001751.0\n",
            "1000000001752.0\n",
            "1000000001753.0\n",
            "1000000001754.0\n",
            "1000000001755.0\n",
            "1000000001756.0\n",
            "1000000001757.0\n",
            "1000000001758.0\n",
            "1000000001759.0\n",
            "1000000001760.0\n",
            "1000000001761.0\n",
            "1000000001762.0\n",
            "1000000001763.0\n",
            "1000000001764.0\n",
            "1000000001765.0\n",
            "1000000001766.0\n",
            "1000000001767.0\n",
            "1000000001768.0\n",
            "1000000001769.0\n",
            "1000000001770.0\n",
            "1000000001771.0\n",
            "1000000001772.0\n",
            "1000000001773.0\n",
            "1000000001774.0\n",
            "1000000001775.0\n",
            "1000000001776.0\n",
            "1000000001777.0\n",
            "1000000001778.0\n",
            "1000000001779.0\n",
            "1000000001780.0\n",
            "1000000001781.0\n",
            "1000000001782.0\n",
            "1000000001783.0\n",
            "1000000001784.0\n",
            "1000000001785.0\n",
            "1000000001786.0\n",
            "1000000001787.0\n",
            "1000000001788.0\n",
            "1000000001789.0\n",
            "1000000001790.0\n",
            "1000000001791.0\n",
            "1000000001792.0\n",
            "1000000001793.0\n",
            "1000000001794.0\n",
            "1000000001795.0\n",
            "1000000001796.0\n",
            "1000000001797.0\n",
            "1000000001798.0\n",
            "1000000001799.0\n",
            "1000000001800.0\n",
            "1000000001801.0\n",
            "1000000001802.0\n",
            "1000000001803.0\n",
            "1000000001804.0\n",
            "1000000001805.0\n",
            "1000000001806.0\n",
            "1000000001807.0\n",
            "1000000001808.0\n",
            "1000000001809.0\n",
            "1000000001810.0\n",
            "1000000001811.0\n",
            "1000000001812.0\n",
            "1000000001813.0\n",
            "1000000001814.0\n",
            "1000000001815.0\n",
            "1000000001816.0\n",
            "1000000001817.0\n",
            "1000000001818.0\n",
            "1000000001819.0\n",
            "1000000001820.0\n",
            "1000000001821.0\n",
            "1000000001822.0\n",
            "1000000001823.0\n",
            "1000000001824.0\n",
            "1000000001825.0\n",
            "1000000001826.0\n",
            "1000000001827.0\n",
            "1000000001828.0\n",
            "1000000001829.0\n",
            "1000000001830.0\n",
            "1000000001831.0\n",
            "1000000001832.0\n",
            "1000000001833.0\n",
            "1000000001834.0\n",
            "1000000001835.0\n",
            "1000000001836.0\n",
            "1000000001837.0\n",
            "1000000001838.0\n",
            "1000000001839.0\n",
            "1000000001840.0\n",
            "1000000001841.0\n",
            "1000000001842.0\n",
            "1000000001843.0\n",
            "1000000001844.0\n",
            "1000000001845.0\n",
            "1000000001846.0\n",
            "1000000001847.0\n",
            "1000000001848.0\n",
            "1000000001849.0\n",
            "1000000001850.0\n",
            "1000000001851.0\n",
            "1000000001852.0\n",
            "1000000001853.0\n",
            "1000000001854.0\n",
            "1000000001855.0\n",
            "1000000001856.0\n",
            "1000000001857.0\n",
            "1000000001858.0\n",
            "1000000001859.0\n",
            "1000000001860.0\n",
            "1000000001861.0\n",
            "1000000001862.0\n",
            "1000000001863.0\n",
            "1000000001864.0\n",
            "1000000001865.0\n",
            "1000000001866.0\n",
            "1000000001867.0\n",
            "1000000001868.0\n",
            "1000000001869.0\n",
            "1000000001870.0\n",
            "1000000001871.0\n",
            "1000000001872.0\n",
            "1000000001873.0\n",
            "1000000001874.0\n",
            "1000000001875.0\n",
            "1000000001876.0\n",
            "1000000001877.0\n",
            "1000000001878.0\n",
            "1000000001879.0\n",
            "1000000001880.0\n",
            "1000000001881.0\n",
            "1000000001882.0\n",
            "1000000001883.0\n",
            "1000000001884.0\n",
            "1000000001885.0\n",
            "1000000001886.0\n",
            "1000000001887.0\n",
            "1000000001888.0\n",
            "1000000001889.0\n",
            "1000000001890.0\n",
            "1000000001891.0\n",
            "1000000001892.0\n",
            "1000000001893.0\n",
            "1000000001894.0\n",
            "1000000001895.0\n",
            "1000000001896.0\n",
            "1000000001897.0\n",
            "1000000001898.0\n",
            "1000000001899.0\n",
            "1000000001900.0\n",
            "1000000001901.0\n",
            "1000000001902.0\n",
            "1000000001903.0\n",
            "1000000001904.0\n",
            "1000000001905.0\n",
            "1000000001906.0\n",
            "1000000001907.0\n",
            "1000000001908.0\n",
            "1000000001909.0\n",
            "1000000001910.0\n",
            "1000000001911.0\n",
            "1000000001912.0\n",
            "1000000001913.0\n",
            "1000000001914.0\n",
            "1000000001915.0\n",
            "1000000001916.0\n",
            "1000000001917.0\n",
            "1000000001918.0\n",
            "1000000001919.0\n",
            "1000000001920.0\n",
            "1000000001921.0\n",
            "1000000001922.0\n",
            "1000000001923.0\n",
            "1000000001924.0\n",
            "1000000001925.0\n",
            "1000000001926.0\n",
            "1000000001927.0\n",
            "1000000001928.0\n",
            "1000000001929.0\n",
            "1000000001930.0\n",
            "1000000001931.0\n",
            "1000000001932.0\n",
            "1000000001933.0\n",
            "1000000001934.0\n",
            "1000000001935.0\n",
            "1000000001936.0\n",
            "1000000001937.0\n",
            "1000000001938.0\n",
            "1000000001939.0\n",
            "1000000001940.0\n",
            "1000000001941.0\n",
            "1000000001942.0\n",
            "1000000001943.0\n",
            "1000000001944.0\n",
            "1000000001945.0\n",
            "1000000001946.0\n",
            "1000000001947.0\n",
            "1000000001948.0\n",
            "1000000001949.0\n",
            "1000000001950.0\n",
            "1000000001951.0\n",
            "1000000001952.0\n",
            "1000000001953.0\n",
            "1000000001954.0\n",
            "1000000001955.0\n",
            "1000000001956.0\n",
            "1000000001957.0\n",
            "1000000001958.0\n",
            "1000000001959.0\n",
            "1000000001960.0\n",
            "1000000001961.0\n",
            "1000000001962.0\n",
            "1000000001963.0\n",
            "1000000001964.0\n",
            "1000000001965.0\n",
            "1000000001966.0\n",
            "1000000001967.0\n",
            "1000000001968.0\n",
            "1000000001969.0\n",
            "1000000001970.0\n",
            "1000000001971.0\n",
            "1000000001972.0\n",
            "1000000001973.0\n",
            "1000000001974.0\n",
            "1000000001975.0\n",
            "1000000001976.0\n",
            "1000000001977.0\n",
            "1000000001978.0\n",
            "1000000001979.0\n",
            "1000000001980.0\n",
            "1000000001981.0\n",
            "1000000001982.0\n",
            "1000000001983.0\n",
            "1000000001984.0\n",
            "1000000001985.0\n",
            "1000000001986.0\n",
            "1000000001987.0\n",
            "1000000001988.0\n",
            "1000000001989.0\n",
            "1000000001990.0\n",
            "1000000001991.0\n",
            "1000000001992.0\n",
            "1000000001993.0\n",
            "1000000001994.0\n",
            "1000000001995.0\n",
            "1000000001996.0\n",
            "1000000001997.0\n",
            "1000000001998.0\n",
            "1000000001999.0\n",
            "1000000002000.0\n",
            "1000000002001.0\n",
            "1000000002002.0\n",
            "1000000002003.0\n",
            "1000000002004.0\n",
            "1000000002005.0\n",
            "1000000002006.0\n",
            "1000000002007.0\n",
            "1000000002008.0\n",
            "1000000002009.0\n",
            "1000000002010.0\n",
            "1000000002011.0\n",
            "1000000002012.0\n",
            "1000000002013.0\n",
            "1000000002014.0\n",
            "1000000002015.0\n",
            "1000000002016.0\n",
            "1000000002017.0\n",
            "1000000002018.0\n",
            "1000000002019.0\n",
            "1000000002020.0\n",
            "1000000002021.0\n",
            "1000000002022.0\n",
            "1000000002023.0\n",
            "1000000002024.0\n",
            "1000000002025.0\n",
            "1000000002026.0\n",
            "1000000002027.0\n",
            "1000000002028.0\n",
            "1000000002029.0\n",
            "1000000002030.0\n",
            "1000000002031.0\n",
            "1000000002032.0\n",
            "1000000002033.0\n",
            "1000000002034.0\n",
            "1000000002035.0\n",
            "1000000002036.0\n",
            "1000000002037.0\n",
            "1000000002038.0\n",
            "1000000002039.0\n",
            "1000000002040.0\n",
            "1000000002041.0\n",
            "1000000002042.0\n",
            "1000000002043.0\n",
            "1000000002044.0\n",
            "1000000002045.0\n",
            "1000000002046.0\n",
            "1000000002047.0\n",
            "1000000002048.0\n",
            "1000000002049.0\n",
            "1000000002050.0\n",
            "1000000002051.0\n",
            "1000000002052.0\n",
            "1000000002053.0\n",
            "1000000002054.0\n",
            "1000000002055.0\n",
            "1000000002056.0\n",
            "1000000002057.0\n",
            "1000000002058.0\n",
            "1000000002059.0\n",
            "1000000002060.0\n",
            "1000000002061.0\n",
            "1000000002062.0\n",
            "1000000002063.0\n",
            "1000000002064.0\n",
            "1000000002065.0\n",
            "1000000002066.0\n",
            "1000000002067.0\n",
            "1000000002068.0\n",
            "1000000002069.0\n",
            "1000000002070.0\n",
            "1000000002071.0\n",
            "1000000002072.0\n",
            "1000000002073.0\n",
            "1000000002074.0\n",
            "1000000002075.0\n",
            "1000000002076.0\n",
            "1000000002077.0\n",
            "1000000002078.0\n",
            "1000000002079.0\n",
            "1000000002080.0\n",
            "1000000002081.0\n",
            "1000000002082.0\n",
            "1000000002083.0\n",
            "1000000002084.0\n",
            "1000000002085.0\n",
            "1000000002086.0\n",
            "1000000002087.0\n",
            "1000000002088.0\n",
            "1000000002089.0\n",
            "1000000002090.0\n",
            "1000000002091.0\n",
            "1000000002092.0\n",
            "1000000002093.0\n",
            "1000000002094.0\n",
            "1000000002095.0\n",
            "1000000002096.0\n",
            "1000000002097.0\n",
            "1000000002098.0\n",
            "1000000002099.0\n",
            "1000000002100.0\n",
            "1000000002101.0\n",
            "1000000002102.0\n",
            "1000000002103.0\n",
            "1000000002104.0\n",
            "1000000002105.0\n",
            "1000000002106.0\n",
            "1000000002107.0\n",
            "1000000002108.0\n",
            "1000000002109.0\n",
            "1000000002110.0\n",
            "1000000002111.0\n",
            "1000000002112.0\n",
            "1000000002113.0\n",
            "1000000002114.0\n",
            "1000000002115.0\n",
            "1000000002116.0\n",
            "1000000002117.0\n",
            "1000000002118.0\n",
            "1000000002119.0\n",
            "1000000002120.0\n",
            "1000000002121.0\n",
            "1000000002122.0\n",
            "1000000002123.0\n",
            "1000000002124.0\n",
            "1000000002125.0\n",
            "1000000002126.0\n",
            "1000000002127.0\n",
            "1000000002128.0\n",
            "1000000002129.0\n",
            "1000000002130.0\n",
            "1000000002131.0\n",
            "1000000002132.0\n",
            "1000000002133.0\n",
            "1000000002134.0\n",
            "1000000002135.0\n",
            "1000000002136.0\n",
            "1000000002137.0\n",
            "1000000002138.0\n",
            "1000000002139.0\n",
            "1000000002140.0\n",
            "1000000002141.0\n",
            "1000000002142.0\n",
            "1000000002143.0\n",
            "1000000002144.0\n",
            "1000000002145.0\n",
            "1000000002146.0\n",
            "1000000002147.0\n",
            "1000000002148.0\n",
            "1000000002149.0\n",
            "1000000002150.0\n",
            "1000000002151.0\n",
            "1000000002152.0\n",
            "1000000002153.0\n",
            "1000000002154.0\n",
            "1000000002155.0\n",
            "1000000002156.0\n",
            "1000000002157.0\n",
            "1000000002158.0\n",
            "1000000002159.0\n",
            "1000000002160.0\n",
            "1000000002161.0\n",
            "1000000002162.0\n",
            "1000000002163.0\n",
            "1000000002164.0\n",
            "1000000002165.0\n",
            "1000000002166.0\n",
            "1000000002167.0\n",
            "1000000002168.0\n",
            "1000000002169.0\n",
            "1000000002170.0\n",
            "1000000002171.0\n",
            "1000000002172.0\n",
            "1000000002173.0\n",
            "1000000002174.0\n",
            "1000000002175.0\n",
            "1000000002176.0\n",
            "1000000002177.0\n",
            "1000000002178.0\n",
            "1000000002179.0\n",
            "1000000002180.0\n",
            "1000000002181.0\n",
            "1000000002182.0\n",
            "1000000002183.0\n",
            "1000000002184.0\n",
            "1000000002185.0\n",
            "1000000002186.0\n",
            "1000000002187.0\n",
            "1000000002188.0\n",
            "1000000002189.0\n",
            "1000000002190.0\n",
            "1000000002191.0\n",
            "1000000002192.0\n",
            "1000000002193.0\n",
            "1000000002194.0\n",
            "1000000002195.0\n",
            "1000000002196.0\n",
            "1000000002197.0\n",
            "1000000002198.0\n",
            "1000000002199.0\n",
            "1000000002200.0\n",
            "1000000002201.0\n",
            "1000000002202.0\n",
            "1000000002203.0\n",
            "1000000002204.0\n",
            "1000000002205.0\n",
            "1000000002206.0\n",
            "1000000002207.0\n",
            "1000000002208.0\n",
            "1000000002209.0\n",
            "1000000002210.0\n",
            "1000000002211.0\n",
            "1000000002212.0\n",
            "1000000002213.0\n",
            "1000000002214.0\n",
            "1000000002215.0\n",
            "1000000002216.0\n",
            "1000000002217.0\n",
            "1000000002218.0\n",
            "1000000002219.0\n",
            "1000000002220.0\n",
            "1000000002221.0\n",
            "1000000002222.0\n",
            "1000000002223.0\n",
            "1000000002224.0\n",
            "1000000002225.0\n",
            "1000000002226.0\n",
            "1000000002227.0\n",
            "1000000002228.0\n",
            "1000000002229.0\n",
            "1000000002230.0\n",
            "1000000002231.0\n",
            "1000000002232.0\n",
            "1000000002233.0\n",
            "1000000002234.0\n",
            "1000000002235.0\n",
            "1000000002236.0\n",
            "1000000002237.0\n",
            "1000000002238.0\n",
            "1000000002239.0\n",
            "1000000002240.0\n",
            "1000000002241.0\n",
            "1000000002242.0\n",
            "1000000002243.0\n",
            "1000000002244.0\n",
            "1000000002245.0\n",
            "1000000002246.0\n",
            "1000000002247.0\n",
            "1000000002248.0\n",
            "1000000002249.0\n",
            "1000000002250.0\n",
            "1000000002251.0\n",
            "1000000002252.0\n",
            "1000000002253.0\n",
            "1000000002254.0\n",
            "1000000002255.0\n",
            "1000000002256.0\n",
            "1000000002257.0\n",
            "1000000002258.0\n",
            "1000000002259.0\n",
            "1000000002260.0\n",
            "1000000002261.0\n",
            "1000000002262.0\n",
            "1000000002263.0\n",
            "1000000002264.0\n",
            "1000000002265.0\n",
            "1000000002266.0\n",
            "1000000002267.0\n",
            "1000000002268.0\n",
            "1000000002269.0\n",
            "1000000002270.0\n",
            "1000000002271.0\n",
            "1000000002272.0\n",
            "1000000002273.0\n",
            "1000000002274.0\n",
            "1000000002275.0\n",
            "1000000002276.0\n",
            "1000000002277.0\n",
            "1000000002278.0\n",
            "1000000002279.0\n",
            "1000000002280.0\n",
            "1000000002281.0\n",
            "1000000002282.0\n",
            "1000000002283.0\n",
            "1000000002284.0\n",
            "1000000002285.0\n",
            "1000000002286.0\n",
            "1000000002287.0\n",
            "1000000002288.0\n",
            "1000000002289.0\n",
            "1000000002290.0\n",
            "1000000002291.0\n",
            "1000000002292.0\n",
            "1000000002293.0\n",
            "1000000002294.0\n",
            "1000000002295.0\n",
            "1000000002296.0\n",
            "1000000002297.0\n",
            "1000000002298.0\n",
            "1000000002299.0\n",
            "1000000002300.0\n",
            "1000000002301.0\n",
            "1000000002302.0\n",
            "1000000002303.0\n",
            "1000000002304.0\n",
            "1000000002305.0\n",
            "1000000002306.0\n",
            "1000000002307.0\n",
            "1000000002308.0\n",
            "1000000002309.0\n",
            "1000000002310.0\n",
            "1000000002311.0\n",
            "1000000002312.0\n",
            "1000000002313.0\n",
            "1000000002314.0\n",
            "1000000002315.0\n",
            "1000000002316.0\n",
            "1000000002317.0\n",
            "1000000002318.0\n",
            "1000000002319.0\n",
            "1000000002320.0\n",
            "1000000002321.0\n",
            "1000000002322.0\n",
            "1000000002323.0\n",
            "1000000002324.0\n",
            "1000000002325.0\n",
            "1000000002326.0\n",
            "1000000002327.0\n",
            "1000000002328.0\n",
            "1000000002329.0\n",
            "1000000002330.0\n",
            "1000000002331.0\n",
            "1000000002332.0\n",
            "1000000002333.0\n",
            "1000000002334.0\n",
            "1000000002335.0\n",
            "1000000002336.0\n",
            "1000000002337.0\n",
            "1000000002338.0\n",
            "1000000002339.0\n",
            "1000000002340.0\n",
            "1000000002341.0\n",
            "1000000002342.0\n",
            "1000000002343.0\n",
            "1000000002344.0\n",
            "1000000002345.0\n",
            "1000000002346.0\n",
            "1000000002347.0\n",
            "1000000002348.0\n",
            "1000000002349.0\n",
            "1000000002350.0\n",
            "1000000002351.0\n",
            "1000000002352.0\n",
            "1000000002353.0\n",
            "1000000002354.0\n",
            "1000000002355.0\n",
            "1000000002356.0\n",
            "1000000002357.0\n",
            "1000000002358.0\n",
            "1000000002359.0\n",
            "1000000002360.0\n",
            "1000000002361.0\n",
            "1000000002362.0\n",
            "1000000002363.0\n",
            "1000000002364.0\n",
            "1000000002365.0\n",
            "1000000002366.0\n",
            "1000000002367.0\n",
            "1000000002368.0\n",
            "1000000002369.0\n",
            "1000000002370.0\n",
            "1000000002371.0\n",
            "1000000002372.0\n",
            "1000000002373.0\n",
            "1000000002374.0\n",
            "1000000002375.0\n",
            "1000000002376.0\n",
            "1000000002377.0\n",
            "1000000002378.0\n",
            "1000000002379.0\n",
            "1000000002380.0\n",
            "1000000002381.0\n",
            "1000000002382.0\n",
            "1000000002383.0\n",
            "1000000002384.0\n",
            "1000000002385.0\n",
            "1000000002386.0\n",
            "1000000002387.0\n",
            "1000000002388.0\n",
            "1000000002389.0\n",
            "1000000002390.0\n",
            "1000000002391.0\n",
            "1000000002392.0\n",
            "1000000002393.0\n",
            "1000000002394.0\n",
            "1000000002395.0\n",
            "1000000002396.0\n",
            "1000000002397.0\n",
            "1000000002398.0\n",
            "1000000002399.0\n",
            "1000000002400.0\n",
            "1000000002401.0\n",
            "1000000002402.0\n",
            "1000000002403.0\n",
            "1000000002404.0\n",
            "1000000002405.0\n",
            "1000000002406.0\n",
            "1000000002407.0\n",
            "1000000002408.0\n",
            "1000000002409.0\n",
            "1000000002410.0\n",
            "1000000002411.0\n",
            "1000000002412.0\n",
            "1000000002413.0\n",
            "1000000002414.0\n",
            "1000000002415.0\n",
            "1000000002416.0\n",
            "1000000002417.0\n",
            "1000000002418.0\n",
            "1000000002419.0\n",
            "1000000002420.0\n",
            "1000000002421.0\n",
            "1000000002422.0\n",
            "1000000002423.0\n",
            "1000000002424.0\n",
            "1000000002425.0\n",
            "1000000002426.0\n",
            "1000000002427.0\n",
            "1000000002428.0\n",
            "1000000002429.0\n",
            "1000000002430.0\n",
            "1000000002431.0\n",
            "1000000002432.0\n",
            "1000000002433.0\n",
            "1000000002434.0\n",
            "1000000002435.0\n",
            "1000000002436.0\n",
            "1000000002437.0\n",
            "1000000002438.0\n",
            "1000000002439.0\n",
            "1000000002440.0\n",
            "1000000002441.0\n",
            "1000000002442.0\n",
            "1000000002443.0\n",
            "1000000002444.0\n",
            "1000000002445.0\n",
            "1000000002446.0\n",
            "1000000002447.0\n",
            "1000000002448.0\n",
            "1000000002449.0\n",
            "1000000002450.0\n",
            "1000000002451.0\n",
            "1000000002452.0\n",
            "1000000002453.0\n",
            "1000000002454.0\n",
            "1000000002455.0\n",
            "1000000002456.0\n",
            "1000000002457.0\n",
            "1000000002458.0\n",
            "1000000002459.0\n",
            "1000000002460.0\n",
            "1000000002461.0\n",
            "1000000002462.0\n",
            "1000000002463.0\n",
            "1000000002464.0\n",
            "1000000002465.0\n",
            "1000000002466.0\n",
            "1000000002467.0\n",
            "1000000002468.0\n",
            "1000000002469.0\n",
            "1000000002470.0\n",
            "1000000002471.0\n",
            "1000000002472.0\n",
            "1000000002473.0\n",
            "1000000002474.0\n",
            "1000000002475.0\n",
            "1000000002476.0\n",
            "1000000002477.0\n",
            "1000000002478.0\n",
            "1000000002479.0\n",
            "1000000002480.0\n",
            "1000000002481.0\n",
            "1000000002482.0\n",
            "1000000002483.0\n",
            "1000000002484.0\n",
            "1000000002485.0\n",
            "1000000002486.0\n",
            "1000000002487.0\n",
            "1000000002488.0\n",
            "1000000002489.0\n",
            "1000000002490.0\n",
            "1000000002491.0\n",
            "1000000002492.0\n",
            "1000000002493.0\n",
            "1000000002494.0\n",
            "1000000002495.0\n",
            "1000000002496.0\n",
            "1000000002497.0\n",
            "1000000002498.0\n",
            "1000000002499.0\n",
            "1000000002500.0\n",
            "1000000002501.0\n",
            "1000000002502.0\n",
            "1000000002503.0\n",
            "1000000002504.0\n",
            "1000000002505.0\n",
            "1000000002506.0\n",
            "1000000002507.0\n",
            "1000000002508.0\n",
            "1000000002509.0\n",
            "1000000002510.0\n",
            "1000000002511.0\n",
            "1000000002512.0\n",
            "1000000002513.0\n",
            "1000000002514.0\n",
            "1000000002515.0\n",
            "1000000002516.0\n",
            "1000000002517.0\n",
            "1000000002518.0\n",
            "1000000002519.0\n",
            "1000000002520.0\n",
            "1000000002521.0\n",
            "1000000002522.0\n",
            "1000000002523.0\n",
            "1000000002524.0\n",
            "1000000002525.0\n",
            "1000000002526.0\n",
            "1000000002527.0\n",
            "1000000002528.0\n",
            "1000000002529.0\n",
            "1000000002530.0\n",
            "1000000002531.0\n",
            "1000000002532.0\n",
            "1000000002533.0\n",
            "1000000002534.0\n",
            "1000000002535.0\n",
            "1000000002536.0\n",
            "1000000002537.0\n",
            "1000000002538.0\n",
            "1000000002539.0\n",
            "1000000002540.0\n",
            "1000000002541.0\n",
            "1000000002542.0\n",
            "1000000002543.0\n",
            "1000000002544.0\n",
            "1000000002545.0\n",
            "1000000002546.0\n",
            "1000000002547.0\n",
            "1000000002548.0\n",
            "1000000002549.0\n",
            "1000000002550.0\n",
            "1000000002551.0\n",
            "1000000002552.0\n",
            "1000000002553.0\n",
            "1000000002554.0\n",
            "1000000002555.0\n",
            "1000000002556.0\n",
            "1000000002557.0\n",
            "1000000002558.0\n",
            "1000000002559.0\n",
            "1000000002560.0\n",
            "1000000002561.0\n",
            "1000000002562.0\n",
            "1000000002563.0\n",
            "1000000002564.0\n",
            "1000000002565.0\n",
            "1000000002566.0\n",
            "1000000002567.0\n",
            "1000000002568.0\n",
            "1000000002569.0\n",
            "1000000002570.0\n",
            "1000000002571.0\n",
            "1000000002572.0\n",
            "1000000002573.0\n",
            "1000000002574.0\n",
            "1000000002575.0\n",
            "1000000002576.0\n",
            "1000000002577.0\n",
            "1000000002578.0\n",
            "1000000002579.0\n",
            "1000000002580.0\n",
            "1000000002581.0\n",
            "1000000002582.0\n",
            "1000000002583.0\n",
            "1000000002584.0\n",
            "1000000002585.0\n",
            "1000000002586.0\n",
            "1000000002587.0\n",
            "1000000002588.0\n",
            "1000000002589.0\n",
            "1000000002590.0\n",
            "1000000002591.0\n",
            "1000000002592.0\n",
            "1000000002593.0\n",
            "1000000002594.0\n",
            "1000000002595.0\n",
            "1000000002596.0\n",
            "1000000002597.0\n",
            "1000000002598.0\n",
            "1000000002599.0\n",
            "1000000002600.0\n",
            "1000000002601.0\n",
            "1000000002602.0\n",
            "1000000002603.0\n",
            "707106783028.0\n"
          ]
        }
      ]
    }
  ]
}