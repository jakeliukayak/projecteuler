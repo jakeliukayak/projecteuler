{
  "nbformat": 4,
  "nbformat_minor": 0,
  "metadata": {
    "colab": {
      "provenance": [],
      "toc_visible": true,
      "authorship_tag": "ABX9TyNg3oUIoKfvFGEb/nl5wITw",
      "include_colab_link": true
    },
    "kernelspec": {
      "name": "python3",
      "display_name": "Python 3"
    },
    "language_info": {
      "name": "python"
    }
  },
  "cells": [
    {
      "cell_type": "markdown",
      "metadata": {
        "id": "view-in-github",
        "colab_type": "text"
      },
      "source": [
        "<a href=\"https://colab.research.google.com/github/jakeliukayak/projecteuler/blob/main/solution.ipynb\" target=\"_parent\"><img src=\"https://colab.research.google.com/assets/colab-badge.svg\" alt=\"Open In Colab\"/></a>"
      ]
    },
    {
      "cell_type": "markdown",
      "source": [
        "# Problem 1: Multiples of 3 or 5"
      ],
      "metadata": {
        "id": "5EnUdvdjlOum"
      }
    },
    {
      "cell_type": "code",
      "source": [
        "'''\n",
        "\n",
        "Approach 1: Brute force\n",
        "\n",
        "'''\n",
        "\n",
        "total = 0\n",
        "\n",
        "for i in range(1000):\n",
        "  if i % 3 ==0 or i % 5 == 0:\n",
        "    total += i\n",
        "\n",
        "print(total)\n",
        "\n",
        "'''\n",
        "\n",
        "Approach 2: Inclusion-exclusion\n",
        "\n",
        "We know that sum of multiples of 3 = 3 + 6 + 9 + ... + 999 = 3 * (1 + 2 + 3 + ... + 333) = 3 * (334 * 333) / 2.\n",
        "Similarly, sum of multiple of 5 = 5 + 10 + 15 + ... + 995 =  5 * (1 + 2 + 3 + ... + 199) = 5 * (200 * 199) / 2, and\n",
        "sum of multiples of 15 = 15 * (1 + 2 + 3 + ... + 66) = 15 * (67 * 66) / 2.\n",
        "\n",
        "By inclusion-exclusion, we have the total as follows.\n",
        "\n",
        "'''\n",
        "\n",
        "total = 3 * (334 * 333) // 2 + 5 * (200 * 199) // 2 - 15 * (67 * 66) // 2\n",
        "\n",
        "\n",
        "print(total)"
      ],
      "metadata": {
        "colab": {
          "base_uri": "https://localhost:8080/"
        },
        "id": "wCBDxxvNlU-9",
        "outputId": "ee661aa8-0aa7-4736-8c9a-4f8911071320"
      },
      "execution_count": 27,
      "outputs": [
        {
          "output_type": "stream",
          "name": "stdout",
          "text": [
            "233168\n",
            "233168\n"
          ]
        }
      ]
    },
    {
      "cell_type": "markdown",
      "source": [
        "# Problem 2: Even Fibonacci Numbers"
      ],
      "metadata": {
        "id": "ZB-MLC7ZoTHN"
      }
    },
    {
      "cell_type": "code",
      "source": [
        "fiboList = [1, 2]\n",
        "total = 2\n",
        "\n",
        "while True:\n",
        "  new = fiboList[-2] + fiboList[-1]\n",
        "\n",
        "  if new > 4000000:\n",
        "    break\n",
        "\n",
        "  elif new % 2 == 0:\n",
        "    total += new\n",
        "\n",
        "  fiboList.append(new)\n",
        "\n",
        "print(total)\n"
      ],
      "metadata": {
        "colab": {
          "base_uri": "https://localhost:8080/"
        },
        "id": "gO0tI_JUoWhO",
        "outputId": "76183b12-6eb8-4f16-9f1e-908d8bb530bb"
      },
      "execution_count": 32,
      "outputs": [
        {
          "output_type": "stream",
          "name": "stdout",
          "text": [
            "4613732\n"
          ]
        }
      ]
    },
    {
      "cell_type": "markdown",
      "source": [
        "# Problem 3: Largest Prime Factor"
      ],
      "metadata": {
        "id": "U5SBlP32qtzO"
      }
    },
    {
      "cell_type": "code",
      "source": [
        "def largestPrime(x):\n",
        "  original = x\n",
        "\n",
        "  for i in range(2, int(x ** 0.5) + 1):\n",
        "    while x % i == 0 and x // i != 1:\n",
        "      x //= i\n",
        "\n",
        "  if x == original:\n",
        "    return x\n",
        "\n",
        "  return largestPrime(x)\n",
        "\n",
        "print(largestPrime(600851475143))"
      ],
      "metadata": {
        "colab": {
          "base_uri": "https://localhost:8080/"
        },
        "id": "zqHvaqSyq4sl",
        "outputId": "800bf283-ddb8-4ec2-b6cf-2f095c3bde41"
      },
      "execution_count": 71,
      "outputs": [
        {
          "output_type": "stream",
          "name": "stdout",
          "text": [
            "6857\n"
          ]
        }
      ]
    },
    {
      "cell_type": "markdown",
      "source": [
        "# Problem 4: Largest Palindrome Product"
      ],
      "metadata": {
        "id": "Iaq_6oyWvRvs"
      }
    },
    {
      "cell_type": "code",
      "source": [
        "largest = -9e9\n",
        "\n",
        "for i in range(100, 1000):\n",
        "  for j in range(100,1000):\n",
        "    prod = i * j\n",
        "\n",
        "    if prod > largest and str(prod) == str(prod)[::-1]:\n",
        "      largest = prod\n",
        "\n",
        "print(largest)"
      ],
      "metadata": {
        "colab": {
          "base_uri": "https://localhost:8080/"
        },
        "id": "3oFqdgGEvVE9",
        "outputId": "8060602d-4a11-42a7-9bae-66c04f190859"
      },
      "execution_count": 3,
      "outputs": [
        {
          "output_type": "stream",
          "name": "stdout",
          "text": [
            "906609\n"
          ]
        }
      ]
    },
    {
      "cell_type": "markdown",
      "source": [
        "# Problem 5: Smallest Multiple"
      ],
      "metadata": {
        "id": "VVK4e63M1du_"
      }
    },
    {
      "cell_type": "code",
      "source": [
        "def HCF(x, y):\n",
        "  x, y = min(x, y), max(x, y)\n",
        "\n",
        "  if y % x == 0:\n",
        "    return x\n",
        "\n",
        "  else:\n",
        "    return HCF(x, y-x)\n",
        "\n",
        "def LCM(x, y):\n",
        "  return x * y // HCF(x, y)\n",
        "\n",
        "def multipleLCM(numList, x=1):\n",
        "  if len(numList) == 1:\n",
        "    return LCM(numList[0], x)\n",
        "\n",
        "  else:\n",
        "    return multipleLCM(numList[1:], LCM(numList[0], x))\n",
        "\n",
        "multipleLCM(list(range(1, 21)))"
      ],
      "metadata": {
        "colab": {
          "base_uri": "https://localhost:8080/"
        },
        "id": "HY7duDFs1dgm",
        "outputId": "85cfbb7a-eef6-4020-9a92-1698aa258faa"
      },
      "execution_count": 18,
      "outputs": [
        {
          "output_type": "execute_result",
          "data": {
            "text/plain": [
              "232792560"
            ]
          },
          "metadata": {},
          "execution_count": 18
        }
      ]
    },
    {
      "cell_type": "markdown",
      "source": [
        "# Problem 6: Sum Square Difference"
      ],
      "metadata": {
        "id": "pktsXW5k5prO"
      }
    },
    {
      "cell_type": "code",
      "source": [
        "def sq(x):\n",
        "  return x ** 2\n",
        "\n",
        "print(sum(list(range(101))) ** 2 - sum(list(map(sq, range(101)))))"
      ],
      "metadata": {
        "colab": {
          "base_uri": "https://localhost:8080/"
        },
        "id": "0WUPCofc5u-Y",
        "outputId": "41f065d4-3d1a-47c8-ef67-a786d3fd450d"
      },
      "execution_count": 19,
      "outputs": [
        {
          "output_type": "stream",
          "name": "stdout",
          "text": [
            "25164150\n"
          ]
        }
      ]
    },
    {
      "cell_type": "markdown",
      "source": [
        "# Problem 7: 10 001st Prime"
      ],
      "metadata": {
        "id": "6s3xvs-z6jNE"
      }
    },
    {
      "cell_type": "code",
      "source": [
        "def isPrime(x):\n",
        "  for i in range(2, int(x ** 0.5) + 1):\n",
        "    if x % i == 0:\n",
        "      return False\n",
        "\n",
        "  else:\n",
        "    return True\n",
        "\n",
        "primeList = []\n",
        "\n",
        "i = 2\n",
        "\n",
        "while True:\n",
        "  if len(primeList) == 10001:\n",
        "    print(primeList[-1])\n",
        "    break\n",
        "\n",
        "  if isPrime(i):\n",
        "    primeList.append(i)\n",
        "\n",
        "  i += 1\n"
      ],
      "metadata": {
        "colab": {
          "base_uri": "https://localhost:8080/"
        },
        "id": "4u4UXp8_6jlg",
        "outputId": "42bcc9e5-a2ec-4091-a266-b47b4afbb44c"
      },
      "execution_count": 20,
      "outputs": [
        {
          "output_type": "stream",
          "name": "stdout",
          "text": [
            "104743\n"
          ]
        }
      ]
    },
    {
      "cell_type": "markdown",
      "source": [
        "# Problem 8: Largest Product in a Series"
      ],
      "metadata": {
        "id": "qLI1XbnC8CcY"
      }
    },
    {
      "cell_type": "code",
      "source": [
        "import math\n",
        "\n",
        "prob = '''73167176531330624919225119674426574742355349194934\n",
        "96983520312774506326239578318016984801869478851843\n",
        "85861560789112949495459501737958331952853208805511\n",
        "12540698747158523863050715693290963295227443043557\n",
        "66896648950445244523161731856403098711121722383113\n",
        "62229893423380308135336276614282806444486645238749\n",
        "30358907296290491560440772390713810515859307960866\n",
        "70172427121883998797908792274921901699720888093776\n",
        "65727333001053367881220235421809751254540594752243\n",
        "52584907711670556013604839586446706324415722155397\n",
        "53697817977846174064955149290862569321978468622482\n",
        "83972241375657056057490261407972968652414535100474\n",
        "82166370484403199890008895243450658541227588666881\n",
        "16427171479924442928230863465674813919123162824586\n",
        "17866458359124566529476545682848912883142607690042\n",
        "24219022671055626321111109370544217506941658960408\n",
        "07198403850962455444362981230987879927244284909188\n",
        "84580156166097919133875499200524063689912560717606\n",
        "05886116467109405077541002256983155200055935729725\n",
        "71636269561882670428252483600823257530420752963450'''\n",
        "\n",
        "num = \"\".join(prob.split('\\n'))\n",
        "\n",
        "largest = -9e9\n",
        "\n",
        "for i in range(987): # num[i:i+13] does not produce index out of range error\n",
        "  prod = math.prod(list(map(int, num[i:i+13])))\n",
        "\n",
        "  if prod > largest:\n",
        "    largest = prod\n",
        "\n",
        "print(largest)"
      ],
      "metadata": {
        "colab": {
          "base_uri": "https://localhost:8080/"
        },
        "id": "JY15IBdm8C2_",
        "outputId": "bbcefaa2-1fc1-495b-99f3-2f201619d8f9"
      },
      "execution_count": 53,
      "outputs": [
        {
          "output_type": "stream",
          "name": "stdout",
          "text": [
            "23514624000\n"
          ]
        }
      ]
    },
    {
      "cell_type": "markdown",
      "source": [
        "# Problem 9: Special Pythagorean Triplet"
      ],
      "metadata": {
        "id": "-HPgO5cOATCV"
      }
    },
    {
      "cell_type": "code",
      "source": [
        "loopBreaker = False\n",
        "\n",
        "for i in range(1000):\n",
        "  for j in range(i):\n",
        "    hyp = (i ** 2 + j ** 2) ** 0.5\n",
        "\n",
        "    if i + j + hyp == 1000:\n",
        "      loopBreaker = True\n",
        "      print(int(i * j * hyp))\n",
        "      break\n",
        "\n",
        "  if loopBreaker:\n",
        "    break"
      ],
      "metadata": {
        "colab": {
          "base_uri": "https://localhost:8080/"
        },
        "id": "prYsw8gKATgx",
        "outputId": "3a501263-f6b0-4a77-ba25-72e8f0f70337"
      },
      "execution_count": 56,
      "outputs": [
        {
          "output_type": "stream",
          "name": "stdout",
          "text": [
            "31875000\n"
          ]
        }
      ]
    },
    {
      "cell_type": "markdown",
      "source": [
        "# Problem 10: Summation of Primes"
      ],
      "metadata": {
        "id": "1rJBKXlVB2mz"
      }
    },
    {
      "cell_type": "code",
      "source": [
        "def isPrime(x): # from Problem 7\n",
        "  for i in range(2, int(x ** 0.5) + 1):\n",
        "    if x % i == 0:\n",
        "      return False\n",
        "\n",
        "  else:\n",
        "    return True\n",
        "\n",
        "total = 0\n",
        "\n",
        "for i in range(2, 2000001):\n",
        "  if isPrime(i):\n",
        "    total += i\n",
        "\n",
        "print(total)"
      ],
      "metadata": {
        "colab": {
          "base_uri": "https://localhost:8080/"
        },
        "id": "kWHQhmd4B259",
        "outputId": "6bf41432-920c-436c-da6a-21bee94faf7f"
      },
      "execution_count": 57,
      "outputs": [
        {
          "output_type": "stream",
          "name": "stdout",
          "text": [
            "142913828922\n"
          ]
        }
      ]
    },
    {
      "cell_type": "markdown",
      "source": [
        "# Problem 11: Largest Product in a Grid"
      ],
      "metadata": {
        "id": "gK0S5WkBaujy"
      }
    },
    {
      "cell_type": "code",
      "execution_count": 28,
      "metadata": {
        "colab": {
          "base_uri": "https://localhost:8080/"
        },
        "id": "oGDqYk8AaoIx",
        "outputId": "22b7a9fb-6841-4be0-ac54-aa093f1d48c6"
      },
      "outputs": [
        {
          "output_type": "stream",
          "name": "stdout",
          "text": [
            "70600674\n"
          ]
        }
      ],
      "source": [
        "'''\n",
        "\n",
        "Each position has 8 directions to consider, denote as first, second, ..., eighth starting from the left\n",
        "\n",
        "'''\n",
        "\n",
        "prob = '''08 02 22 97 38 15 00 40 00 75 04 05 07 78 52 12 50 77 91 08\n",
        "49 49 99 40 17 81 18 57 60 87 17 40 98 43 69 48 04 56 62 00\n",
        "81 49 31 73 55 79 14 29 93 71 40 67 53 88 30 03 49 13 36 65\n",
        "52 70 95 23 04 60 11 42 69 24 68 56 01 32 56 71 37 02 36 91\n",
        "22 31 16 71 51 67 63 89 41 92 36 54 22 40 40 28 66 33 13 80\n",
        "24 47 32 60 99 03 45 02 44 75 33 53 78 36 84 20 35 17 12 50\n",
        "32 98 81 28 64 23 67 10 26 38 40 67 59 54 70 66 18 38 64 70\n",
        "67 26 20 68 02 62 12 20 95 63 94 39 63 08 40 91 66 49 94 21\n",
        "24 55 58 05 66 73 99 26 97 17 78 78 96 83 14 88 34 89 63 72\n",
        "21 36 23 09 75 00 76 44 20 45 35 14 00 61 33 97 34 31 33 95\n",
        "78 17 53 28 22 75 31 67 15 94 03 80 04 62 16 14 09 53 56 92\n",
        "16 39 05 42 96 35 31 47 55 58 88 24 00 17 54 24 36 29 85 57\n",
        "86 56 00 48 35 71 89 07 05 44 44 37 44 60 21 58 51 54 17 58\n",
        "19 80 81 68 05 94 47 69 28 73 92 13 86 52 17 77 04 89 55 40\n",
        "04 52 08 83 97 35 99 16 07 97 57 32 16 26 26 79 33 27 98 66\n",
        "88 36 68 87 57 62 20 72 03 46 33 67 46 55 12 32 63 93 53 69\n",
        "04 42 16 73 38 25 39 11 24 94 72 18 08 46 29 32 40 62 76 36\n",
        "20 69 36 41 72 30 23 88 34 62 99 69 82 67 59 85 74 04 36 16\n",
        "20 73 35 29 78 31 90 01 74 31 49 71 48 86 81 16 23 57 05 54\n",
        "01 70 54 71 83 51 54 69 16 92 33 48 61 43 52 01 89 19 67 48'''\n",
        "\n",
        "lines = prob.split('\\n')\n",
        "\n",
        "grid = [list(map(int, line.split())) for line in lines]\n",
        "\n",
        "def first(row, col):\n",
        "  if col-3 >= 0:\n",
        "    return grid[row][col] * grid[row][col-1] * grid[row][col-2] * grid[row][col-3]\n",
        "\n",
        "def second(row, col):\n",
        "  if row-3 >=0 and col-3 >= 0:\n",
        "    return grid[row][col] * grid[row-1][col-1] * grid[row-2][col-2] * grid[row-3][col-3]\n",
        "\n",
        "def third(row, col):\n",
        "  if row-3 >=0:\n",
        "    return grid[row][col] * grid[row-1][col] * grid[row-2][col] * grid[row-3][col]\n",
        "\n",
        "def forth(row, col):\n",
        "  if row-3 >= 0 and col+3 < 20:\n",
        "    return grid[row][col] * grid[row-1][col+1] * grid[row-2][col+2] * grid[row-3][col+3]\n",
        "\n",
        "def fifth(row, col):\n",
        "  if col+3 < 20:\n",
        "    return grid[row][col] * grid[row][col+1] * grid[row][col+2] * grid[row][col+3]\n",
        "\n",
        "def sixth(row, col):\n",
        "  if row + 3 < 20 and col+3 < 20:\n",
        "    return grid[row][col] * grid[row+1][col+1] * grid[row+2][col+2] * grid[row+3][col+3]\n",
        "\n",
        "def seventh(row, col):\n",
        "  if row + 3 < 20:\n",
        "    return grid[row][col] * grid[row+1][col] * grid[row+2][col] * grid[row+3][col]\n",
        "\n",
        "def eighth(row, col):\n",
        "  if row + 3 < 20 and col-3 >= 0:\n",
        "    return grid[row][col] * grid[row+1][col-1] * grid[row+2][col-2] * grid[row+3][col-3]\n",
        "\n",
        "greatest = -9e9\n",
        "\n",
        "for row in range(20):\n",
        "  for col in range(20):\n",
        "    directions = [first, second, third, forth, fifth, sixth, seventh, eighth]\n",
        "\n",
        "    for dir in directions:\n",
        "      value = dir(row, col)\n",
        "\n",
        "      if value != None and value > greatest:\n",
        "        greatest = value\n",
        "\n",
        "print(greatest)\n"
      ]
    },
    {
      "cell_type": "markdown",
      "source": [
        "# Problem 14: Longest Collatz Sequence"
      ],
      "metadata": {
        "id": "kKeApPegg9VA"
      }
    },
    {
      "cell_type": "code",
      "source": [
        "'''\n",
        "\n",
        "Should have included a list to store computed values and their counts to reduce time and space complexity.\n",
        "\n",
        "'''\n",
        "\n",
        "def threeNPlusOne(x, count):\n",
        "  if x == 1:\n",
        "    return count\n",
        "\n",
        "  elif x % 2 == 0:\n",
        "    while x % 2 == 0:\n",
        "      x  = x // 2\n",
        "      count += 1\n",
        "\n",
        "    return threeNPlusOne(x, count)\n",
        "\n",
        "  else:\n",
        "    while x % 2 != 0:\n",
        "      x = 3 * x + 1\n",
        "      count += 1\n",
        "\n",
        "    return threeNPlusOne(x, count)\n",
        "\n",
        "longest = -9e9\n",
        "\n",
        "for x in range(1, 1000001):\n",
        "  chain = threeNPlusOne(x, 1)\n",
        "\n",
        "  if chain > longest:\n",
        "    longest = chain\n",
        "    longest_x = x\n",
        "\n",
        "print(longest_x)\n"
      ],
      "metadata": {
        "colab": {
          "base_uri": "https://localhost:8080/"
        },
        "id": "c8IDxE0pg9G7",
        "outputId": "4f195bd4-7615-4e87-cf91-b44f7d73c004"
      },
      "execution_count": 29,
      "outputs": [
        {
          "output_type": "stream",
          "name": "stdout",
          "text": [
            "837799\n"
          ]
        }
      ]
    },
    {
      "cell_type": "markdown",
      "source": [
        "# Problem 20: Factorial Digit Sum"
      ],
      "metadata": {
        "id": "zNFbyJ-ckV5y"
      }
    },
    {
      "cell_type": "code",
      "source": [
        "'''\n",
        "\n",
        "Brute force approach\n",
        "\n",
        "'''\n",
        "\n",
        "def fac(x):\n",
        "  prod = 1\n",
        "\n",
        "  for i in range(2, x+1):\n",
        "    prod *= i\n",
        "\n",
        "  return prod\n",
        "\n",
        "print(sum(list(map(int, str(fac(100))))))"
      ],
      "metadata": {
        "colab": {
          "base_uri": "https://localhost:8080/"
        },
        "id": "gwJCAbiPkYvR",
        "outputId": "edc69699-838a-49e0-e39b-fc732a9eef20"
      },
      "execution_count": 30,
      "outputs": [
        {
          "output_type": "stream",
          "name": "stdout",
          "text": [
            "648\n"
          ]
        }
      ]
    }
  ]
}