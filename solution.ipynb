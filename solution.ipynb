{
  "nbformat": 4,
  "nbformat_minor": 0,
  "metadata": {
    "colab": {
      "provenance": [],
      "toc_visible": true,
      "mount_file_id": "1D9YodlVcmFkeIBuh036zvKOLlvecP0l6",
      "authorship_tag": "ABX9TyPbSwDMjbRM9pbJn/MCypxO",
      "include_colab_link": true
    },
    "kernelspec": {
      "name": "python3",
      "display_name": "Python 3"
    },
    "language_info": {
      "name": "python"
    }
  },
  "cells": [
    {
      "cell_type": "markdown",
      "metadata": {
        "id": "view-in-github",
        "colab_type": "text"
      },
      "source": [
        "<a href=\"https://colab.research.google.com/github/jakeliukayak/projecteuler/blob/main/solution.ipynb\" target=\"_parent\"><img src=\"https://colab.research.google.com/assets/colab-badge.svg\" alt=\"Open In Colab\"/></a>"
      ]
    },
    {
      "cell_type": "markdown",
      "source": [
        "# Problem 1: Multiples of 3 or 5"
      ],
      "metadata": {
        "id": "5EnUdvdjlOum"
      }
    },
    {
      "cell_type": "code",
      "source": [
        "'''\n",
        "\n",
        "Approach 1: Brute force\n",
        "\n",
        "'''\n",
        "\n",
        "total = 0\n",
        "\n",
        "for i in range(1000):\n",
        "  if i % 3 ==0 or i % 5 == 0:\n",
        "    total += i\n",
        "\n",
        "print(total)\n",
        "\n",
        "'''\n",
        "\n",
        "Approach 2: Inclusion-exclusion\n",
        "\n",
        "We know that sum of multiples of 3 = 3 + 6 + 9 + ... + 999 = 3 * (1 + 2 + 3 + ... + 333) = 3 * (334 * 333) / 2.\n",
        "Similarly, sum of multiple of 5 = 5 + 10 + 15 + ... + 995 =  5 * (1 + 2 + 3 + ... + 199) = 5 * (200 * 199) / 2, and\n",
        "sum of multiples of 15 = 15 * (1 + 2 + 3 + ... + 66) = 15 * (67 * 66) / 2.\n",
        "\n",
        "By inclusion-exclusion, we have the total as follows.\n",
        "\n",
        "'''\n",
        "\n",
        "total = 3 * (334 * 333) // 2 + 5 * (200 * 199) // 2 - 15 * (67 * 66) // 2\n",
        "\n",
        "\n",
        "print(total)"
      ],
      "metadata": {
        "colab": {
          "base_uri": "https://localhost:8080/"
        },
        "id": "wCBDxxvNlU-9",
        "outputId": "faffc317-d999-4467-c01c-de6400ddd2f3"
      },
      "execution_count": null,
      "outputs": [
        {
          "output_type": "stream",
          "name": "stdout",
          "text": [
            "233168\n",
            "233168\n"
          ]
        }
      ]
    },
    {
      "cell_type": "markdown",
      "source": [
        "# Problem 2: Even Fibonacci Numbers"
      ],
      "metadata": {
        "id": "ZB-MLC7ZoTHN"
      }
    },
    {
      "cell_type": "code",
      "source": [
        "'''\n",
        "\n",
        "Wasteful of space, see Problem 25 for a better implementation\n",
        "\n",
        "'''\n",
        "fiboList = [1, 2]\n",
        "total = 2\n",
        "\n",
        "while True:\n",
        "  new = fiboList[-2] + fiboList[-1]\n",
        "\n",
        "  if new > 4000000:\n",
        "    break\n",
        "\n",
        "  elif new % 2 == 0:\n",
        "    total += new\n",
        "\n",
        "  fiboList.append(new)\n",
        "\n",
        "print(total)\n"
      ],
      "metadata": {
        "colab": {
          "base_uri": "https://localhost:8080/"
        },
        "id": "gO0tI_JUoWhO",
        "outputId": "fd2b14ca-364e-415d-e064-dedfa59e7eb5"
      },
      "execution_count": null,
      "outputs": [
        {
          "output_type": "stream",
          "name": "stdout",
          "text": [
            "4613732\n"
          ]
        }
      ]
    },
    {
      "cell_type": "markdown",
      "source": [
        "# Problem 3: Largest Prime Factor"
      ],
      "metadata": {
        "id": "U5SBlP32qtzO"
      }
    },
    {
      "cell_type": "code",
      "source": [
        "def largestPrime(x):\n",
        "  original = x\n",
        "\n",
        "  for i in range(2, int(x ** 0.5) + 1):\n",
        "    while x % i == 0 and x // i != 1: # faster approach: check if x // i is prime\n",
        "      x //= i\n",
        "\n",
        "  if x == original:\n",
        "    return x\n",
        "\n",
        "  return largestPrime(x)\n",
        "\n",
        "print(largestPrime(600851475143))"
      ],
      "metadata": {
        "colab": {
          "base_uri": "https://localhost:8080/"
        },
        "id": "zqHvaqSyq4sl",
        "outputId": "b25f1885-ea8f-49a1-be43-526adf80031d"
      },
      "execution_count": null,
      "outputs": [
        {
          "output_type": "stream",
          "name": "stdout",
          "text": [
            "6857\n"
          ]
        }
      ]
    },
    {
      "cell_type": "markdown",
      "source": [
        "# Problem 4: Largest Palindrome Product"
      ],
      "metadata": {
        "id": "Iaq_6oyWvRvs"
      }
    },
    {
      "cell_type": "code",
      "source": [
        "largest = -9e9\n",
        "\n",
        "for i in range(100, 1000):\n",
        "  for j in range(100,1000):\n",
        "    prod = i * j\n",
        "\n",
        "    if prod > largest and str(prod) == str(prod)[::-1]:\n",
        "      largest = prod\n",
        "\n",
        "print(largest)"
      ],
      "metadata": {
        "colab": {
          "base_uri": "https://localhost:8080/"
        },
        "id": "3oFqdgGEvVE9",
        "outputId": "7fa1aec4-874e-476c-e5c3-80f428a20426"
      },
      "execution_count": null,
      "outputs": [
        {
          "output_type": "stream",
          "name": "stdout",
          "text": [
            "906609\n"
          ]
        }
      ]
    },
    {
      "cell_type": "markdown",
      "source": [
        "# Problem 5: Smallest Multiple"
      ],
      "metadata": {
        "id": "VVK4e63M1du_"
      }
    },
    {
      "cell_type": "code",
      "source": [
        "'''\n",
        "\n",
        "Iterative HCF is much better than recursive HCF.\n",
        "\n",
        "'''\n",
        "\n",
        "def HCF(x, y):\n",
        "  x, y = min(x, y), max(x, y)\n",
        "\n",
        "  if y % x == 0:\n",
        "    return x\n",
        "\n",
        "  while y % x != 0:\n",
        "    y = y % x\n",
        "    x, y = min(x, y), max(x, y)\n",
        "\n",
        "  return x\n",
        "\n",
        "'''\n",
        "\n",
        "A cleaner version of HCF\n",
        "\n",
        "def HCF(x, y):\n",
        "  assert x <= y\n",
        "\n",
        "  while x:\n",
        "    x, y = y % x, x\n",
        "\n",
        "  return y\n",
        "\n",
        "'''\n",
        "\n",
        "def LCM(x, y):\n",
        "  return x * y // HCF(x, y)\n",
        "\n",
        "def multipleLCM(numList, x=1):\n",
        "  if len(numList) == 1:\n",
        "    return LCM(numList[0], x)\n",
        "\n",
        "  else:\n",
        "    return multipleLCM(numList[1:], LCM(numList[0], x))\n",
        "\n",
        "multipleLCM(list(range(1, 21)))"
      ],
      "metadata": {
        "colab": {
          "base_uri": "https://localhost:8080/"
        },
        "id": "HY7duDFs1dgm",
        "outputId": "53e8c965-4618-48e2-9578-5ebdb832b14d"
      },
      "execution_count": null,
      "outputs": [
        {
          "output_type": "execute_result",
          "data": {
            "text/plain": [
              "232792560"
            ]
          },
          "metadata": {},
          "execution_count": 5
        }
      ]
    },
    {
      "cell_type": "markdown",
      "source": [
        "# Problem 6: Sum Square Difference"
      ],
      "metadata": {
        "id": "pktsXW5k5prO"
      }
    },
    {
      "cell_type": "code",
      "source": [
        "def sq(x):\n",
        "  return x ** 2\n",
        "\n",
        "print(sum(list(range(101))) ** 2 - sum(list(map(sq, range(101)))))"
      ],
      "metadata": {
        "colab": {
          "base_uri": "https://localhost:8080/"
        },
        "id": "0WUPCofc5u-Y",
        "outputId": "adf2b33f-2875-4afe-ed1b-9547d0b978f7"
      },
      "execution_count": null,
      "outputs": [
        {
          "output_type": "stream",
          "name": "stdout",
          "text": [
            "25164150\n"
          ]
        }
      ]
    },
    {
      "cell_type": "markdown",
      "source": [
        "# Problem 7: 10 001st Prime"
      ],
      "metadata": {
        "id": "6s3xvs-z6jNE"
      }
    },
    {
      "cell_type": "code",
      "source": [
        "'''\n",
        "\n",
        "In fact, no need primeList, or we can use primeList to achieve faster isPrime calculation.\n",
        "\n",
        "'''\n",
        "\n",
        "def isPrime(x):\n",
        "  for i in range(2, int(x ** 0.5) + 1):\n",
        "    if x % i == 0:\n",
        "      return False\n",
        "\n",
        "  else:\n",
        "    return True\n",
        "\n",
        "primeList = []\n",
        "\n",
        "i = 2\n",
        "\n",
        "while True:\n",
        "  if len(primeList) == 10001:\n",
        "    print(primeList[-1])\n",
        "    break\n",
        "\n",
        "  if isPrime(i):\n",
        "    primeList.append(i)\n",
        "\n",
        "  i += 1\n"
      ],
      "metadata": {
        "colab": {
          "base_uri": "https://localhost:8080/"
        },
        "id": "4u4UXp8_6jlg",
        "outputId": "cb938ee7-3a0b-435f-8144-5964dfe000e3"
      },
      "execution_count": null,
      "outputs": [
        {
          "output_type": "stream",
          "name": "stdout",
          "text": [
            "104743\n"
          ]
        }
      ]
    },
    {
      "cell_type": "markdown",
      "source": [
        "# Problem 8: Largest Product in a Series"
      ],
      "metadata": {
        "id": "qLI1XbnC8CcY"
      }
    },
    {
      "cell_type": "code",
      "source": [
        "import math\n",
        "\n",
        "prob = '''73167176531330624919225119674426574742355349194934\n",
        "96983520312774506326239578318016984801869478851843\n",
        "85861560789112949495459501737958331952853208805511\n",
        "12540698747158523863050715693290963295227443043557\n",
        "66896648950445244523161731856403098711121722383113\n",
        "62229893423380308135336276614282806444486645238749\n",
        "30358907296290491560440772390713810515859307960866\n",
        "70172427121883998797908792274921901699720888093776\n",
        "65727333001053367881220235421809751254540594752243\n",
        "52584907711670556013604839586446706324415722155397\n",
        "53697817977846174064955149290862569321978468622482\n",
        "83972241375657056057490261407972968652414535100474\n",
        "82166370484403199890008895243450658541227588666881\n",
        "16427171479924442928230863465674813919123162824586\n",
        "17866458359124566529476545682848912883142607690042\n",
        "24219022671055626321111109370544217506941658960408\n",
        "07198403850962455444362981230987879927244284909188\n",
        "84580156166097919133875499200524063689912560717606\n",
        "05886116467109405077541002256983155200055935729725\n",
        "71636269561882670428252483600823257530420752963450'''\n",
        "\n",
        "num = \"\".join(prob.split('\\n'))\n",
        "\n",
        "largest = -9e9\n",
        "\n",
        "for i in range(987): # num[i:i+13] does not produce index out of range error\n",
        "  prod = math.prod(list(map(int, num[i:i+13])))\n",
        "\n",
        "  if prod > largest:\n",
        "    largest = prod\n",
        "\n",
        "print(largest)"
      ],
      "metadata": {
        "colab": {
          "base_uri": "https://localhost:8080/"
        },
        "id": "JY15IBdm8C2_",
        "outputId": "e353c1eb-cef3-473a-bd4d-b4b095d22f2b"
      },
      "execution_count": null,
      "outputs": [
        {
          "output_type": "stream",
          "name": "stdout",
          "text": [
            "23514624000\n"
          ]
        }
      ]
    },
    {
      "cell_type": "markdown",
      "source": [
        "# Problem 9: Special Pythagorean Triplet"
      ],
      "metadata": {
        "id": "-HPgO5cOATCV"
      }
    },
    {
      "cell_type": "code",
      "source": [
        "loopBreaker = False\n",
        "\n",
        "for i in range(1000):\n",
        "  for j in range(i):\n",
        "    hyp = (i ** 2 + j ** 2) ** 0.5\n",
        "\n",
        "    if i + j + hyp == 1000:\n",
        "      loopBreaker = True\n",
        "      print(int(i * j * hyp))\n",
        "      break\n",
        "\n",
        "  if loopBreaker:\n",
        "    break"
      ],
      "metadata": {
        "colab": {
          "base_uri": "https://localhost:8080/"
        },
        "id": "prYsw8gKATgx",
        "outputId": "63d1ca30-7e7a-46f8-9639-b7fa349c57c0"
      },
      "execution_count": null,
      "outputs": [
        {
          "output_type": "stream",
          "name": "stdout",
          "text": [
            "31875000\n"
          ]
        }
      ]
    },
    {
      "cell_type": "markdown",
      "source": [
        "# Problem 10: Summation of Primes"
      ],
      "metadata": {
        "id": "1rJBKXlVB2mz"
      }
    },
    {
      "cell_type": "code",
      "source": [
        "def isPrime(x): # from Problem 7\n",
        "  for i in range(2, int(x ** 0.5) + 1):\n",
        "    if x % i == 0:\n",
        "      return False\n",
        "\n",
        "  else:\n",
        "    return True\n",
        "\n",
        "total = 0\n",
        "\n",
        "for i in range(2, 2000001):\n",
        "  if isPrime(i):\n",
        "    total += i\n",
        "\n",
        "print(total)"
      ],
      "metadata": {
        "colab": {
          "base_uri": "https://localhost:8080/"
        },
        "id": "kWHQhmd4B259",
        "outputId": "5b02495d-8974-449f-cbc1-59133890563e"
      },
      "execution_count": null,
      "outputs": [
        {
          "output_type": "stream",
          "name": "stdout",
          "text": [
            "142913828922\n"
          ]
        }
      ]
    },
    {
      "cell_type": "markdown",
      "source": [
        "# Problem 11: Largest Product in a Grid"
      ],
      "metadata": {
        "id": "gK0S5WkBaujy"
      }
    },
    {
      "cell_type": "code",
      "execution_count": null,
      "metadata": {
        "colab": {
          "base_uri": "https://localhost:8080/"
        },
        "id": "oGDqYk8AaoIx",
        "outputId": "b940f40b-0f72-4d86-e511-36c587f32bad"
      },
      "outputs": [
        {
          "output_type": "stream",
          "name": "stdout",
          "text": [
            "70600674\n"
          ]
        }
      ],
      "source": [
        "'''\n",
        "\n",
        "Each position has 8 directions to consider, denote as first, second, ..., eighth starting from the left\n",
        "\n",
        "'''\n",
        "\n",
        "prob = '''08 02 22 97 38 15 00 40 00 75 04 05 07 78 52 12 50 77 91 08\n",
        "49 49 99 40 17 81 18 57 60 87 17 40 98 43 69 48 04 56 62 00\n",
        "81 49 31 73 55 79 14 29 93 71 40 67 53 88 30 03 49 13 36 65\n",
        "52 70 95 23 04 60 11 42 69 24 68 56 01 32 56 71 37 02 36 91\n",
        "22 31 16 71 51 67 63 89 41 92 36 54 22 40 40 28 66 33 13 80\n",
        "24 47 32 60 99 03 45 02 44 75 33 53 78 36 84 20 35 17 12 50\n",
        "32 98 81 28 64 23 67 10 26 38 40 67 59 54 70 66 18 38 64 70\n",
        "67 26 20 68 02 62 12 20 95 63 94 39 63 08 40 91 66 49 94 21\n",
        "24 55 58 05 66 73 99 26 97 17 78 78 96 83 14 88 34 89 63 72\n",
        "21 36 23 09 75 00 76 44 20 45 35 14 00 61 33 97 34 31 33 95\n",
        "78 17 53 28 22 75 31 67 15 94 03 80 04 62 16 14 09 53 56 92\n",
        "16 39 05 42 96 35 31 47 55 58 88 24 00 17 54 24 36 29 85 57\n",
        "86 56 00 48 35 71 89 07 05 44 44 37 44 60 21 58 51 54 17 58\n",
        "19 80 81 68 05 94 47 69 28 73 92 13 86 52 17 77 04 89 55 40\n",
        "04 52 08 83 97 35 99 16 07 97 57 32 16 26 26 79 33 27 98 66\n",
        "88 36 68 87 57 62 20 72 03 46 33 67 46 55 12 32 63 93 53 69\n",
        "04 42 16 73 38 25 39 11 24 94 72 18 08 46 29 32 40 62 76 36\n",
        "20 69 36 41 72 30 23 88 34 62 99 69 82 67 59 85 74 04 36 16\n",
        "20 73 35 29 78 31 90 01 74 31 49 71 48 86 81 16 23 57 05 54\n",
        "01 70 54 71 83 51 54 69 16 92 33 48 61 43 52 01 89 19 67 48'''\n",
        "\n",
        "lines = prob.split('\\n')\n",
        "\n",
        "grid = [list(map(int, line.split())) for line in lines]\n",
        "\n",
        "def first(row, col):\n",
        "  if col-3 >= 0:\n",
        "    return grid[row][col] * grid[row][col-1] * grid[row][col-2] * grid[row][col-3]\n",
        "\n",
        "def second(row, col):\n",
        "  if row-3 >=0 and col-3 >= 0:\n",
        "    return grid[row][col] * grid[row-1][col-1] * grid[row-2][col-2] * grid[row-3][col-3]\n",
        "\n",
        "def third(row, col):\n",
        "  if row-3 >=0:\n",
        "    return grid[row][col] * grid[row-1][col] * grid[row-2][col] * grid[row-3][col]\n",
        "\n",
        "def forth(row, col):\n",
        "  if row-3 >= 0 and col+3 < 20:\n",
        "    return grid[row][col] * grid[row-1][col+1] * grid[row-2][col+2] * grid[row-3][col+3]\n",
        "\n",
        "def fifth(row, col):\n",
        "  if col+3 < 20:\n",
        "    return grid[row][col] * grid[row][col+1] * grid[row][col+2] * grid[row][col+3]\n",
        "\n",
        "def sixth(row, col):\n",
        "  if row + 3 < 20 and col+3 < 20:\n",
        "    return grid[row][col] * grid[row+1][col+1] * grid[row+2][col+2] * grid[row+3][col+3]\n",
        "\n",
        "def seventh(row, col):\n",
        "  if row + 3 < 20:\n",
        "    return grid[row][col] * grid[row+1][col] * grid[row+2][col] * grid[row+3][col]\n",
        "\n",
        "def eighth(row, col):\n",
        "  if row + 3 < 20 and col-3 >= 0:\n",
        "    return grid[row][col] * grid[row+1][col-1] * grid[row+2][col-2] * grid[row+3][col-3]\n",
        "\n",
        "greatest = -9e9\n",
        "\n",
        "for row in range(20):\n",
        "  for col in range(20):\n",
        "    directions = [first, second, third, forth, fifth, sixth, seventh, eighth]\n",
        "\n",
        "    for dir in directions:\n",
        "      value = dir(row, col)\n",
        "\n",
        "      if value != None and value > greatest:\n",
        "        greatest = value\n",
        "\n",
        "print(greatest)\n"
      ]
    },
    {
      "cell_type": "markdown",
      "source": [
        "# Problem 12: Highly Divisible Triangular Number"
      ],
      "metadata": {
        "id": "FBiArh-UGeDN"
      }
    },
    {
      "cell_type": "code",
      "source": [
        "num = 0\n",
        "idx = 1\n",
        "\n",
        "while True:\n",
        "  num += idx\n",
        "  count = 0\n",
        "\n",
        "  for i in range(1, int(num ** 0.5) + 1):\n",
        "    if num % i == 0:\n",
        "      count += 2\n",
        "\n",
        "  if count >= 500:\n",
        "    break\n",
        "\n",
        "  idx += 1\n",
        "\n",
        "print(num)"
      ],
      "metadata": {
        "id": "-GsEvUCMGgzd",
        "colab": {
          "base_uri": "https://localhost:8080/"
        },
        "outputId": "e9cf1111-484d-437f-b171-dff7f6063f54"
      },
      "execution_count": null,
      "outputs": [
        {
          "output_type": "stream",
          "name": "stdout",
          "text": [
            "76576500\n"
          ]
        }
      ]
    },
    {
      "cell_type": "markdown",
      "source": [
        "# Problem 13: Large Sum"
      ],
      "metadata": {
        "id": "o_R7Zyu_YKaQ"
      }
    },
    {
      "cell_type": "code",
      "source": [
        "prob = '''37107287533902102798797998220837590246510135740250\n",
        "46376937677490009712648124896970078050417018260538\n",
        "74324986199524741059474233309513058123726617309629\n",
        "91942213363574161572522430563301811072406154908250\n",
        "23067588207539346171171980310421047513778063246676\n",
        "89261670696623633820136378418383684178734361726757\n",
        "28112879812849979408065481931592621691275889832738\n",
        "44274228917432520321923589422876796487670272189318\n",
        "47451445736001306439091167216856844588711603153276\n",
        "70386486105843025439939619828917593665686757934951\n",
        "62176457141856560629502157223196586755079324193331\n",
        "64906352462741904929101432445813822663347944758178\n",
        "92575867718337217661963751590579239728245598838407\n",
        "58203565325359399008402633568948830189458628227828\n",
        "80181199384826282014278194139940567587151170094390\n",
        "35398664372827112653829987240784473053190104293586\n",
        "86515506006295864861532075273371959191420517255829\n",
        "71693888707715466499115593487603532921714970056938\n",
        "54370070576826684624621495650076471787294438377604\n",
        "53282654108756828443191190634694037855217779295145\n",
        "36123272525000296071075082563815656710885258350721\n",
        "45876576172410976447339110607218265236877223636045\n",
        "17423706905851860660448207621209813287860733969412\n",
        "81142660418086830619328460811191061556940512689692\n",
        "51934325451728388641918047049293215058642563049483\n",
        "62467221648435076201727918039944693004732956340691\n",
        "15732444386908125794514089057706229429197107928209\n",
        "55037687525678773091862540744969844508330393682126\n",
        "18336384825330154686196124348767681297534375946515\n",
        "80386287592878490201521685554828717201219257766954\n",
        "78182833757993103614740356856449095527097864797581\n",
        "16726320100436897842553539920931837441497806860984\n",
        "48403098129077791799088218795327364475675590848030\n",
        "87086987551392711854517078544161852424320693150332\n",
        "59959406895756536782107074926966537676326235447210\n",
        "69793950679652694742597709739166693763042633987085\n",
        "41052684708299085211399427365734116182760315001271\n",
        "65378607361501080857009149939512557028198746004375\n",
        "35829035317434717326932123578154982629742552737307\n",
        "94953759765105305946966067683156574377167401875275\n",
        "88902802571733229619176668713819931811048770190271\n",
        "25267680276078003013678680992525463401061632866526\n",
        "36270218540497705585629946580636237993140746255962\n",
        "24074486908231174977792365466257246923322810917141\n",
        "91430288197103288597806669760892938638285025333403\n",
        "34413065578016127815921815005561868836468420090470\n",
        "23053081172816430487623791969842487255036638784583\n",
        "11487696932154902810424020138335124462181441773470\n",
        "63783299490636259666498587618221225225512486764533\n",
        "67720186971698544312419572409913959008952310058822\n",
        "95548255300263520781532296796249481641953868218774\n",
        "76085327132285723110424803456124867697064507995236\n",
        "37774242535411291684276865538926205024910326572967\n",
        "23701913275725675285653248258265463092207058596522\n",
        "29798860272258331913126375147341994889534765745501\n",
        "18495701454879288984856827726077713721403798879715\n",
        "38298203783031473527721580348144513491373226651381\n",
        "34829543829199918180278916522431027392251122869539\n",
        "40957953066405232632538044100059654939159879593635\n",
        "29746152185502371307642255121183693803580388584903\n",
        "41698116222072977186158236678424689157993532961922\n",
        "62467957194401269043877107275048102390895523597457\n",
        "23189706772547915061505504953922979530901129967519\n",
        "86188088225875314529584099251203829009407770775672\n",
        "11306739708304724483816533873502340845647058077308\n",
        "82959174767140363198008187129011875491310547126581\n",
        "97623331044818386269515456334926366572897563400500\n",
        "42846280183517070527831839425882145521227251250327\n",
        "55121603546981200581762165212827652751691296897789\n",
        "32238195734329339946437501907836945765883352399886\n",
        "75506164965184775180738168837861091527357929701337\n",
        "62177842752192623401942399639168044983993173312731\n",
        "32924185707147349566916674687634660915035914677504\n",
        "99518671430235219628894890102423325116913619626622\n",
        "73267460800591547471830798392868535206946944540724\n",
        "76841822524674417161514036427982273348055556214818\n",
        "97142617910342598647204516893989422179826088076852\n",
        "87783646182799346313767754307809363333018982642090\n",
        "10848802521674670883215120185883543223812876952786\n",
        "71329612474782464538636993009049310363619763878039\n",
        "62184073572399794223406235393808339651327408011116\n",
        "66627891981488087797941876876144230030984490851411\n",
        "60661826293682836764744779239180335110989069790714\n",
        "85786944089552990653640447425576083659976645795096\n",
        "66024396409905389607120198219976047599490197230297\n",
        "64913982680032973156037120041377903785566085089252\n",
        "16730939319872750275468906903707539413042652315011\n",
        "94809377245048795150954100921645863754710598436791\n",
        "78639167021187492431995700641917969777599028300699\n",
        "15368713711936614952811305876380278410754449733078\n",
        "40789923115535562561142322423255033685442488917353\n",
        "44889911501440648020369068063960672322193204149535\n",
        "41503128880339536053299340368006977710650566631954\n",
        "81234880673210146739058568557934581403627822703280\n",
        "82616570773948327592232845941706525094512325230608\n",
        "22918802058777319719839450180888072429661980811197\n",
        "77158542502016545090413245809786882778948721859617\n",
        "72107838435069186155435662884062257473692284509516\n",
        "20849603980134001723930671666823555245252804609722\n",
        "53503534226472524250874054075591789781264330331690'''\n",
        "\n",
        "def truncate(num: str) -> str:\n",
        "  return num[0:13] # worst case we have 100 9s -> sum is 900, so taking 13 digits is safe. (3 digits more = 10^3 = 1000)\n",
        "\n",
        "print(int(str(sum(list(map(int, list(map(truncate, prob.split('\\n')))))))[0:10]))"
      ],
      "metadata": {
        "colab": {
          "base_uri": "https://localhost:8080/"
        },
        "id": "uikE7ujpYKIU",
        "outputId": "96cbbe07-fe29-41f0-d27e-9e8d00b0600b"
      },
      "execution_count": null,
      "outputs": [
        {
          "output_type": "stream",
          "name": "stdout",
          "text": [
            "5537376230\n"
          ]
        }
      ]
    },
    {
      "cell_type": "markdown",
      "source": [
        "# Problem 14: Longest Collatz Sequence"
      ],
      "metadata": {
        "id": "kKeApPegg9VA"
      }
    },
    {
      "cell_type": "code",
      "source": [
        "'''\n",
        "\n",
        "Should have included a list to store computed values and their counts to reduce time and space complexity.\n",
        "\n",
        "'''\n",
        "\n",
        "def threeNPlusOne(x, count):\n",
        "  if x == 1:\n",
        "    return count\n",
        "\n",
        "  elif x % 2 == 0:\n",
        "    while x % 2 == 0:\n",
        "      x  = x // 2\n",
        "      count += 1\n",
        "\n",
        "    return threeNPlusOne(x, count)\n",
        "\n",
        "  else:\n",
        "    while x % 2 != 0:\n",
        "      x = 3 * x + 1\n",
        "      count += 1\n",
        "\n",
        "    return threeNPlusOne(x, count)\n",
        "\n",
        "longest = -9e9\n",
        "\n",
        "for x in range(1, 1000001):\n",
        "  chain = threeNPlusOne(x, 1)\n",
        "\n",
        "  if chain > longest:\n",
        "    longest = chain\n",
        "    longest_x = x\n",
        "\n",
        "print(longest_x)\n"
      ],
      "metadata": {
        "colab": {
          "base_uri": "https://localhost:8080/"
        },
        "id": "c8IDxE0pg9G7",
        "outputId": "b411731d-9118-4f41-9fcf-803690e73472"
      },
      "execution_count": null,
      "outputs": [
        {
          "output_type": "stream",
          "name": "stdout",
          "text": [
            "837799\n"
          ]
        }
      ]
    },
    {
      "cell_type": "markdown",
      "source": [
        "# Problem 15: Lattice Paths"
      ],
      "metadata": {
        "id": "FwBvuQToaBLG"
      }
    },
    {
      "cell_type": "code",
      "source": [
        "'''\n",
        "\n",
        "A discrete mathematics approach\n",
        "\n",
        "'''\n",
        "\n",
        "def fac(x):\n",
        "  prod = 1\n",
        "\n",
        "  for i in range(2, x+1):\n",
        "    prod *= i\n",
        "\n",
        "  return prod\n",
        "\n",
        "print(fac(40) // fac(20) // fac(20))"
      ],
      "metadata": {
        "colab": {
          "base_uri": "https://localhost:8080/"
        },
        "id": "8q3hoXiuaBva",
        "outputId": "f33d4860-5e94-4134-c2ca-37b2aaec5db2"
      },
      "execution_count": null,
      "outputs": [
        {
          "output_type": "stream",
          "name": "stdout",
          "text": [
            "137846528820\n"
          ]
        }
      ]
    },
    {
      "cell_type": "markdown",
      "source": [
        "# Problem 16: Power Digit Sum"
      ],
      "metadata": {
        "id": "RdBY6AbobTQS"
      }
    },
    {
      "cell_type": "code",
      "source": [
        "print(sum(list(map(int, str(2 ** 1000)))))"
      ],
      "metadata": {
        "colab": {
          "base_uri": "https://localhost:8080/"
        },
        "id": "Laj1rz8ibTgm",
        "outputId": "799b230c-8768-4061-aabe-84ac95cbf4d4"
      },
      "execution_count": null,
      "outputs": [
        {
          "output_type": "stream",
          "name": "stdout",
          "text": [
            "1366\n"
          ]
        }
      ]
    },
    {
      "cell_type": "markdown",
      "source": [
        "# Problem 18: Maximum Path Sum I"
      ],
      "metadata": {
        "id": "RsRQktwRb4EI"
      }
    },
    {
      "cell_type": "code",
      "source": [
        "prob = '''75\n",
        "95 64\n",
        "17 47 82\n",
        "18 35 87 10\n",
        "20 04 82 47 65\n",
        "19 01 23 75 03 34\n",
        "88 02 77 73 07 63 67\n",
        "99 65 04 28 06 16 70 92\n",
        "41 41 26 56 83 40 80 70 33\n",
        "41 48 72 33 47 32 37 16 94 29\n",
        "53 71 44 65 25 43 91 52 97 51 14\n",
        "70 11 33 28 77 73 17 78 39 68 17 57\n",
        "91 71 52 38 17 14 91 43 58 50 27 29 48\n",
        "63 66 04 68 89 53 67 30 73 16 69 87 40 31\n",
        "04 62 98 27 23 09 70 98 73 93 38 53 60 04 23'''\n",
        "\n",
        "def split(s: str) -> list:\n",
        "  return list(map(int, s.split()))\n",
        "\n",
        "triangle = list(map(split, prob.split('\\n')))\n",
        "\n",
        "def maxPathSum(triangle):\n",
        "  loop = len(triangle) - 1\n",
        "\n",
        "  for row in range(loop, 0, -1):\n",
        "    for col in range(0, row):\n",
        "      triangle[row-1][col] += max(triangle[row][col], triangle[row][col+1])\n",
        "\n",
        "  return triangle[0][0]\n",
        "\n",
        "print(maxPathSum(triangle))\n"
      ],
      "metadata": {
        "colab": {
          "base_uri": "https://localhost:8080/"
        },
        "id": "lADSOl7sb4S8",
        "outputId": "7e9e7119-6f6b-4eca-b3b0-0fc4551237ce"
      },
      "execution_count": null,
      "outputs": [
        {
          "output_type": "stream",
          "name": "stdout",
          "text": [
            "1074\n"
          ]
        }
      ]
    },
    {
      "cell_type": "markdown",
      "source": [
        "# Problem 20: Factorial Digit Sum"
      ],
      "metadata": {
        "id": "zNFbyJ-ckV5y"
      }
    },
    {
      "cell_type": "code",
      "source": [
        "'''\n",
        "\n",
        "Brute force approach\n",
        "\n",
        "'''\n",
        "\n",
        "def fac(x): # from Problem 15\n",
        "  prod = 1\n",
        "\n",
        "  for i in range(2, x+1):\n",
        "    prod *= i\n",
        "\n",
        "  return prod\n",
        "\n",
        "print(sum(list(map(int, str(fac(100))))))"
      ],
      "metadata": {
        "colab": {
          "base_uri": "https://localhost:8080/"
        },
        "id": "gwJCAbiPkYvR",
        "outputId": "ec7a9b3d-6729-4ec4-e3c9-b809df885049"
      },
      "execution_count": null,
      "outputs": [
        {
          "output_type": "stream",
          "name": "stdout",
          "text": [
            "648\n"
          ]
        }
      ]
    },
    {
      "cell_type": "markdown",
      "source": [
        "# Problem 21: Amicable Numbers"
      ],
      "metadata": {
        "id": "dKxgHMQ9k3NV"
      }
    },
    {
      "cell_type": "code",
      "source": [
        "def sumOfFactors(x):\n",
        "  total = -x\n",
        "\n",
        "  for i in range(1, int(x ** 0.5) + 1):\n",
        "    if x % i == 0:\n",
        "      if i != x // i:\n",
        "        total += i + x // i\n",
        "\n",
        "      else:\n",
        "        total += i\n",
        "\n",
        "  return total\n",
        "\n",
        "output = 0\n",
        "\n",
        "for i in range(1, 10000):\n",
        "  potentialCandidate = sumOfFactors(i) # Loop only 1 time, 5000 times faster\n",
        "  # Knowledge: both numbers in these pairs won't exceed 10000\n",
        "\n",
        "  if potentialCandidate > i and sumOfFactors(potentialCandidate) == i:\n",
        "    output += i + potentialCandidate\n",
        "\n",
        "print(output)"
      ],
      "metadata": {
        "colab": {
          "base_uri": "https://localhost:8080/"
        },
        "id": "2R6Q8v3Sk3iU",
        "outputId": "c631b47d-0cb2-4831-ef29-a7103acfca4f"
      },
      "execution_count": null,
      "outputs": [
        {
          "output_type": "stream",
          "name": "stdout",
          "text": [
            "31626\n"
          ]
        }
      ]
    },
    {
      "cell_type": "markdown",
      "source": [
        "# Problem 22: Names Scores"
      ],
      "metadata": {
        "id": "oFZM_OoMq-Vk"
      }
    },
    {
      "cell_type": "code",
      "source": [
        "import requests\n",
        "\n",
        "url = \"https://projecteuler.net/resources/documents/0022_names.txt\"\n",
        "response = requests.get(url)\n",
        "\n",
        "if response.status_code == 200:\n",
        "    file_content = response.text\n",
        "\n",
        "else:\n",
        "    print(f\"Failed to retrieve file. Status code: {response.status_code}\")\n",
        "\n",
        "prob = file_content.split(',')\n",
        "\n",
        "def removeQuotation(name):\n",
        "  return name[1:-1]\n",
        "\n",
        "prob = list(map(removeQuotation, prob))\n",
        "prob.sort()\n",
        "\n",
        "def charValue(char):\n",
        "  return ord(char) - 64\n",
        "\n",
        "def nameValue(name: str):\n",
        "  return sum(list(map(charValue, name)))\n",
        "\n",
        "total = 0\n",
        "idx = 1\n",
        "\n",
        "for name in prob:\n",
        "  total += nameValue(name) * idx\n",
        "  idx += 1\n",
        "\n",
        "print(total)"
      ],
      "metadata": {
        "colab": {
          "base_uri": "https://localhost:8080/"
        },
        "id": "N1KOzQ65tpiS",
        "outputId": "98c265dc-1899-404f-a52a-61705ef6562a"
      },
      "execution_count": null,
      "outputs": [
        {
          "output_type": "stream",
          "name": "stdout",
          "text": [
            "871198282\n"
          ]
        }
      ]
    },
    {
      "cell_type": "markdown",
      "source": [
        "# Problem 24: Lexicographic Permutations (Solved, Code TBD)"
      ],
      "metadata": {
        "id": "_LlrkrJexsQG"
      }
    },
    {
      "cell_type": "code",
      "source": [
        "'''\n",
        "\n",
        "There are 10! = 3628800 permutations in total. Hence we know that the millionth permutation starts from \"2\" (as 9! = 362880).\n",
        "\n",
        "'''\n",
        "\n",
        "numList = list(range(10))\n",
        "\n",
        "def fac(x): # from Problem 15\n",
        "  prod = 1\n",
        "\n",
        "  for i in range(2, x+1):\n",
        "    prod *= i\n",
        "\n",
        "  return prod\n",
        "\n",
        "goal = 1000000\n",
        "output = ''\n",
        "\n",
        "for i in range(9, 0, -1):\n",
        "  idx = goal // fac(i) # using // and % gives wrong result if remainder equals 0\n",
        "  goal %= fac(i)\n",
        "\n",
        "  if goal == 0:\n",
        "    print(idx)\n",
        "    break\n",
        "\n",
        "  char = numList[idx]\n",
        "  output += str(char)\n",
        "  numList.remove(char)\n",
        "\n",
        "2 * fac(9) + 7 * fac(8) + 8 * fac\n"
      ],
      "metadata": {
        "colab": {
          "base_uri": "https://localhost:8080/",
          "height": 193
        },
        "id": "ss2yVN4uxseE",
        "outputId": "5bc9e8e7-e108-4fa5-c92f-cd87339b3e9b"
      },
      "execution_count": null,
      "outputs": [
        {
          "output_type": "stream",
          "name": "stdout",
          "text": [
            "2\n"
          ]
        },
        {
          "output_type": "error",
          "ename": "TypeError",
          "evalue": "unsupported operand type(s) for *: 'int' and 'function'",
          "traceback": [
            "\u001b[0;31m---------------------------------------------------------------------------\u001b[0m",
            "\u001b[0;31mTypeError\u001b[0m                                 Traceback (most recent call last)",
            "\u001b[0;32m/tmp/ipython-input-3005988422.py\u001b[0m in \u001b[0;36m<cell line: 0>\u001b[0;34m()\u001b[0m\n\u001b[1;32m     30\u001b[0m   \u001b[0mnumList\u001b[0m\u001b[0;34m.\u001b[0m\u001b[0mremove\u001b[0m\u001b[0;34m(\u001b[0m\u001b[0mchar\u001b[0m\u001b[0;34m)\u001b[0m\u001b[0;34m\u001b[0m\u001b[0;34m\u001b[0m\u001b[0m\n\u001b[1;32m     31\u001b[0m \u001b[0;34m\u001b[0m\u001b[0m\n\u001b[0;32m---> 32\u001b[0;31m \u001b[0;36m2\u001b[0m \u001b[0;34m*\u001b[0m \u001b[0mfac\u001b[0m\u001b[0;34m(\u001b[0m\u001b[0;36m9\u001b[0m\u001b[0;34m)\u001b[0m \u001b[0;34m+\u001b[0m \u001b[0;36m7\u001b[0m \u001b[0;34m*\u001b[0m \u001b[0mfac\u001b[0m\u001b[0;34m(\u001b[0m\u001b[0;36m8\u001b[0m\u001b[0;34m)\u001b[0m \u001b[0;34m+\u001b[0m \u001b[0;36m8\u001b[0m \u001b[0;34m*\u001b[0m \u001b[0mfac\u001b[0m\u001b[0;34m\u001b[0m\u001b[0;34m\u001b[0m\u001b[0m\n\u001b[0m",
            "\u001b[0;31mTypeError\u001b[0m: unsupported operand type(s) for *: 'int' and 'function'"
          ]
        }
      ]
    },
    {
      "cell_type": "markdown",
      "source": [
        "# Problem 25: 1000-digit Fibonacci Number"
      ],
      "metadata": {
        "id": "iCmE02WI6x3W"
      }
    },
    {
      "cell_type": "code",
      "source": [
        "'''\n",
        "\n",
        "The method in Problem 2 is quite expensive in space complexity. We try to modify the code here.\n",
        "\n",
        "'''\n",
        "\n",
        "a = 1\n",
        "b = 1\n",
        "idx = 2\n",
        "\n",
        "while len(str(b)) < 1000:\n",
        "  a, b = b, a + b\n",
        "  idx += 1\n",
        "\n",
        "print(idx)"
      ],
      "metadata": {
        "colab": {
          "base_uri": "https://localhost:8080/"
        },
        "id": "arPZzojq3uLf",
        "outputId": "44b00453-7cc8-4d30-a856-1a8e40e4a58a"
      },
      "execution_count": null,
      "outputs": [
        {
          "output_type": "stream",
          "name": "stdout",
          "text": [
            "4782\n"
          ]
        }
      ]
    },
    {
      "cell_type": "markdown",
      "source": [
        "# Problem 27: Quadratic Primes"
      ],
      "metadata": {
        "id": "bcdjW94MWSTk"
      }
    },
    {
      "cell_type": "code",
      "source": [
        "def isPrime(x): # from Problem 7\n",
        "  for i in range(2, int(x ** 0.5) + 1):\n",
        "    if x % i == 0:\n",
        "      return False\n",
        "\n",
        "  else:\n",
        "    return True\n",
        "\n",
        "def formula(n, a, b):\n",
        "  return n ** 2 + a * n + b\n",
        "\n",
        "best_a = None\n",
        "best_b = None\n",
        "longest = -1e9\n",
        "\n",
        "for b in range(-1000, 1001):\n",
        "  if not isPrime(abs(b)): # limitation of isPrime: can only handle nonnegative values of x. Also, x = 0, 1 returns True\n",
        "    continue\n",
        "\n",
        "  for a in range(-999, 1000):\n",
        "    n = 1\n",
        "\n",
        "    while isPrime(abs(formula(n, a, b))):\n",
        "      n += 1\n",
        "\n",
        "    if n > longest:\n",
        "      longest = n\n",
        "      best_a = a\n",
        "      best_b = b\n",
        "\n",
        "print(best_a * best_b)\n"
      ],
      "metadata": {
        "colab": {
          "base_uri": "https://localhost:8080/"
        },
        "id": "V7injQGWWSpW",
        "outputId": "b33123a6-b3f4-4e90-a617-2d9586c81428"
      },
      "execution_count": null,
      "outputs": [
        {
          "output_type": "stream",
          "name": "stdout",
          "text": [
            "-59231\n"
          ]
        }
      ]
    },
    {
      "cell_type": "markdown",
      "source": [
        "# Problem 28: Number Spiral Diagonals"
      ],
      "metadata": {
        "id": "PEQNvb0i8Lzg"
      }
    },
    {
      "cell_type": "code",
      "source": [
        "dim = 1001\n",
        "trial = dim // 2\n",
        "total = 1\n",
        "num = 1\n",
        "\n",
        "for i in range(1, trial + 1):\n",
        "  for j in range(4):\n",
        "    num += 2 * i\n",
        "    total += num\n",
        "\n",
        "print(total)"
      ],
      "metadata": {
        "colab": {
          "base_uri": "https://localhost:8080/"
        },
        "id": "mX5qlCyY8MEm",
        "outputId": "3229bd8c-e885-416c-e03b-4653dfa48722"
      },
      "execution_count": null,
      "outputs": [
        {
          "output_type": "stream",
          "name": "stdout",
          "text": [
            "669171001\n"
          ]
        }
      ]
    },
    {
      "cell_type": "markdown",
      "source": [
        "# Problem 29: Distinct Powers"
      ],
      "metadata": {
        "id": "xb6V1xt69lNI"
      }
    },
    {
      "cell_type": "code",
      "source": [
        "sequence = set()\n",
        "\n",
        "for i in range(2, 101):\n",
        "  for j in range(2, 101):\n",
        "    sequence.add(i ** j)\n",
        "\n",
        "print(len(sequence))"
      ],
      "metadata": {
        "colab": {
          "base_uri": "https://localhost:8080/"
        },
        "id": "r7mn1x9u9lgf",
        "outputId": "3c5e8c5c-50d5-4ab4-ce4a-64a0492c2766"
      },
      "execution_count": null,
      "outputs": [
        {
          "output_type": "stream",
          "name": "stdout",
          "text": [
            "9183\n"
          ]
        }
      ]
    },
    {
      "cell_type": "markdown",
      "source": [
        "# Problem 33: Digit Cancelling Fractions"
      ],
      "metadata": {
        "id": "qCREvZ0uIrNv"
      }
    },
    {
      "cell_type": "code",
      "source": [
        "'''\n",
        "\n",
        "Write (ab) / (cd) (a, b, c, d: digits). There are 4 possible cases.\n",
        "\n",
        "I. a = c: We won't have (b) / (d) = (ac) / (bd) (obvious)\n",
        "\n",
        "II. b = d: We won't have (a) / (c) = (ac) / (bd) (obvious), unless b = d = 0, which, is excluded.\n",
        "\n",
        "Hence we only consider III. a = d and IV. b = c.\n",
        "\n",
        "'''\n",
        "\n",
        "def HCF(x, y): # from Problem 5\n",
        "  x, y = min(x, y), max(x, y)\n",
        "\n",
        "  while x:\n",
        "    x, y = y % x, x\n",
        "\n",
        "  return y\n",
        "\n",
        "outputNum = 1\n",
        "outputDenom = 1\n",
        "\n",
        "for denom in range(11, 99):\n",
        "  for num in range(10, denom):\n",
        "    tensNum = int(str(num)[0])\n",
        "    onesNum = int(str(num)[1])\n",
        "    tensDenom = int(str(denom)[0])\n",
        "    onesDenom = int(str(denom)[1])\n",
        "\n",
        "    if tensNum == onesDenom and onesNum / tensDenom == num / denom:\n",
        "      outputNum *= onesNum\n",
        "      outputDenom *= tensDenom\n",
        "\n",
        "    elif onesNum == tensDenom and onesDenom!= 0 and tensNum / onesDenom == num / denom:\n",
        "      outputNum *= tensNum\n",
        "      outputDenom *= onesDenom\n",
        "\n",
        "print(outputDenom // HCF(outputNum, outputDenom))"
      ],
      "metadata": {
        "colab": {
          "base_uri": "https://localhost:8080/"
        },
        "id": "CUeVrUW3Irga",
        "outputId": "0a3415bd-c521-4ab7-f587-f210dfd5937a"
      },
      "execution_count": null,
      "outputs": [
        {
          "output_type": "stream",
          "name": "stdout",
          "text": [
            "100\n"
          ]
        }
      ]
    },
    {
      "cell_type": "markdown",
      "source": [
        "# Problem 35: Circular Primes"
      ],
      "metadata": {
        "id": "Wz5F9PE8dL5-"
      }
    },
    {
      "cell_type": "code",
      "source": [
        "def isPrime(x): # from Problem 7\n",
        "  for i in range(2, int(x ** 0.5) + 1):\n",
        "    if x % i == 0:\n",
        "      return False\n",
        "\n",
        "  else:\n",
        "    return True\n",
        "\n",
        "count = 0\n",
        "\n",
        "for i in range(2, 1000000):\n",
        "  consider = str(i)\n",
        "\n",
        "  for j in range(len(str(i))):\n",
        "    consider = consider[1:] + consider[0]\n",
        "\n",
        "    if not isPrime(int(consider)):\n",
        "      break\n",
        "\n",
        "  else:\n",
        "    count += 1\n",
        "\n",
        "print(count)"
      ],
      "metadata": {
        "colab": {
          "base_uri": "https://localhost:8080/"
        },
        "id": "42yp3pCOdMKG",
        "outputId": "a6880b6e-3b30-4396-a807-b6084938b972"
      },
      "execution_count": null,
      "outputs": [
        {
          "output_type": "stream",
          "name": "stdout",
          "text": [
            "55\n"
          ]
        }
      ]
    },
    {
      "cell_type": "markdown",
      "source": [
        "# Problem 36: Double-base Palindromes"
      ],
      "metadata": {
        "id": "nVCKMMs2967_"
      }
    },
    {
      "cell_type": "code",
      "source": [
        "total = 0\n",
        "\n",
        "for num in range(1, 1000000):\n",
        "  if str(num) == str(num)[::-1] and bin(num)[2:] == bin(num)[2::][::-1]:\n",
        "    total += num\n",
        "\n",
        "print(total)"
      ],
      "metadata": {
        "colab": {
          "base_uri": "https://localhost:8080/"
        },
        "id": "Ke0ihbsi97Mu",
        "outputId": "4766e3b6-790a-419f-d5cf-b5d7032140a8"
      },
      "execution_count": null,
      "outputs": [
        {
          "output_type": "stream",
          "name": "stdout",
          "text": [
            "872187\n"
          ]
        }
      ]
    },
    {
      "cell_type": "markdown",
      "source": [
        "# Problem 39: Integer Right Triangles"
      ],
      "metadata": {
        "id": "Azv-bUutk0FR"
      }
    },
    {
      "cell_type": "code",
      "source": [
        "best_p = None\n",
        "best_solCount = -1e9\n",
        "\n",
        "for p in range(1, 1000):\n",
        "  solCount = 0\n",
        "\n",
        "  for i in range(1, p//2):\n",
        "    for j in range(1, i): # if i == j then the hypotenuse is not an int.\n",
        "      h = p - i - j\n",
        "\n",
        "      if i + j > h and i ** 2 + j ** 2 == h ** 2:\n",
        "        solCount += 1\n",
        "\n",
        "  if solCount > best_solCount:\n",
        "    best_solCount = solCount\n",
        "    best_p = p\n",
        "\n",
        "print(best_p)"
      ],
      "metadata": {
        "colab": {
          "base_uri": "https://localhost:8080/"
        },
        "id": "SmDpOkerk0Vj",
        "outputId": "570d2de4-54c2-47bc-bf4f-966149705be4"
      },
      "execution_count": null,
      "outputs": [
        {
          "output_type": "stream",
          "name": "stdout",
          "text": [
            "840\n"
          ]
        }
      ]
    },
    {
      "cell_type": "markdown",
      "source": [
        "# Problem 40: Champernowne's Constant (Solved, Code TBD)"
      ],
      "metadata": {
        "id": "U_f3268KQubN"
      }
    },
    {
      "cell_type": "code",
      "source": [],
      "metadata": {
        "id": "FIrGPBIRQyee"
      },
      "execution_count": null,
      "outputs": []
    },
    {
      "cell_type": "markdown",
      "source": [
        "# Problem 41: Pandigital Prime"
      ],
      "metadata": {
        "id": "uLtebZFEQJ1-"
      }
    },
    {
      "cell_type": "code",
      "source": [
        "def isPrime(x): # from Problem 7\n",
        "  for i in range(2, int(x ** 0.5) + 1):\n",
        "    if x % i == 0:\n",
        "      return False\n",
        "\n",
        "  else:\n",
        "    return True\n",
        "\n",
        "def isPandigital(x):\n",
        "  return len(str(x)) == len(set(str(x))) and len(str(x)) == max(list(map(int, str(x)))) and min(list(map(int, str(x)))) == 1\n",
        "\n",
        "for i in range(7654321, 0, -1): # eliminate perm([1, 2, 3, 4, 5, 6, 7, 8, 9]) and perm([1, 2, 3, 4, 5, 6, 7, 8]) as they are clearly divisible by 3 (and 9).\n",
        "  if isPrime(i) and isPandigital(i):\n",
        "    break\n",
        "\n",
        "print(i)\n",
        "\n"
      ],
      "metadata": {
        "id": "VRNw9MXjQKQy",
        "colab": {
          "base_uri": "https://localhost:8080/"
        },
        "outputId": "05abd035-2c64-4064-d068-94ebf79d8a6b"
      },
      "execution_count": null,
      "outputs": [
        {
          "output_type": "stream",
          "name": "stdout",
          "text": [
            "7652413\n"
          ]
        }
      ]
    },
    {
      "cell_type": "markdown",
      "source": [
        "# Problem 42: Coded Triangle Numbers"
      ],
      "metadata": {
        "id": "hJsJGQ9xTT-A"
      }
    },
    {
      "cell_type": "code",
      "source": [
        "'''\n",
        "\n",
        "Solving the eqn 1/2 * n * (n+1) - sum(char) = 0. Note that there is always one positive and one negative root. We want the positive root.\n",
        "\n",
        "'''\n",
        "\n",
        "# (file handling inspired) from Problem 22\n",
        "\n",
        "import requests\n",
        "\n",
        "url = \"https://projecteuler.net/resources/documents/0042_words.txt\"\n",
        "response = requests.get(url)\n",
        "\n",
        "if response.status_code == 200:\n",
        "    file_content = response.text\n",
        "\n",
        "else:\n",
        "    print(f\"Failed to retrieve file. Status code: {response.status_code}\")\n",
        "\n",
        "prob = file_content.split(',')\n",
        "\n",
        "def removeQuotation(name):\n",
        "  return name[1:-1]\n",
        "\n",
        "prob = list(map(removeQuotation, prob))\n",
        "prob.sort()\n",
        "\n",
        "def charValue(char): # from Problem 22\n",
        "  return ord(char) - 64\n",
        "\n",
        "def nameValue(name: str): # from Problem 22\n",
        "  return sum(list(map(charValue, name)))\n",
        "\n",
        "count = 0\n",
        "\n",
        "for name in prob:\n",
        "  n = (-1 + (1 + 8 * nameValue(name)) ** 0.5) / 2\n",
        "\n",
        "  if n % 1 == 0:\n",
        "    count += 1\n",
        "\n",
        "print(count)\n"
      ],
      "metadata": {
        "colab": {
          "base_uri": "https://localhost:8080/"
        },
        "id": "5TA25RNVTUQB",
        "outputId": "64eeec73-df43-40a0-9ddc-eec0e81b312a"
      },
      "execution_count": null,
      "outputs": [
        {
          "output_type": "stream",
          "name": "stdout",
          "text": [
            "162\n"
          ]
        }
      ]
    },
    {
      "cell_type": "markdown",
      "source": [
        "# Problem 43: Sub-string Divisibility"
      ],
      "metadata": {
        "id": "ItPfmUTSj-oF"
      }
    },
    {
      "cell_type": "code",
      "source": [
        "'''\n",
        "\n",
        "There are 9 * 9! permutations to check. Therefore we can't proceed with brute force.\n",
        "\n",
        "Hint1: d4d5d6 is divisible by 5 -> I. d6 = 0 or II. d6 = 5\n",
        "\n",
        "Hint2: d6d7d8 is divisible by 11 -> I. doesn't make sense! Hence we confirm d6 = 5.\n",
        "\n",
        "First thing first, why don't we proceed with searching for d7 and d8 based on Hint2?\n",
        "\n",
        "'''\n",
        "\n",
        "divisibleBy5And11 = []\n",
        "\n",
        "for d7 in range(0, 10):\n",
        "  for d8 in range(0, 10):\n",
        "    if d7 == 5 or d8 == 5 or d7 == d8:\n",
        "      continue\n",
        "\n",
        "    else:\n",
        "      if (500 + d7 * 10 + d8) % 11 == 0:\n",
        "        divisibleBy5And11.append((d7, d8))\n",
        "\n",
        "'''\n",
        "\n",
        "There are 8 pairs of (d7, d8) satisfying Hint2: (0, 6), (1, 7), (2, 8), (3, 9), (6, 1), (7, 2), (8, 3), (9, 4).\n",
        "\n",
        "'''\n",
        "\n",
        "divisibleBy5And11And13 = []\n",
        "\n",
        "for (d7, d8) in divisibleBy5And11:\n",
        "  for d9 in range(10):\n",
        "    if d9 != 5 and len(set([d7, d8, d9])) == 3 and (d7 * 100 + d8 * 10 + d9) % 13 == 0:\n",
        "      divisibleBy5And11And13.append((d7, d8, d9))\n",
        "\n",
        "'''\n",
        "\n",
        "The solution is then reduced to 4 choices: (2, 8, 6), (3, 9, 0), (7, 2, 8), (8, 3, 2).\n",
        "\n",
        "'''\n",
        "\n",
        "divisibleBy5And11And13And17 = []\n",
        "\n",
        "for (d7, d8, d9) in divisibleBy5And11And13:\n",
        "  for d10 in range(10):\n",
        "    if d10 != 5 and len(set([d7, d8, d9, d10])) == 4 and (d8 * 100 + d9 * 10 + d10) % 17 == 0:\n",
        "      divisibleBy5And11And13And17.append((d7, d8, d9, d10))\n",
        "\n",
        "divisibleBy5And7And11And13And17 = []\n",
        "\n",
        "for (d7, d8, d9, d10) in divisibleBy5And11And13And17:\n",
        "  for d5 in range(0, 10):\n",
        "    if d5 != 5 and len(set([d5, d7, d8, d9, d10])) == 5 and (d5 * 100 + 50 + d7) % 7 == 0:\n",
        "      divisibleBy5And7And11And13And17.append((d5, d7, d8, d9, d10))\n",
        "\n",
        "'''\n",
        "\n",
        "Now d5 - d10 are determined. To find suitable d4, we use the divisibility of 2 to see d4 = {2, 4, 6, 8, 0}. Also, note that d3 + d4 + d5 is divisible by 3.\n",
        "\n",
        "'''\n",
        "\n",
        "final = []\n",
        "\n",
        "for d4 in {2, 4, 6, 8, 0}:\n",
        "  for (d5, d7, d8, d9, d10) in divisibleBy5And7And11And13And17:\n",
        "    for d3 in range(10):\n",
        "      if (d3 + d4 + d5) % 3 == 0 and d3 != 5 and len(set([d3, d4, d5, d7, d8, d9, d10])) == 7:\n",
        "        final.append((d3, d4, d5, 5, d7, d8, d9, d10))\n",
        "\n",
        "total = 0\n",
        "\n",
        "for d1 in range(10):\n",
        "  for d2 in range(10):\n",
        "    for (d3, d4, d5, d6, d7, d8, d9, d10) in final:\n",
        "      if len(set([d1, d2, d3, d4, d5, d6, d7, d8, d9, d10])) == 10:\n",
        "        total += int(\"\".join(list(map(str, [d1, d2, d3, d4, d5, d6, d7, d8, d9, d10]))))\n",
        "\n",
        "print(total)"
      ],
      "metadata": {
        "colab": {
          "base_uri": "https://localhost:8080/"
        },
        "id": "TIa-cKGYj-1m",
        "outputId": "bf0f57ff-a574-4053-c596-944c68d02f94"
      },
      "execution_count": null,
      "outputs": [
        {
          "output_type": "stream",
          "name": "stdout",
          "text": [
            "16695334890\n"
          ]
        }
      ]
    },
    {
      "cell_type": "markdown",
      "source": [
        "# Problem 45: Triangular, Pentagonal, and Hexagonal"
      ],
      "metadata": {
        "id": "kt4YF1_xtLbQ"
      }
    },
    {
      "cell_type": "code",
      "source": [
        "'''\n",
        "\n",
        "By observation, only consider the positive root.\n",
        "\n",
        "'''\n",
        "\n",
        "def triangle(x):\n",
        "  return x * (x + 1) // 2\n",
        "\n",
        "def isPentagonal(x):\n",
        "  return True if (1 + (1 + 24 * x) ** 0.5) / 6 % 1 == 0 else False\n",
        "\n",
        "def isHexagonal(x):\n",
        "  return True if (1 + (1 + 8 * x) ** 0.5) / 4 % 1 == 0 else False\n",
        "\n",
        "n = 286\n",
        "\n",
        "while not (isPentagonal(triangle(n)) and isHexagonal(triangle(n))):\n",
        "  n += 1\n",
        "\n",
        "print(triangle(n))"
      ],
      "metadata": {
        "colab": {
          "base_uri": "https://localhost:8080/"
        },
        "id": "pXjEMjPWtLt8",
        "outputId": "75e146ff-2ddb-400c-c0d7-d5f2d39583bd"
      },
      "execution_count": null,
      "outputs": [
        {
          "output_type": "stream",
          "name": "stdout",
          "text": [
            "1533776805\n"
          ]
        }
      ]
    },
    {
      "cell_type": "markdown",
      "source": [
        "# Problem 46: Goldbach's Other Conjecture\n",
        "\n"
      ],
      "metadata": {
        "id": "6bI8NVu0Y2Sg"
      }
    },
    {
      "cell_type": "code",
      "source": [
        "def isPrime(x): # from Problem 7\n",
        "  for i in range(2, int(x ** 0.5) + 1):\n",
        "    if x % i == 0:\n",
        "      return False\n",
        "\n",
        "  else:\n",
        "    return True\n",
        "\n",
        "primeList = [2]\n",
        "squareList = [1]\n",
        "\n",
        "def canBeWrittenAsSum(x):\n",
        "  for i in squareList:\n",
        "    if x - 2 * i in primeList:\n",
        "      return True\n",
        "\n",
        "  return False\n",
        "\n",
        "num = 3\n",
        "\n",
        "while True:\n",
        "  if primeList[-1] < num:\n",
        "    for i in range(primeList[-1], num + 1):\n",
        "      if isPrime(i):\n",
        "        primeList.append(i)\n",
        "\n",
        "  if squareList[-1] < num:\n",
        "    squareList.append(int((squareList[-1] ** 0.5 + 1) ** 2))\n",
        "\n",
        "  if not isPrime(num) and not canBeWrittenAsSum(num):\n",
        "    print(num)\n",
        "    break\n",
        "\n",
        "  num += 2"
      ],
      "metadata": {
        "colab": {
          "base_uri": "https://localhost:8080/"
        },
        "id": "cBk9QqW_Y2lv",
        "outputId": "d6e71b87-b79d-4023-c426-66202eabbfc5"
      },
      "execution_count": null,
      "outputs": [
        {
          "output_type": "stream",
          "name": "stdout",
          "text": [
            "5777\n"
          ]
        }
      ]
    },
    {
      "cell_type": "markdown",
      "source": [
        "# Problem 47: Distinct Primes Factors (TBD)"
      ],
      "metadata": {
        "id": "8m0qpcH3i2Qd"
      }
    },
    {
      "cell_type": "code",
      "source": [
        "def isPrime(x): # from Problem 7\n",
        "  for i in range(2, int(x ** 0.5) + 1):\n",
        "    if x % i == 0:\n",
        "      return False\n",
        "\n",
        "  else:\n",
        "    return True\n",
        "\n",
        "def primeFactors(x):\n",
        "  primeFactorsSet = set()\n",
        "\n",
        "  while not isPrime(x):\n",
        "    loopBreaker = False\n",
        "\n",
        "    for i in range(2, int(x ** 0.5) + 1):\n",
        "      while x % i == 0:\n",
        "        x = x // i\n",
        "        loopBreaker = True\n",
        "\n",
        "        primeFactors.add(x)\n",
        "\n",
        "        if isPrime(x // i):\n",
        "          primeFactors.add(x // i)\n",
        "\n",
        "  return primeFactors\n",
        "\n",
        "num = 644\n",
        "\n",
        "len(primeFactorization(134044))\n",
        "\n",
        "#while [len(primeFactorization(num)), len(primeFactorization(num + 1)), len(primeFactorization(num + 2)), len(primeFactorization(num + 3))] != [4] * 4:\n",
        "  #num += 1\n",
        "  #print(num)\n",
        "\n",
        "#print(num)"
      ],
      "metadata": {
        "colab": {
          "base_uri": "https://localhost:8080/"
        },
        "id": "tmI8JSFHi2gj",
        "outputId": "01b35539-552a-4405-e0eb-26a9b234fa0c"
      },
      "execution_count": null,
      "outputs": [
        {
          "output_type": "execute_result",
          "data": {
            "text/plain": [
              "6"
            ]
          },
          "metadata": {},
          "execution_count": 18
        }
      ]
    },
    {
      "cell_type": "markdown",
      "source": [
        "# Problem 48: Self Powers"
      ],
      "metadata": {
        "id": "X1c5zEMhOYDc"
      }
    },
    {
      "cell_type": "code",
      "source": [
        "def lastTenDigitsOfSelfPower(x):\n",
        "  return x ** x % 10 ** 10\n",
        "\n",
        "total = 0\n",
        "\n",
        "for i in range(1, 1001):\n",
        "  total += lastTenDigitsOfSelfPower(i)\n",
        "  total %= 10 ** 10\n",
        "\n",
        "print(total)"
      ],
      "metadata": {
        "colab": {
          "base_uri": "https://localhost:8080/"
        },
        "id": "VzUsiZOPOYxc",
        "outputId": "7d0085c7-9e75-48e0-af91-b9b17bbd9f6a"
      },
      "execution_count": null,
      "outputs": [
        {
          "output_type": "stream",
          "name": "stdout",
          "text": [
            "9110846700\n"
          ]
        }
      ]
    },
    {
      "cell_type": "markdown",
      "source": [
        "# Problem 49: Prime Permutations"
      ],
      "metadata": {
        "id": "y6oCJ1woWkjS"
      }
    },
    {
      "cell_type": "code",
      "source": [
        "def isPrime(x): # from Problem 7\n",
        "  for i in range(2, int(x ** 0.5) + 1):\n",
        "    if x % i == 0:\n",
        "      return False\n",
        "\n",
        "  else:\n",
        "    return True\n",
        "\n",
        "def digitOfMultiple(num, multiple=1): # I solved Problem 52 first, this is why I have such name of this function.\n",
        "  digitDict = dict()\n",
        "\n",
        "  for char in str(num * multiple):\n",
        "    digitDict[char] = digitDict.get(char, 0) + 1\n",
        "\n",
        "  return digitDict\n",
        "\n",
        "primeList = []\n",
        "\n",
        "for i in range(1000, 10000):\n",
        "  if isPrime(i):\n",
        "    primeList.append(i)\n",
        "\n",
        "loopBreaker = False\n",
        "\n",
        "for i in range(len(primeList)):\n",
        "  if loopBreaker:\n",
        "    break\n",
        "\n",
        "  for j in range(i + 1, len(primeList)):\n",
        "    if primeList[i] != 1487 and primeList[j] * 2 - primeList[i] in primeList and [digitOfMultiple(primeList[i]), digitOfMultiple(primeList[j]), digitOfMultiple(primeList[j] * 2 - primeList[i])] == [digitOfMultiple(primeList[i])] * 3:\n",
        "      print(\"\".join(list(map(str, [primeList[i], primeList[j], primeList[j] * 2 - primeList[i]]))))\n",
        "      loopBreaker = True\n",
        "      break"
      ],
      "metadata": {
        "colab": {
          "base_uri": "https://localhost:8080/"
        },
        "id": "dpuxTIoZWk2w",
        "outputId": "c2d5e689-4304-4512-9aa8-be9fb178c363"
      },
      "execution_count": 3,
      "outputs": [
        {
          "output_type": "stream",
          "name": "stdout",
          "text": [
            "296962999629\n"
          ]
        }
      ]
    },
    {
      "cell_type": "markdown",
      "source": [
        "# Problem 52: Permuted Multiples"
      ],
      "metadata": {
        "id": "syvAmMZZMeID"
      }
    },
    {
      "cell_type": "code",
      "source": [
        "num = 1\n",
        "\n",
        "def digitOfMultiple(num, multiple=1): # from Problem 51\n",
        "  digitDict = dict()\n",
        "\n",
        "  for char in str(num * multiple):\n",
        "    digitDict[char] = digitDict.get(char, 0) + 1\n",
        "\n",
        "  return digitDict\n",
        "\n",
        "while True:\n",
        "  if [digitOfMultiple(num, i) for i in range(2, 7)] == [digitOfMultiple(num, 1)] * 5:\n",
        "    break\n",
        "\n",
        "  num += 1\n",
        "\n",
        "print(num)"
      ],
      "metadata": {
        "colab": {
          "base_uri": "https://localhost:8080/"
        },
        "id": "SHeEX4dmMegH",
        "outputId": "dfc739fe-3570-4bed-d188-5c0a44a7592e"
      },
      "execution_count": null,
      "outputs": [
        {
          "output_type": "stream",
          "name": "stdout",
          "text": [
            "142857\n"
          ]
        }
      ]
    },
    {
      "cell_type": "markdown",
      "source": [
        "# Problem 53: Combinatoric Selections"
      ],
      "metadata": {
        "id": "DB8PBx65LNrd"
      }
    },
    {
      "cell_type": "code",
      "source": [
        "def fac(x): # from Problem 15\n",
        "  prod = 1\n",
        "\n",
        "  for i in range(2, x+1):\n",
        "    prod *= i\n",
        "\n",
        "  return prod\n",
        "\n",
        "def nCr(n, r):\n",
        "  return fac(n) // fac(r) // fac(n-r)\n",
        "\n",
        "count = 0\n",
        "\n",
        "for i in range(1, 101):\n",
        "  for j in range(i):\n",
        "    if nCr(i, j) > 1000000:\n",
        "      count += 1\n",
        "\n",
        "print(count)"
      ],
      "metadata": {
        "colab": {
          "base_uri": "https://localhost:8080/"
        },
        "id": "4PupoRhqLQUI",
        "outputId": "cd2c0a91-a32c-4bf5-f300-71be76e268ed"
      },
      "execution_count": null,
      "outputs": [
        {
          "output_type": "stream",
          "name": "stdout",
          "text": [
            "4075\n"
          ]
        }
      ]
    },
    {
      "cell_type": "markdown",
      "source": [
        "# Problem 55: Lychrel Numbers"
      ],
      "metadata": {
        "id": "MpfrxjLObdKW"
      }
    },
    {
      "cell_type": "code",
      "source": [
        "count = 0\n",
        "\n",
        "for num in range(1, 10000):\n",
        "  idx = 0\n",
        "\n",
        "  while idx < 50:\n",
        "    if idx > 0 and str(num) == str(num)[::-1]:\n",
        "      break\n",
        "\n",
        "    num += int(str(num)[::-1])\n",
        "    idx += 1\n",
        "\n",
        "  else:\n",
        "    count += 1\n",
        "\n",
        "print(count)"
      ],
      "metadata": {
        "colab": {
          "base_uri": "https://localhost:8080/"
        },
        "id": "1Dqr3MP-bdfj",
        "outputId": "ec17acb6-193b-446f-8928-395014924971"
      },
      "execution_count": null,
      "outputs": [
        {
          "output_type": "stream",
          "name": "stdout",
          "text": [
            "249\n"
          ]
        }
      ]
    },
    {
      "cell_type": "markdown",
      "source": [
        "# Problem 56: Powerful Digit Sum"
      ],
      "metadata": {
        "id": "kPI1L3FLKjHc"
      }
    },
    {
      "cell_type": "code",
      "source": [
        "greatestSum = -9e9\n",
        "\n",
        "for i in range(1, 100):\n",
        "  for j in range(1, 100):\n",
        "    new = sum(list(map(int, str(i ** j))))\n",
        "\n",
        "    if new > greatestSum:\n",
        "      greatestSum = new\n",
        "\n",
        "print(greatestSum)"
      ],
      "metadata": {
        "colab": {
          "base_uri": "https://localhost:8080/"
        },
        "id": "D3aTAz0eKjhn",
        "outputId": "882129e0-d14a-44f3-be41-2cdaee9f4cc5"
      },
      "execution_count": null,
      "outputs": [
        {
          "output_type": "stream",
          "name": "stdout",
          "text": [
            "972\n"
          ]
        }
      ]
    },
    {
      "cell_type": "markdown",
      "source": [
        "# Problem 57: Square Root Convergents"
      ],
      "metadata": {
        "id": "7kFpPd3pkZ1u"
      }
    },
    {
      "cell_type": "code",
      "source": [
        "'''\n",
        "\n",
        "Simple sequence problem\n",
        "\n",
        "'''\n",
        "\n",
        "prev2Num = 1\n",
        "prev2Denom = 0\n",
        "prevNum = 1\n",
        "prevDenom = 1\n",
        "iter = 1000\n",
        "count = 0\n",
        "\n",
        "for _ in range(iter):\n",
        "  num = prevNum * 2 + prev2Num\n",
        "  denom = prevDenom * 2 + prev2Denom\n",
        "\n",
        "  if len(str(num)) > len(str(denom)):\n",
        "    count += 1\n",
        "\n",
        "  prev2Num, prev2Denom, prevNum, prevDenom = prevNum, prevDenom, num, denom\n",
        "\n",
        "print(count)\n"
      ],
      "metadata": {
        "colab": {
          "base_uri": "https://localhost:8080/"
        },
        "id": "HhKvXavwkaEV",
        "outputId": "076ce4b8-a56c-410d-9e10-ac974e1d16b9"
      },
      "execution_count": null,
      "outputs": [
        {
          "output_type": "stream",
          "name": "stdout",
          "text": [
            "153\n"
          ]
        }
      ]
    },
    {
      "cell_type": "markdown",
      "source": [
        "# Problem 58: Spiral Primes\n"
      ],
      "metadata": {
        "id": "DKASmlOPObE1"
      }
    },
    {
      "cell_type": "code",
      "source": [
        "def isPrime(x): # from Problem 7\n",
        "  for i in range(2, int(x ** 0.5) + 1):\n",
        "    if x % i == 0:\n",
        "      return False\n",
        "\n",
        "  else:\n",
        "    return True\n",
        "\n",
        "# (inspired) from Problem 28\n",
        "\n",
        "primeRate = 1\n",
        "primeCount = 0\n",
        "count = 1\n",
        "dim = 1\n",
        "num = 1\n",
        "\n",
        "while primeRate >= 0.1:\n",
        "  dim += 2\n",
        "  trial = dim // 2\n",
        "\n",
        "  for i in range(4):\n",
        "    num += 2 * trial\n",
        "    count += 1\n",
        "\n",
        "    if isPrime(num):\n",
        "      primeCount += 1\n",
        "\n",
        "  primeRate = primeCount / count\n",
        "\n",
        "print(dim)"
      ],
      "metadata": {
        "colab": {
          "base_uri": "https://localhost:8080/"
        },
        "id": "9vjz9MCoObUJ",
        "outputId": "f8a781ed-4433-4fcf-cf1a-14542a491f51"
      },
      "execution_count": null,
      "outputs": [
        {
          "output_type": "stream",
          "name": "stdout",
          "text": [
            "26241\n"
          ]
        }
      ]
    },
    {
      "cell_type": "markdown",
      "source": [
        "# Problem 62: Cubic Permutations (Solved, Code TBD)"
      ],
      "metadata": {
        "id": "oceO-uY9g-F7"
      }
    },
    {
      "cell_type": "code",
      "source": [
        "def digitOfMultiple(num, multiple=1): # from Problem 52\n",
        "  digitDict = dict()\n",
        "\n",
        "  for char in str(num * multiple):\n",
        "    digitDict[char] = digitDict.get(char, 0) + 1\n",
        "\n",
        "  return digitDict\n",
        "\n",
        "num = 1\n",
        "numDigitDict = dict()\n",
        "\n",
        "while True:\n",
        "  numDigitHashed = hash(digitOfMultiple(num ** 3))\n",
        "  prev = numDigitDict.get(numDigit), [])\n",
        "\n",
        "  if len(prev) == 3:\n",
        "    print(prev[0])\n",
        "    break\n",
        "\n",
        "  numDigitDict[digitOfMultiple(num ** 3)] = numDigitDict.get(digitOfMultiple(num ** 3), []).append(num)\n",
        "\n",
        "  num += 1\n"
      ],
      "metadata": {
        "colab": {
          "base_uri": "https://localhost:8080/",
          "height": 106
        },
        "id": "0trf_UvYg-an",
        "outputId": "220f1626-b5f0-44fc-f4b9-ad8ae9a7269b"
      },
      "execution_count": null,
      "outputs": [
        {
          "output_type": "error",
          "ename": "SyntaxError",
          "evalue": "unmatched ')' (ipython-input-1273289025.py, line 14)",
          "traceback": [
            "\u001b[0;36m  File \u001b[0;32m\"/tmp/ipython-input-1273289025.py\"\u001b[0;36m, line \u001b[0;32m14\u001b[0m\n\u001b[0;31m    prev = numDigitDict.get(numDigit), [])\u001b[0m\n\u001b[0m                                         ^\u001b[0m\n\u001b[0;31mSyntaxError\u001b[0m\u001b[0;31m:\u001b[0m unmatched ')'\n"
          ]
        }
      ]
    },
    {
      "cell_type": "markdown",
      "source": [
        "# Problem 66: Diophantine Equation"
      ],
      "metadata": {
        "id": "EdkTuNaWSxPA"
      }
    },
    {
      "cell_type": "code",
      "source": [
        "def diophantineSolver(D):\n",
        "  '''\n",
        "\n",
        "  Returns the minimal solution (w.r.t. x) to the quadratic Diophatine equation x ** 2 - D * y ** 2 = 1, where x, y are natural numbers.\n",
        "\n",
        "  '''\n",
        "\n",
        "  x = 2\n",
        "\n",
        "  while ((x ** 2 - 1) / D) ** 0.5 % 1 != 0:\n",
        "    x += 1\n",
        "\n",
        "  return x, int(((x ** 2 - 1) / D) ** 0.5)\n",
        "\n",
        "bestD = None\n",
        "maxX = -1e9\n",
        "\n",
        "for i in range(100, 1001):\n",
        "  print(i)\n",
        "  if i ** 0.5 % 1 == 0:\n",
        "    continue\n",
        "\n",
        "  else:\n",
        "    x = diophantineSolver(i)[0]\n",
        "\n",
        "    if x > maxX:\n",
        "      maxX = x\n",
        "      bestD = i\n",
        "\n",
        "print(bestD)"
      ],
      "metadata": {
        "colab": {
          "base_uri": "https://localhost:8080/",
          "height": 454
        },
        "id": "oHLGkwfuSxh6",
        "outputId": "9ae0cee8-3306-4a7d-9b08-2cafe63c2fe3"
      },
      "execution_count": null,
      "outputs": [
        {
          "output_type": "stream",
          "name": "stdout",
          "text": [
            "100\n",
            "101\n",
            "102\n",
            "103\n",
            "104\n",
            "105\n",
            "106\n"
          ]
        },
        {
          "output_type": "error",
          "ename": "KeyboardInterrupt",
          "evalue": "",
          "traceback": [
            "\u001b[0;31m---------------------------------------------------------------------------\u001b[0m",
            "\u001b[0;31mKeyboardInterrupt\u001b[0m                         Traceback (most recent call last)",
            "\u001b[0;32m/tmp/ipython-input-2955403201.py\u001b[0m in \u001b[0;36m<cell line: 0>\u001b[0;34m()\u001b[0m\n\u001b[1;32m     22\u001b[0m \u001b[0;34m\u001b[0m\u001b[0m\n\u001b[1;32m     23\u001b[0m   \u001b[0;32melse\u001b[0m\u001b[0;34m:\u001b[0m\u001b[0;34m\u001b[0m\u001b[0;34m\u001b[0m\u001b[0m\n\u001b[0;32m---> 24\u001b[0;31m     \u001b[0mx\u001b[0m \u001b[0;34m=\u001b[0m \u001b[0mdiophantineSolver\u001b[0m\u001b[0;34m(\u001b[0m\u001b[0mi\u001b[0m\u001b[0;34m)\u001b[0m\u001b[0;34m[\u001b[0m\u001b[0;36m0\u001b[0m\u001b[0;34m]\u001b[0m\u001b[0;34m\u001b[0m\u001b[0;34m\u001b[0m\u001b[0m\n\u001b[0m\u001b[1;32m     25\u001b[0m \u001b[0;34m\u001b[0m\u001b[0m\n\u001b[1;32m     26\u001b[0m     \u001b[0;32mif\u001b[0m \u001b[0mx\u001b[0m \u001b[0;34m>\u001b[0m \u001b[0mmaxX\u001b[0m\u001b[0;34m:\u001b[0m\u001b[0;34m\u001b[0m\u001b[0;34m\u001b[0m\u001b[0m\n",
            "\u001b[0;32m/tmp/ipython-input-2955403201.py\u001b[0m in \u001b[0;36mdiophantineSolver\u001b[0;34m(D)\u001b[0m\n\u001b[1;32m      8\u001b[0m   \u001b[0mx\u001b[0m \u001b[0;34m=\u001b[0m \u001b[0;36m2\u001b[0m\u001b[0;34m\u001b[0m\u001b[0;34m\u001b[0m\u001b[0m\n\u001b[1;32m      9\u001b[0m \u001b[0;34m\u001b[0m\u001b[0m\n\u001b[0;32m---> 10\u001b[0;31m   \u001b[0;32mwhile\u001b[0m \u001b[0;34m(\u001b[0m\u001b[0;34m(\u001b[0m\u001b[0mx\u001b[0m \u001b[0;34m**\u001b[0m \u001b[0;36m2\u001b[0m \u001b[0;34m-\u001b[0m \u001b[0;36m1\u001b[0m\u001b[0;34m)\u001b[0m \u001b[0;34m/\u001b[0m \u001b[0mD\u001b[0m\u001b[0;34m)\u001b[0m \u001b[0;34m**\u001b[0m \u001b[0;36m0.5\u001b[0m \u001b[0;34m%\u001b[0m \u001b[0;36m1\u001b[0m \u001b[0;34m!=\u001b[0m \u001b[0;36m0\u001b[0m\u001b[0;34m:\u001b[0m\u001b[0;34m\u001b[0m\u001b[0;34m\u001b[0m\u001b[0m\n\u001b[0m\u001b[1;32m     11\u001b[0m     \u001b[0mx\u001b[0m \u001b[0;34m+=\u001b[0m \u001b[0;36m1\u001b[0m\u001b[0;34m\u001b[0m\u001b[0;34m\u001b[0m\u001b[0m\n\u001b[1;32m     12\u001b[0m \u001b[0;34m\u001b[0m\u001b[0m\n",
            "\u001b[0;31mKeyboardInterrupt\u001b[0m: "
          ]
        }
      ]
    },
    {
      "cell_type": "markdown",
      "source": [
        "# Problem 67: Maximum Path Sum II"
      ],
      "metadata": {
        "id": "16kwwJFEBbAI"
      }
    },
    {
      "cell_type": "code",
      "source": [
        "'''\n",
        "\n",
        "Same approach as Problem 18\n",
        "\n",
        "'''\n",
        "\n",
        "# (file handling inspired) from Problem 22\n",
        "\n",
        "import requests\n",
        "\n",
        "url = \"https://projecteuler.net/resources/documents/0067_triangle.txt\"\n",
        "response = requests.get(url)\n",
        "\n",
        "if response.status_code == 200:\n",
        "    file_content = response.text\n",
        "\n",
        "else:\n",
        "    print(f\"Failed to retrieve file. Status code: {response.status_code}\")\n",
        "\n",
        "prob = file_content.strip()\n",
        "\n",
        "def split(s: str) -> list: # from Problem 18\n",
        "  return list(map(int, s.split()))\n",
        "\n",
        "triangle = list(map(split, prob.split('\\n')))\n",
        "\n",
        "def maxPathSum(triangle):\n",
        "  loop = len(triangle) - 1\n",
        "\n",
        "  for row in range(loop, 0, -1):\n",
        "    for col in range(0, row):\n",
        "      triangle[row-1][col] += max(triangle[row][col], triangle[row][col+1])\n",
        "\n",
        "  return triangle[0][0]\n",
        "\n",
        "print(maxPathSum(triangle))\n"
      ],
      "metadata": {
        "colab": {
          "base_uri": "https://localhost:8080/"
        },
        "id": "aN2mh4D4BbRv",
        "outputId": "a795ba1f-e63b-49b1-e1c8-42087bc69a6c"
      },
      "execution_count": null,
      "outputs": [
        {
          "output_type": "stream",
          "name": "stdout",
          "text": [
            "7273\n"
          ]
        }
      ]
    },
    {
      "cell_type": "markdown",
      "source": [
        "# Problem 71: Ordered Fractions"
      ],
      "metadata": {
        "id": "UpUYusCve9qh"
      }
    },
    {
      "cell_type": "code",
      "source": [
        "def HCF(x, y): # from Problem 5\n",
        "  x, y = min(x, y), max(x, y)\n",
        "\n",
        "  while x:\n",
        "    x, y = y % x, x\n",
        "\n",
        "  return y\n",
        "\n",
        "target = 3 / 7\n",
        "nearest = 1e9\n",
        "nearestNum = None\n",
        "\n",
        "for denom in range(1, 1000001):\n",
        "  num = denom * 3 // 7\n",
        "\n",
        "  if num == 3 and denom == 7:\n",
        "    continue\n",
        "\n",
        "  if HCF(num, denom) == 1:\n",
        "    diff = target - num / denom\n",
        "\n",
        "    if diff < nearest:\n",
        "      nearest = diff\n",
        "      nearestNum = num\n",
        "\n",
        "print(nearestNum)"
      ],
      "metadata": {
        "colab": {
          "base_uri": "https://localhost:8080/"
        },
        "id": "RAtX8QuNe95_",
        "outputId": "7ae9c609-ae28-4ba4-ad94-d41c90f0f082"
      },
      "execution_count": null,
      "outputs": [
        {
          "output_type": "stream",
          "name": "stdout",
          "text": [
            "428570\n"
          ]
        }
      ]
    },
    {
      "cell_type": "markdown",
      "source": [
        "# Problem 74: Digit Factorial Chains"
      ],
      "metadata": {
        "id": "HZ-rnHqm3KPX"
      }
    },
    {
      "cell_type": "code",
      "source": [
        "'''\n",
        "\n",
        "32s in Apple MacBook Pro (2021, M1 Pro), 50s on Google Colab (free tier)\n",
        "\n",
        "'''\n",
        "\n",
        "def fac(x): # from Problem 15\n",
        "  prod = 1\n",
        "\n",
        "  for i in range(2, x+1):\n",
        "    prod *= i\n",
        "\n",
        "  return prod\n",
        "\n",
        "def digitFacSum(x):\n",
        "  return sum(list(map(fac, list(map(int, str(x))))))\n",
        "\n",
        "def chainLength(x):\n",
        "  seen = set()\n",
        "\n",
        "  while x not in seen:\n",
        "    seen.add(x)\n",
        "    x = digitFacSum(x)\n",
        "\n",
        "  return len(seen)\n",
        "\n",
        "count = 0\n",
        "\n",
        "for i in range(1, 1000000):\n",
        "  if chainLength(i) == 60:\n",
        "    count += 1\n",
        "\n",
        "print(count)"
      ],
      "metadata": {
        "colab": {
          "base_uri": "https://localhost:8080/"
        },
        "id": "5essjLSr3KjO",
        "outputId": "aaae9587-2f83-4fcb-fb62-667d9e7f5ed8"
      },
      "execution_count": null,
      "outputs": [
        {
          "output_type": "stream",
          "name": "stdout",
          "text": [
            "402\n"
          ]
        }
      ]
    },
    {
      "cell_type": "markdown",
      "source": [
        "# Problem 75: Singular Integer Right Triangles (TBD)"
      ],
      "metadata": {
        "id": "JJW_AZceopm1"
      }
    },
    {
      "cell_type": "code",
      "source": [
        "def checkPeriSoln(p):\n",
        "  soln = 0\n",
        "\n",
        "  for i in range(1, p//2 + 1):\n",
        "    for j in range(1, i):\n",
        "      h = p - i - j\n",
        "\n",
        "      if h == (i ** 2 + j ** 2) ** 0.5 and i + j  > p:\n",
        "        soln += 1\n",
        "\n",
        "  return soln\n",
        "\n",
        "count = 0\n",
        "\n",
        "for p in range(1, 1500001):\n",
        "  print(p)\n",
        "  if checkPeriSoln(p) == 1:\n",
        "    count += 1\n",
        "\n",
        "print(count)\n"
      ],
      "metadata": {
        "id": "Uap8jYV_op8G"
      },
      "execution_count": null,
      "outputs": []
    },
    {
      "cell_type": "markdown",
      "source": [
        "# Problem 80: Square Root Digital Expansion (TBD)"
      ],
      "metadata": {
        "id": "Ad8bNAvjq8RF"
      }
    },
    {
      "cell_type": "code",
      "source": [
        "def sq(x): # from Problem 6\n",
        "  return x ** 2\n",
        "\n",
        "for i in range(100):\n",
        "  if i not in list(map(sq, list(range(11)))):\n",
        "    print(round(i ** 0.5 % 1, 100))"
      ],
      "metadata": {
        "colab": {
          "base_uri": "https://localhost:8080/"
        },
        "id": "zu7x2qH0q8he",
        "outputId": "b6d62672-1d3b-4a85-dc8d-7705aeebed60"
      },
      "execution_count": null,
      "outputs": [
        {
          "output_type": "stream",
          "name": "stdout",
          "text": [
            "0.41421356237309515\n",
            "0.7320508075688772\n",
            "0.2360679774997898\n",
            "0.4494897427831779\n",
            "0.6457513110645907\n",
            "0.8284271247461903\n",
            "0.16227766016837952\n",
            "0.3166247903553998\n",
            "0.4641016151377544\n",
            "0.6055512754639891\n",
            "0.7416573867739413\n",
            "0.872983346207417\n",
            "0.12310562561766059\n",
            "0.24264068711928477\n",
            "0.358898943540674\n",
            "0.4721359549995796\n",
            "0.5825756949558398\n",
            "0.6904157598234297\n",
            "0.7958315233127191\n",
            "0.8989794855663558\n",
            "0.09901951359278449\n",
            "0.19615242270663202\n",
            "0.29150262212918143\n",
            "0.38516480713450374\n",
            "0.4772255750516612\n",
            "0.5677643628300215\n",
            "0.6568542494923806\n",
            "0.7445626465380286\n",
            "0.8309518948453007\n",
            "0.9160797830996161\n",
            "0.08276253029821934\n",
            "0.16441400296897601\n",
            "0.2449979983983983\n",
            "0.32455532033675905\n",
            "0.40312423743284853\n",
            "0.4807406984078604\n",
            "0.5574385243020004\n",
            "0.6332495807107996\n",
            "0.7082039324993694\n",
            "0.7823299831252681\n",
            "0.8556546004010439\n",
            "0.9282032302755088\n",
            "0.0710678118654755\n",
            "0.14142842854285043\n",
            "0.21110255092797825\n",
            "0.28010988928051805\n",
            "0.34846922834953453\n",
            "0.416198487095663\n",
            "0.48331477354788266\n",
            "0.5498344352707498\n",
            "0.6157731058639087\n",
            "0.6811457478686078\n",
            "0.745966692414834\n",
            "0.810249675906654\n",
            "0.8740078740118111\n",
            "0.9372539331937721\n",
            "0.06225774829854913\n",
            "0.12403840463596083\n",
            "0.18535277187245036\n",
            "0.24621125123532117\n",
            "0.30662386291807486\n",
            "0.3666002653407556\n",
            "0.42614977317635905\n",
            "0.48528137423856954\n",
            "0.5440037453175304\n",
            "0.6023252670426267\n",
            "0.6602540378443873\n",
            "0.717797887081348\n",
            "0.7749643873921226\n",
            "0.8317608663278477\n",
            "0.8881944173155887\n",
            "0.9442719099991592\n",
            "0.0553851381374173\n",
            "0.11043357914429919\n",
            "0.16515138991167966\n",
            "0.21954445729288707\n",
            "0.27361849549570394\n",
            "0.32737905308881565\n",
            "0.38083151964685946\n",
            "0.43398113205660316\n",
            "0.4868329805051381\n",
            "0.5393920141694561\n",
            "0.5916630466254382\n",
            "0.6436507609929549\n",
            "0.6953597148326587\n",
            "0.7467943448089631\n",
            "0.7979589711327115\n",
            "0.8488578017961039\n",
            "0.8994949366116654\n",
            "0.9498743710661994\n"
          ]
        }
      ]
    },
    {
      "cell_type": "markdown",
      "source": [
        "# Problem 81: Path Sum: Two Ways"
      ],
      "metadata": {
        "id": "LfMRjPPW2Q5R"
      }
    },
    {
      "cell_type": "code",
      "source": [
        "# (file handling inspired) from Problem 22\n",
        "\n",
        "import requests\n",
        "\n",
        "url = \"https://projecteuler.net/resources/documents/0081_matrix.txt\"\n",
        "response = requests.get(url)\n",
        "\n",
        "if response.status_code == 200:\n",
        "    file_content = response.text\n",
        "\n",
        "else:\n",
        "    print(f\"Failed to retrieve file. Status code: {response.status_code}\")\n",
        "\n",
        "prob = file_content.strip()\n",
        "\n",
        "def split(s: str) -> list: # from Problem 18\n",
        "  return list(map(int, s.split(',')))\n",
        "\n",
        "grid = list(map(split, prob.split('\\n')))\n",
        "\n",
        "for i in range(len(grid) - 2, -1, -1):\n",
        "  for j in range(len(grid) - 1, i - 1, -1):\n",
        "      if j == len(grid) - 1:\n",
        "        grid[j][i] += grid[j][i + 1]\n",
        "\n",
        "        if i != j:\n",
        "          grid[i][j] += grid[i + 1][j]\n",
        "\n",
        "      else:\n",
        "        grid[j][i] += min(grid[j + 1][i], grid[j][i + 1])\n",
        "\n",
        "        if i != j:\n",
        "          grid[i][j] += min(grid[i + 1][j], grid[i][j + 1])\n",
        "\n",
        "print(grid[0][0])"
      ],
      "metadata": {
        "colab": {
          "base_uri": "https://localhost:8080/"
        },
        "id": "P7VGCDXs2RMv",
        "outputId": "49100c16-53a2-4a29-e809-0bb29a5ab9ea"
      },
      "execution_count": null,
      "outputs": [
        {
          "output_type": "stream",
          "name": "stdout",
          "text": [
            "427337\n"
          ]
        }
      ]
    },
    {
      "cell_type": "markdown",
      "source": [
        "# Problem 85: Counting Rectangles"
      ],
      "metadata": {
        "id": "c1Wk-df3F0qw"
      }
    },
    {
      "cell_type": "code",
      "source": [
        "'''\n",
        "\n",
        "Brute force with faster termination, ensures convergence in seconds.\n",
        "\n",
        "'''\n",
        "\n",
        "def fac(x): # from Problem 15\n",
        "  prod = 1\n",
        "\n",
        "  for i in range(2, x+1):\n",
        "    prod *= i\n",
        "\n",
        "  return prod\n",
        "\n",
        "def nCr(n, r): # from Problem 53\n",
        "  return fac(n) // fac(r) // fac(n-r)\n",
        "\n",
        "closest = 9e9\n",
        "closestArea = None\n",
        "\n",
        "for i in range(2, 1000):\n",
        "  loopBreaker = False\n",
        "\n",
        "  for j in range(2, i + i):\n",
        "    if loopBreaker:\n",
        "      break\n",
        "\n",
        "    new = nCr(i + 1, 2) * nCr(j + 1, 2)\n",
        "    newClose = abs(new - 2000000)\n",
        "\n",
        "    if new > 2000000:\n",
        "      loopBreaker = True\n",
        "\n",
        "    if newClose < closest:\n",
        "      closest = newClose\n",
        "      closestArea = i * j\n",
        "\n",
        "print(closestArea)"
      ],
      "metadata": {
        "colab": {
          "base_uri": "https://localhost:8080/"
        },
        "id": "UayEWG1FF4p0",
        "outputId": "2a45365c-11be-4bce-c715-0866ef839b86"
      },
      "execution_count": null,
      "outputs": [
        {
          "output_type": "stream",
          "name": "stdout",
          "text": [
            "2772\n"
          ]
        }
      ]
    },
    {
      "cell_type": "markdown",
      "source": [
        "# Problem 92: Square Digit Chains"
      ],
      "metadata": {
        "id": "RFhh0k-cRxdW"
      }
    },
    {
      "cell_type": "code",
      "source": [
        "'''\n",
        "\n",
        "Used while loop instead of recursion to save space; added numArrival dioctionary to reduce computation time.\n",
        "\n",
        "9.0s on Apple MacBook Pro (2021) M1 Pro with Python 3.13.7 on VS Code, 28s on Google Colab (free tier).\n",
        "\n",
        "'''\n",
        "\n",
        "def sqDigit(char: str) -> int:\n",
        "  return int(char) ** 2\n",
        "\n",
        "def sqSum(x):\n",
        "  return sum(list(map(sqDigit, str(x))))\n",
        "\n",
        "count = 0\n",
        "numArrival = dict()\n",
        "\n",
        "for i in range(1, 10000000):\n",
        "  num = i\n",
        "\n",
        "  while not num in [1, 89]:\n",
        "    num = sqSum(num)\n",
        "\n",
        "    if num in numArrival:\n",
        "      num = numArrival[num]\n",
        "\n",
        "  if num == 89:\n",
        "    count += 1\n",
        "\n",
        "  numArrival[i] = num\n",
        "\n",
        "print(count)"
      ],
      "metadata": {
        "colab": {
          "base_uri": "https://localhost:8080/"
        },
        "id": "aAx6z9hUR2XS",
        "outputId": "cdbce939-81ad-407e-9dcc-75c4462aba28"
      },
      "execution_count": null,
      "outputs": [
        {
          "output_type": "stream",
          "name": "stdout",
          "text": [
            "8581146\n"
          ]
        }
      ]
    },
    {
      "cell_type": "markdown",
      "source": [
        "# Problem 93: Arithmetic Expressions (TBD)"
      ],
      "metadata": {
        "id": "vzOC0fv5RKTG"
      }
    },
    {
      "cell_type": "code",
      "source": [],
      "metadata": {
        "id": "Rhj9LsIMRKuE"
      },
      "execution_count": null,
      "outputs": []
    },
    {
      "cell_type": "markdown",
      "source": [
        "# Problem 94: Almost Equilateral Triangles (TBD)"
      ],
      "metadata": {
        "id": "NnUzFAGGKdED"
      }
    },
    {
      "cell_type": "code",
      "source": [
        "upper = 1000000000 // 3 + 1\n",
        "\n",
        "def area(x, b):\n",
        "  '''\n",
        "\n",
        "  Returns the area of an isoceles triangle with isoceles side x and base b.\n",
        "\n",
        "  '''\n",
        "\n",
        "  h = (x ** 2 - (b / 2) ** 2) ** 0.5\n",
        "  return b * h / 2\n",
        "\n",
        "total = 0\n",
        "\n",
        "for i in range(2, upper):\n",
        "  check = {area(i, i - 1) : i - 1, area(i, i + 1) : i + 1}\n",
        "\n",
        "  for triangleArea in check:\n",
        "    if triangleArea % 1 == 0:\n",
        "      total += i * 2 + check[triangleArea]\n",
        "\n",
        "print(total)\n"
      ],
      "metadata": {
        "id": "oFYwUiL6KdT4",
        "colab": {
          "base_uri": "https://localhost:8080/",
          "height": 332
        },
        "outputId": "0ec44bb9-df11-49b4-b74f-dba24b99da88"
      },
      "execution_count": null,
      "outputs": [
        {
          "output_type": "error",
          "ename": "KeyboardInterrupt",
          "evalue": "",
          "traceback": [
            "\u001b[0;31m---------------------------------------------------------------------------\u001b[0m",
            "\u001b[0;31mKeyboardInterrupt\u001b[0m                         Traceback (most recent call last)",
            "\u001b[0;32m/tmp/ipython-input-3012472319.py\u001b[0m in \u001b[0;36m<cell line: 0>\u001b[0;34m()\u001b[0m\n\u001b[1;32m     14\u001b[0m \u001b[0;34m\u001b[0m\u001b[0m\n\u001b[1;32m     15\u001b[0m \u001b[0;32mfor\u001b[0m \u001b[0mi\u001b[0m \u001b[0;32min\u001b[0m \u001b[0mrange\u001b[0m\u001b[0;34m(\u001b[0m\u001b[0;36m2\u001b[0m\u001b[0;34m,\u001b[0m \u001b[0mupper\u001b[0m\u001b[0;34m)\u001b[0m\u001b[0;34m:\u001b[0m\u001b[0;34m\u001b[0m\u001b[0;34m\u001b[0m\u001b[0m\n\u001b[0;32m---> 16\u001b[0;31m   \u001b[0mcheck\u001b[0m \u001b[0;34m=\u001b[0m \u001b[0;34m{\u001b[0m\u001b[0marea\u001b[0m\u001b[0;34m(\u001b[0m\u001b[0mi\u001b[0m\u001b[0;34m,\u001b[0m \u001b[0mi\u001b[0m \u001b[0;34m-\u001b[0m \u001b[0;36m1\u001b[0m\u001b[0;34m)\u001b[0m \u001b[0;34m:\u001b[0m \u001b[0mi\u001b[0m \u001b[0;34m-\u001b[0m \u001b[0;36m1\u001b[0m\u001b[0;34m,\u001b[0m \u001b[0marea\u001b[0m\u001b[0;34m(\u001b[0m\u001b[0mi\u001b[0m\u001b[0;34m,\u001b[0m \u001b[0mi\u001b[0m \u001b[0;34m+\u001b[0m \u001b[0;36m1\u001b[0m\u001b[0;34m)\u001b[0m \u001b[0;34m:\u001b[0m \u001b[0mi\u001b[0m \u001b[0;34m+\u001b[0m \u001b[0;36m1\u001b[0m\u001b[0;34m}\u001b[0m\u001b[0;34m\u001b[0m\u001b[0;34m\u001b[0m\u001b[0m\n\u001b[0m\u001b[1;32m     17\u001b[0m \u001b[0;34m\u001b[0m\u001b[0m\n\u001b[1;32m     18\u001b[0m   \u001b[0;32mfor\u001b[0m \u001b[0mtriangleArea\u001b[0m \u001b[0;32min\u001b[0m \u001b[0mcheck\u001b[0m\u001b[0;34m:\u001b[0m\u001b[0;34m\u001b[0m\u001b[0;34m\u001b[0m\u001b[0m\n",
            "\u001b[0;32m/tmp/ipython-input-3012472319.py\u001b[0m in \u001b[0;36marea\u001b[0;34m(x, b)\u001b[0m\n\u001b[1;32m      1\u001b[0m \u001b[0mupper\u001b[0m \u001b[0;34m=\u001b[0m \u001b[0;36m1000000000\u001b[0m \u001b[0;34m//\u001b[0m \u001b[0;36m3\u001b[0m \u001b[0;34m+\u001b[0m \u001b[0;36m1\u001b[0m\u001b[0;34m\u001b[0m\u001b[0;34m\u001b[0m\u001b[0m\n\u001b[1;32m      2\u001b[0m \u001b[0;34m\u001b[0m\u001b[0m\n\u001b[0;32m----> 3\u001b[0;31m \u001b[0;32mdef\u001b[0m \u001b[0marea\u001b[0m\u001b[0;34m(\u001b[0m\u001b[0mx\u001b[0m\u001b[0;34m,\u001b[0m \u001b[0mb\u001b[0m\u001b[0;34m)\u001b[0m\u001b[0;34m:\u001b[0m\u001b[0;34m\u001b[0m\u001b[0;34m\u001b[0m\u001b[0m\n\u001b[0m\u001b[1;32m      4\u001b[0m   '''\n\u001b[1;32m      5\u001b[0m \u001b[0;34m\u001b[0m\u001b[0m\n",
            "\u001b[0;31mKeyboardInterrupt\u001b[0m: "
          ]
        }
      ]
    },
    {
      "cell_type": "markdown",
      "source": [
        "# Problem 97: Large Non-Mersenne Prime"
      ],
      "metadata": {
        "id": "7hwkYMdjEnoZ"
      }
    },
    {
      "cell_type": "code",
      "source": [
        "print(28433 * 2 ** 7830457 % 10 ** 10 + 1)"
      ],
      "metadata": {
        "colab": {
          "base_uri": "https://localhost:8080/"
        },
        "id": "Kyoq_d-YEoU-",
        "outputId": "79cae169-7cee-4137-84aa-bb5b14587960"
      },
      "execution_count": null,
      "outputs": [
        {
          "output_type": "stream",
          "name": "stdout",
          "text": [
            "8739992577\n"
          ]
        }
      ]
    },
    {
      "cell_type": "markdown",
      "source": [
        "# Problem 99: Largest Exponential"
      ],
      "metadata": {
        "id": "Ikknrqb3CCZu"
      }
    },
    {
      "cell_type": "code",
      "source": [
        "import math\n",
        "\n",
        "# (file handling inspired) from Problem 22\n",
        "\n",
        "import requests\n",
        "\n",
        "url = \"https://projecteuler.net/resources/documents/0099_base_exp.txt\"\n",
        "response = requests.get(url)\n",
        "\n",
        "if response.status_code == 200:\n",
        "    file_content = response.text\n",
        "\n",
        "else:\n",
        "    print(f\"Failed to retrieve file. Status code: {response.status_code}\")\n",
        "\n",
        "prob = file_content\n",
        "\n",
        "def split(s: str) -> list: # from Problem 18\n",
        "  return list(map(int, s.split(',')))\n",
        "\n",
        "numPairList = list(map(split, prob.split('\\n')))\n",
        "\n",
        "largest = -9e9\n",
        "largest_idx = None\n",
        "idx = 1\n",
        "\n",
        "for num, power in numPairList:\n",
        "  new = power * math.log(num)\n",
        "\n",
        "  if new > largest:\n",
        "    largest = new\n",
        "    largest_idx = idx\n",
        "\n",
        "  idx += 1\n",
        "\n",
        "print(largest_idx)"
      ],
      "metadata": {
        "colab": {
          "base_uri": "https://localhost:8080/"
        },
        "id": "LiAcDy_NCEoL",
        "outputId": "14862f44-478d-44e4-c2a7-7cc91a8f85be"
      },
      "execution_count": null,
      "outputs": [
        {
          "output_type": "stream",
          "name": "stdout",
          "text": [
            "709\n"
          ]
        }
      ]
    }
  ]
}